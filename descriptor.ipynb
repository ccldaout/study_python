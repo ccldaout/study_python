{
 "cells": [
  {
   "cell_type": "markdown",
   "metadata": {},
   "source": [
    "# Pythonディスクリプタの理解と応用\n",
    "\n",
    "Pythonのディスクリプタは、言語仕様(Python2.7では 3.4.2.2, 3.4.2.3)で説明されているように、通常の属性値検索を迂回する特殊な機能をもたらす。さらに、この“属性値検索の迂回”に加えて、“属性値の取得”の際にディスクリプタのメソッドが呼び出されるという動的な性質から、計算型の属性値の実現に用いられている。本報告書では、Pythonの2つの特徴(機能)について、自前でのその機能のサブセットをユーザ定義ディスクリプタとして実装するこで、ディスクリプタへの理解を深め、さらに Python 言語にはない、関数のオーバロードを実装することで、ディスクリプタのもつ機動性の高さに触れる。\n",
    "\n",
    "なお、この文書では Python 2.7 を想定する。Python 3.x ではディスクリプタのAPIが若干異なるが基本思想は変わらない。"
   ]
  },
  {
   "cell_type": "markdown",
   "metadata": {},
   "source": [
    "## ディスクリプタのおさらい\n",
    "\n",
    "言語仕様ではクラスがディスクリプタになるため要件について次のように記述されている。\n",
    "\n",
    "> 以下のメソッドは、このメソッドを持つクラス (いわゆる デスクリプタ(descriptor) クラス) のインスタンスが、 オーナー (owner) クラスに存在するときにのみ適用されます (デスクリプタは、オーナーのクラス辞書か、その親のいずれかのクラス辞書になければなりません)。 以下の例では、\"属性\" とは、名前がオーナークラスの `__dict__` のプロパティ (porperty) のキーであるような属性を指します。\n",
    "> \n",
    "> object.\\_\\_get\\_\\_(self, instance, owner)\n",
    ">\n",
    ">     オーナクラスの属性を取得する (クラス属性へのアクセス) 際や、オーナクラスのインスタンスの属性を取得する (インスタンス属性へのアクセス) 場合に呼び出されます。 owner は常にオーナクラスです。一方、 instance は属性へのアクセスを仲介するインスタンスか属性が owner を介してアクセスされる場合は None になります。このメソッドは (計算された) 属性値を返すか、 AttributeError 例外を送出しなければなりません。\n",
    ">\n",
    "> object.\\_\\_set\\_\\_(self, instance, value)\n",
    "> \n",
    ">     オーナクラスのインスタンス instance 上の属性を新たな値 value に設定する際に呼び出されます。\n",
    ">\n",
    "> object.\\_\\_delete\\_\\_(self, instance)\n",
    "> \n",
    ">     オーナクラスのインスタンス instance 上の属性を削除する際に呼び出されます。\n",
    "\n",
    "また\n",
    "\n",
    "> デスクリプタが `__set__()` と `__delete__()` またはそのどちらかを定義していれば、データデスクリプタとなります; もし両方とも定義しなければ、非データデスクリプタです。通常、データデスクリプタでは、 `__get__()` と `__set__()` を定義し、一方、非データデスクリプタには `__get__()` メソッドしかありません。\n",
    "\n",
    "と記載されているように、3つのメソッド全てを実装する必要はないが、実装しているメソッドの種類によってディスクリプタは二種(データと非データ)に分類され、\n",
    "\n",
    "> データデスクリプタは、インスタンス辞書内で属性値が再定義されても、常にこの値をオーバライドします。対照的に、非データデスクリプタの場合には、属性値はインスタンス側でオーバライドされます。\n",
    "\n",
    "とあるようように、それらは属性値の設定に関して挙動が異なる。"
   ]
  },
  {
   "cell_type": "markdown",
   "metadata": {},
   "source": [
    "### 簡単な例\n",
    "\n",
    "まず、簡単な例でディスクリプタの挙動を確認する。最初は非データディスクリプタの定義である。"
   ]
  },
  {
   "cell_type": "code",
   "execution_count": 32,
   "metadata": {
    "collapsed": true
   },
   "outputs": [],
   "source": [
    "class NonDataDescriptor(object):\n",
    "    def __get__(self, instance, owner):\n",
    "        print 'NonDataDescriptor.__get__: instance:', instance, \" owner:\", owner"
   ]
  },
  {
   "cell_type": "markdown",
   "metadata": {},
   "source": [
    "つづいてデータディスクリプタも定義する。"
   ]
  },
  {
   "cell_type": "code",
   "execution_count": 33,
   "metadata": {
    "collapsed": true
   },
   "outputs": [],
   "source": [
    "class DataDescriptor(object):\n",
    "    def __get__(self, instance, owner):\n",
    "        print 'DataDescriptor.__get__: instance:', instance, \" owner:\", owner\n",
    "    def __set__(self, instance, value):\n",
    "        print 'DataDescriptor.__set__: instance:', instance, \" value:\", value"
   ]
  },
  {
   "cell_type": "markdown",
   "metadata": {},
   "source": [
    "ディスクリプタは単独で存在する意義はなく、ディスクリプタになる要件の冒頭に\n",
    "\n",
    "> 以下のメソッドは、このメソッドを持つクラス (いわゆる デスクリプタ(descriptor) クラス) のインスタンスが、 オーナー (owner) クラスに存在するときにのみ適用されます (デスクリプタは、オーナーのクラス辞書か、その親のいずれかのクラス辞書になければなりません)。\n",
    "\n",
    "とあるように、属性値アクセスをカスタマイズしたい目的のクラスに、クラス辞書に含まれる形式で取り込む必要がある。\n",
    "\n",
    "クラス `Test` に属性 `a` と `b` を持たせたいとすると、例えば、\n",
    "```python\n",
    "class Test(object):\n",
    "    def __init__(self):\n",
    "        self.a = None           # 初期値\n",
    "        self.b = None           # 初期値\n",
    "```\n",
    "のように書くことだろう(サブクラスでも挙動を保持するなら `__new__` を使うが)。 \n",
    "この場合、`Test`のインスタンスの属性値である `a` や `b` は属性値を再設定しなければ固定的であり、一方任意に書き換えたり、削除すらも可能である。この挙動を変更するのにディスクリプタが用いられる。\n",
    "\n",
    "先程の要件の冒頭部分は、この `Test` を次のように書き換えることを意味している。"
   ]
  },
  {
   "cell_type": "code",
   "execution_count": 34,
   "metadata": {
    "collapsed": true
   },
   "outputs": [],
   "source": [
    "class Test(object):\n",
    "    a = NonDataDescriptor()\n",
    "    b = DataDescriptor()"
   ]
  },
  {
   "cell_type": "markdown",
   "metadata": {},
   "source": [
    "インスタンスの属性値であるはずの `a` や `b` をクラスの辞書に登録している。一応、確認してみる。"
   ]
  },
  {
   "cell_type": "code",
   "execution_count": 35,
   "metadata": {
    "collapsed": false
   },
   "outputs": [
    {
     "data": {
      "text/plain": [
       "dict_proxy({'__dict__': <attribute '__dict__' of 'Test' objects>,\n",
       "            '__doc__': None,\n",
       "            '__module__': '__main__',\n",
       "            '__weakref__': <attribute '__weakref__' of 'Test' objects>,\n",
       "            'a': <__main__.NonDataDescriptor at 0x401a860>,\n",
       "            'b': <__main__.DataDescriptor at 0x401a278>})"
      ]
     },
     "execution_count": 35,
     "metadata": {},
     "output_type": "execute_result"
    }
   ],
   "source": [
    "Test.__dict__"
   ]
  },
  {
   "cell_type": "markdown",
   "metadata": {},
   "source": [
    "実際に `Test` のインスタンスを作成して属性 `a` にアクセスする。"
   ]
  },
  {
   "cell_type": "code",
   "execution_count": 36,
   "metadata": {
    "collapsed": false
   },
   "outputs": [
    {
     "name": "stdout",
     "output_type": "stream",
     "text": [
      "NonDataDescriptor.__get__: instance: <__main__.Test object at 0x0000000004108EF0>  owner: <class '__main__.Test'>\n"
     ]
    }
   ],
   "source": [
    "t = Test()\n",
    "t.a"
   ]
  },
  {
   "cell_type": "markdown",
   "metadata": {},
   "source": [
    "同様に `b` にアクセスする。"
   ]
  },
  {
   "cell_type": "code",
   "execution_count": 37,
   "metadata": {
    "collapsed": false
   },
   "outputs": [
    {
     "name": "stdout",
     "output_type": "stream",
     "text": [
      "DataDescriptor.__get__: instance: <__main__.Test object at 0x0000000004108EF0>  owner: <class '__main__.Test'>\n"
     ]
    }
   ],
   "source": [
    "t.b"
   ]
  },
  {
   "cell_type": "markdown",
   "metadata": {},
   "source": [
    "どちらも、`NonDataDescriptor`, `DataDescriptor` の `__get__` メソッドが呼び出されたことが確認できた。\n",
    "\n",
    "### 非データディスクリプタとデータディスクリプタとの違い\n",
    "ここで一応、非データディスクリプタとデータディスクリプタとの違いについても確認しておく。\n",
    "再掲すると\n",
    "> 非データデスクリプタの場合には、属性値はインスタンス側でオーバライドされます。\n",
    "\n",
    "そこで、インスタンス `t` の属性 `a` に値を設定してみる。"
   ]
  },
  {
   "cell_type": "code",
   "execution_count": 38,
   "metadata": {
    "collapsed": false
   },
   "outputs": [
    {
     "name": "stdout",
     "output_type": "stream",
     "text": [
      "t.__dict__: {'a': 1}\n"
     ]
    },
    {
     "data": {
      "text/plain": [
       "1"
      ]
     },
     "execution_count": 38,
     "metadata": {},
     "output_type": "execute_result"
    }
   ],
   "source": [
    "t.__dict__['a'] = 1\n",
    "print 't.__dict__:', t.__dict__\n",
    "t.a"
   ]
  },
  {
   "cell_type": "markdown",
   "metadata": {},
   "source": [
    "先程と異なり `t.a` による属性値のアクセスで `NonDataDescriptor.__get__` が呼び出されなくなった。\n",
    "\n",
    "一方で、データディスクリプタに対して同様にすると、"
   ]
  },
  {
   "cell_type": "code",
   "execution_count": 39,
   "metadata": {
    "collapsed": false
   },
   "outputs": [
    {
     "name": "stdout",
     "output_type": "stream",
     "text": [
      "t.__dict__: {'a': 1, 'b': 1}\n",
      "DataDescriptor.__get__: instance: <__main__.Test object at 0x0000000004108EF0>  owner: <class '__main__.Test'>\n"
     ]
    }
   ],
   "source": [
    "t.__dict__['b'] = 1\n",
    "print 't.__dict__:', t.__dict__\n",
    "t.b"
   ]
  },
  {
   "cell_type": "markdown",
   "metadata": {},
   "source": [
    "> データデスクリプタは、インスタンス辞書内で属性値が再定義されても、常にこの値をオーバライドします。\n",
    "\n",
    "とあるように、インスタンス辞書内の属性値を無視して `DataDescriptor.__get__` が呼び出された。なお、この例で、`a` や `b` の属性値の設定に `t.a = 1` としなかったのは、特に `t.b = 1` の場合には `DataDescriptor.__set__` が呼ばれてインスタンス `t` の辞書を書き換えることができないためである。"
   ]
  },
  {
   "cell_type": "markdown",
   "metadata": {},
   "source": [
    "### \\_\\_get\\_\\_ の複雑な挙動\n",
    "\n",
    "ディスクリプタに必要なメソッドのうち `__get__` だけが異様に複雑な仕様となっている。\n",
    "\n",
    "> `object.__get__(self, instance, owner)`\n",
    ">       オーナクラスの属性を取得する (クラス属性へのアクセス) 際や、オーナクラスのインスタンスの属性を取得する (インスタンス属性へのアクセス) 場合に呼び出されます。 owner は常にオーナクラスです。一方、 instance は属性へのアクセスを仲介するインスタンスか属性が owner を介してアクセスされる場合は None になります。このメソッドは (計算された) 属性値を返すか、 AttributeError 例外を送出しなければなりません。\n",
    "\n",
    "ここで言うオーナークラスは、先程の例ではクラス `Test` を意味する。`__get__` メソッドはクラス属性へのアクセスの場合でも、インスタンス属性へのアクセスの場合でも呼び出され、それぞれに応じて `instance` 引数の値が異なる。"
   ]
  },
  {
   "cell_type": "code",
   "execution_count": 40,
   "metadata": {
    "collapsed": false
   },
   "outputs": [
    {
     "name": "stdout",
     "output_type": "stream",
     "text": [
      "NonDataDescriptor.__get__: instance: <__main__.Test object at 0x0000000003F2E128>  owner: <class '__main__.Test'>\n",
      "NonDataDescriptor.__get__: instance: None  owner: <class '__main__.Test'>\n"
     ]
    }
   ],
   "source": [
    "t = Test()\n",
    "t.a\n",
    "Test.a"
   ]
  },
  {
   "cell_type": "markdown",
   "metadata": {},
   "source": [
    "このあと、この挙動の違いが Python の特徴である、結合メソッドオブジェクト・非結合メソッドオブジェクトへ繋がることを確認する。"
   ]
  },
  {
   "cell_type": "markdown",
   "metadata": {},
   "source": [
    "## 関数とメソッドオブジェクト\n",
    "\n",
    "まず単純な例から、関数といわゆるメソッド(クラス属性としての関数)、メソッドオブジェクトとの関係を確認する。"
   ]
  },
  {
   "cell_type": "code",
   "execution_count": 10,
   "metadata": {
    "collapsed": true
   },
   "outputs": [],
   "source": [
    "def function(self, *args):\n",
    "    print 'function: self:', self, ' args:', args\n",
    "    \n",
    "class Test(object):\n",
    "    method = function"
   ]
  },
  {
   "cell_type": "markdown",
   "metadata": {},
   "source": [
    "上の例では、一つのメソッドをもつクラスを定義している。これは、ほぼ、\n",
    "\n",
    "```python\n",
    "class Test(object):\n",
    "    def method(self, *args):\n",
    "        print 'function: self:', self, ' args:', args\n",
    "```\n",
    "\n",
    "と等価であるが、関数定義を `class` 定義の外に出すことで、Pythonでは、他のオブジェクト指向言語でいうところのメソッドと関数に違いがないことを示している。\n",
    "\n",
    "Python において特徴的なのは、メソッド(関数)定義において、メソッドの操作対象となるオブジェクト(他言語ではレシーバと呼ばれたりする)を第一引数で明示的に受けとるということである。通常、その引数は `self` と書かれるが、レシーバがクラスオブジェクトとなる場合は `cls` とか `klass` と書かれることもある。いずれにしろ、引数の名称は言語仕様では規定されない。\n",
    "\n",
    "さて、メソッドの定義においては、レシーバとなるオブジェクトを引数で明示的に受け取るように記述するのであるが、インスタンスオブジェクト `obj` のメソッド `method` を呼び出す場合の構文、`obj.method(...)` では `obj` が暗黙のうちに渡される。一方、`obj` の所属するクラス `C` に対しても `C.method(...)` の形式でメソッド呼び出しができるが、この場合は `method` の第１引数に、`C` (または`C`のサブクラス)のインスタンスを明示的に渡さなければならない。\n",
    "\n",
    "以下、それぞれの例を見る。"
   ]
  },
  {
   "cell_type": "code",
   "execution_count": 11,
   "metadata": {
    "collapsed": false
   },
   "outputs": [
    {
     "name": "stdout",
     "output_type": "stream",
     "text": [
      "<__main__.Test object at 0x000000000401A630>\n",
      "function: self: <__main__.Test object at 0x000000000401A630>  args: ('1st argument',)\n"
     ]
    }
   ],
   "source": [
    "t = Test()\n",
    "print t\n",
    "t.method('1st argument')"
   ]
  },
  {
   "cell_type": "markdown",
   "metadata": {},
   "source": [
    "`method` の第１引数 `self` にレシーバである `t` 自身が渡されていることが確認できる。同じ構文で、`Test.method` を呼び出すと、"
   ]
  },
  {
   "cell_type": "code",
   "execution_count": 12,
   "metadata": {
    "collapsed": false
   },
   "outputs": [
    {
     "ename": "TypeError",
     "evalue": "unbound method function() must be called with Test instance as first argument (got str instance instead)",
     "output_type": "error",
     "traceback": [
      "\u001b[0;31m---------------------------------------------------------------------------\u001b[0m",
      "\u001b[0;31mTypeError\u001b[0m                                 Traceback (most recent call last)",
      "\u001b[0;32m<ipython-input-12-3eddaa574f2c>\u001b[0m in \u001b[0;36m<module>\u001b[0;34m()\u001b[0m\n\u001b[0;32m----> 1\u001b[0;31m \u001b[0mTest\u001b[0m\u001b[1;33m.\u001b[0m\u001b[0mmethod\u001b[0m\u001b[1;33m(\u001b[0m\u001b[1;34m'1st argument'\u001b[0m\u001b[1;33m)\u001b[0m\u001b[1;33m\u001b[0m\u001b[0m\n\u001b[0m",
      "\u001b[0;31mTypeError\u001b[0m: unbound method function() must be called with Test instance as first argument (got str instance instead)"
     ]
    }
   ],
   "source": [
    "Test.method('1st argument')"
   ]
  },
  {
   "cell_type": "markdown",
   "metadata": {},
   "source": [
    "`method` の第１引数が '1st argeument' という文字列であり、`Test` のインスタンスでないためエラーとなる。では、`t` を明示的に渡してみる。"
   ]
  },
  {
   "cell_type": "code",
   "execution_count": 13,
   "metadata": {
    "collapsed": false
   },
   "outputs": [
    {
     "name": "stdout",
     "output_type": "stream",
     "text": [
      "function: self: <__main__.Test object at 0x000000000401A630>  args: ('1st argument',)\n"
     ]
    }
   ],
   "source": [
    "Test.method(t, '1st argument')"
   ]
  },
  {
   "cell_type": "markdown",
   "metadata": {},
   "source": [
    "ちなみに、これは、*ほぼ* `function(t, '1st argument')` と等価である。"
   ]
  },
  {
   "cell_type": "code",
   "execution_count": 14,
   "metadata": {
    "collapsed": false
   },
   "outputs": [
    {
     "name": "stdout",
     "output_type": "stream",
     "text": [
      "function: self: <__main__.Test object at 0x000000000401A630>  args: ('1st argument',)\n"
     ]
    }
   ],
   "source": [
    "function(t, '1st argument')"
   ]
  },
  {
   "cell_type": "markdown",
   "metadata": {},
   "source": [
    "*ほぼ* と書いたのは、`function` の直接呼び出しでは、第１引数が `Test` のインスタンスであることをチェックできないためであり、`Test.method` は `function` とは違うものだからである。"
   ]
  },
  {
   "cell_type": "code",
   "execution_count": 15,
   "metadata": {
    "collapsed": false
   },
   "outputs": [
    {
     "name": "stdout",
     "output_type": "stream",
     "text": [
      "function: self: 1st argument  args: ()\n"
     ]
    }
   ],
   "source": [
    "function('1st argument')"
   ]
  },
  {
   "cell_type": "markdown",
   "metadata": {},
   "source": [
    "`function` (これは、`Test.__dict__['function']` と同じ) と `t.method`、そして `Test.method` との違いを、もう少し掘り下げる。それぞれの型(所属するクラス)と文字列表現を見てみる。"
   ]
  },
  {
   "cell_type": "code",
   "execution_count": 16,
   "metadata": {
    "collapsed": false
   },
   "outputs": [
    {
     "name": "stdout",
     "output_type": "stream",
     "text": [
      "<type 'function'>\n",
      "<function function at 0x0000000002394908>\n",
      "<type 'instancemethod'>\n",
      "<bound method Test.function of <__main__.Test object at 0x000000000401A630>>\n",
      "<type 'instancemethod'>\n",
      "<unbound method Test.function>\n"
     ]
    }
   ],
   "source": [
    "print type(function)\n",
    "print function\n",
    "print type(t.method)\n",
    "print t.method\n",
    "print type(Test.method)\n",
    "print Test.method"
   ]
  },
  {
   "cell_type": "markdown",
   "metadata": {},
   "source": [
    "type()の表示により、`t.method` と `Test.method` は双方とも `instancemethod` と呼ばれるクラスのインスタンス(オブジェクト)となっていることがわかる。いわゆるメソッドオブジェクトだ。type()を通さない文字列表現では、前者は `bound method`(結合メソッド)となっていて、後者は `unbound method`(非結合メソッド)となっている。同じメソッドオブジェクトでも何かが違うということだが、この違いが、`method` 呼び出し時の暗黙の引数の有無に関係していることは想像に難くない。\n",
    "\n",
    "実際 `instancemethod` は `im_self`, `im_class`, `im_func` という属性をもっており、これを調べると、それはすぐに判明する。"
   ]
  },
  {
   "cell_type": "code",
   "execution_count": 17,
   "metadata": {
    "collapsed": false
   },
   "outputs": [
    {
     "name": "stdout",
     "output_type": "stream",
     "text": [
      "<__main__.Test object at 0x000000000401A630>\n",
      "<class '__main__.Test'>\n",
      "<function function at 0x0000000002394908>\n"
     ]
    }
   ],
   "source": [
    "print t.method.im_self\n",
    "print t.method.im_class\n",
    "print t.method.im_func"
   ]
  },
  {
   "cell_type": "code",
   "execution_count": 18,
   "metadata": {
    "collapsed": false
   },
   "outputs": [
    {
     "name": "stdout",
     "output_type": "stream",
     "text": [
      "None\n",
      "<class '__main__.Test'>\n",
      "<function function at 0x0000000002394908>\n"
     ]
    }
   ],
   "source": [
    "print Test.method.im_self\n",
    "print Test.method.im_class\n",
    "print Test.method.im_func"
   ]
  },
  {
   "cell_type": "markdown",
   "metadata": {},
   "source": [
    "`t.method` の方は `im_self` が自身の `t` をもっている。一方 `Test.method` の方は `im_self` が `None` であり、これらの違いがレシーバオブジェクトの暗黙の引き渡しの違いとしてあらわれている。\n",
    "\n",
    "以上の事柄は、言語仕様 3.2.標準型の階層の一部で厳密に記述されている。\n",
    "\n",
    "> ユーザ定義メソッド (user-defined method)\n",
    ">\n",
    ">    ... 中略 ...\n",
    ">\n",
    ">    クラスの属性を (おそらくクラスのインスタンスを介して) 取得する際には、その属性がユーザ定義の関数オブジェクト、非結合 (unbound) のユーザ定義メソッドオブジェクト、あるいはクラスメソッドオブジェクトであれば、ユーザ定義メソッドオブジェクトが生成されることがあります。属性がユーザ定義メソッドオブジェクトの場合、属性を取得する対象のオブジェクトが属するクラスがもとのメソッドオブジェクトが定義されているクラスと同じクラスであるか、またはそのサブクラスであれば、新たなメソッドオブジェクトだけが生成されます。それ以外の場合には、もとのメソッドオブジェクトがそのまま使われます。\n",
    ">\n",
    ">    クラスからユーザ定義関数オブジェクトを取得する方法でユーザ定義メソッドオブジェクトを生成すると、 im_self 属性は None になり、メソッドオブジェクトは非結合 (unbound) であるといいます。クラスのインスタンスからユーザ定義関数オブジェクトを取得する方法でユーザ定義メソッドオブジェクトを生成すると、 im_self 属性はインスタンスになり、メソッドオブジェクトは結合 (bound) であるといいます。どちらの場合も、新たなメソッドの im_class 属性は、メソッドの取得が行われたクラスになり、 im_func 属性はもとの関数オブジェクトになります。\n",
    ">\n",
    ">    クラスやインスタンスから他のユーザ定義メソッドオブジェクトを取得する方法でユーザ定義メソッドオブジェクトを生成した場合、その動作は関数オブジェクトの場合と同様ですが、新たなインスタンスの im_func 属性はもとのメソッドオブジェクトの属性ではなく、新たなインスタンスの属性になります。\n",
    ">\n",
    ">    クラスやインスタンスからクラスメソッドオブジェクトを取得する方法でユーザ定義メソッドオブジェクトを生成した場合、 im_self 属性はクラス自体となり、 im_func 属性はクラスメソッドの根底にある関数オブジェクトになります。\n",
    ">\n",
    ">    非結合ユーザ定義メソッドオブジェクトの呼び出しの際には、根底にある関数 (im_func) が呼び出されます。このとき、最初の引数は適切なクラス (im_class) またはサブクラスのインスタンスでなければならないという制限が課されています。\n",
    ">\n",
    ">    結合ユーザ定義メソッドオブジェクトの呼び出しの際には、根底にある関数 (im_func) が呼び出されます。このとき、クラスインスタンス (im_self) が引数の先頭に挿入されます。例えば、関数 f() の定義が入ったクラスを C とし、 x を C のインスタンスとすると、 x.f(1) の呼び出しは C.f(x, 1) と同じになります。\n",
    ">\n",
    ">    ユーザ定義メソッドオブジェクトがクラスオブジェクトから派生した際、 im_self に記憶されている \"クラスインスタンス\" はクラス自体になります。これは、 x.f(1) や C.f(1) の呼び出しが根底にある関数を f としたときの呼び出し f(C,1) と等価になるようにするためです。\n"
   ]
  },
  {
   "cell_type": "markdown",
   "metadata": {},
   "source": [
    "このように記述すればかなり量になるメソッドオブジェクトの仕様であるが、これらを、「関数オブジェクトを非データディスクリプタとすること」でシンプルに実現している。次節では、関数、インスタンスメソッドの代替となるユーザ定義クラスを構築して、その挙動を再現する。"
   ]
  },
  {
   "cell_type": "markdown",
   "metadata": {},
   "source": [
    "## 私家版の関数オブジェクトとメソッドオブジェクト\n",
    "\n",
    "`instancemethod` と同じような動作をするクラス `MyInstanceMethod` を定義する。これは比較的容易である。\n",
    "\n",
    "- コンストラクタの引数は `instancemethod` に合わせ、根底となる関数、インスタンス、そのインスタンスの所属クラスとする。\n",
    "- `im_self`, `im_class`, `im_func` を模倣する。\n",
    "- `instancemethod` 同様にcallableとする。つまり、`__call__` を実装する。\n",
    "- `__call__` では `im_self` により暗黙の第１引数を渡すかどうかを決定して根底となる関数を呼び出す。"
   ]
  },
  {
   "cell_type": "code",
   "execution_count": 19,
   "metadata": {
    "collapsed": true
   },
   "outputs": [],
   "source": [
    "class MyInstanceMethod(object):\n",
    "    def __init__(self, base_func, instance, owner):\n",
    "        self.im_func = base_func\n",
    "        self.im_self = instance\n",
    "        self.im_class = owner\n",
    "\n",
    "    def __call__(self, *args, **kws):\n",
    "        if self.im_self is None:\n",
    "            if not args or not isinstance(args[0], self.im_class):\n",
    "                raise TypeError('[MY] unbound method require instance of %s as first argument' %\n",
    "                                self.im_class.__name__)\n",
    "            return self.im_func(*args, **kws)\n",
    "        else:\n",
    "            return self.im_func(self.im_self, *args, **kws)\n",
    "\n",
    "    def __repr__(self):\n",
    "        if self.im_self is None:\n",
    "            return '[MY] unbound method (%s.%s)' % (\n",
    "                self.im_class.__name__, self.im_func.__name__)\n",
    "        else:\n",
    "            return '[MY] bound method (%s.%s of %s)' % (\n",
    "                self.im_class.__name__, self.im_func.__name__, str(self.im_self))\n",
    "\n",
    "    __str__ = __repr__"
   ]
  },
  {
   "cell_type": "markdown",
   "metadata": {},
   "source": [
    "さて、次は肝となる私家版関数のクラスである。関数オブジェクトはバイトコードを含むcodeオブジェクトを包むラッパーのような存在である(省略時引数やクロージャ変数は関数オブジェクトに含まれる)。ただ、codeオブジェクトを知っていても、それを引数つきで実行する手段が Python インタープリタ外部には公開されていないため、私家版関数の内部では本来の関数オブジェクトを使用する。ここでは、私家版関数クラスが非データディスクリプタとして定義されることが重要なので、それ以外には目を瞑る。"
   ]
  },
  {
   "cell_type": "code",
   "execution_count": 20,
   "metadata": {
    "collapsed": true
   },
   "outputs": [],
   "source": [
    "class MyFunction(object):\n",
    "    def __init__(self, original_func):\n",
    "        self.__func = original_func\n",
    "\n",
    "    def __getattr__(self, attr):\n",
    "        return getattr(self.__func, attr)\n",
    "\n",
    "    def __call__(self, *args, **kws):\n",
    "        print '[MyFunction]', self.__func.__name__, args, kws\n",
    "        return self.__func(*args, **kws)\n",
    "\n",
    "    def __get__(self, instance, owner):\n",
    "        return MyInstanceMethod(self, instance, owner)"
   ]
  },
  {
   "cell_type": "markdown",
   "metadata": {},
   "source": [
    "`MyFunction` の肝は `__get__` メソッドであり、このメソッドの引数がそのまま `MyInstanceMethodType` に渡っている。\n",
    "<BR>\n",
    "それでは、`Test` クラスを再定義して挙動を確かめる。"
   ]
  },
  {
   "cell_type": "code",
   "execution_count": 21,
   "metadata": {
    "collapsed": true
   },
   "outputs": [],
   "source": [
    "# def myfunctoin(): ... で MyFunction オブジェクトを生成するこはできないので、\n",
    "# 既存の function から MyFunction オブジェクトを生成する。\n",
    "myfunction = MyFunction(function)\n",
    "\n",
    "class Test(object):\n",
    "    method = myfunction\n",
    "\n",
    "t = Test()"
   ]
  },
  {
   "cell_type": "code",
   "execution_count": 22,
   "metadata": {
    "collapsed": false
   },
   "outputs": [
    {
     "name": "stdout",
     "output_type": "stream",
     "text": [
      "[MyFunction] function (<__main__.Test object at 0x00000000040FB748>, '1st arguement') {}\n",
      "function: self: <__main__.Test object at 0x00000000040FB748>  args: ('1st arguement',)\n"
     ]
    }
   ],
   "source": [
    "t.method('1st arguement')"
   ]
  },
  {
   "cell_type": "markdown",
   "metadata": {},
   "source": [
    "`t.method` に対して `MyFunction.__get__(myfunction, t, Test)` が呼ばれるため、`MyInstanceMethod` が(私家版)結合メソッドオブジェクトを生成し、暗黙の第１引数をともなったメソッド呼び出しができている。"
   ]
  },
  {
   "cell_type": "code",
   "execution_count": 23,
   "metadata": {
    "collapsed": false
   },
   "outputs": [
    {
     "ename": "TypeError",
     "evalue": "[MY] unbound method require instance of Test as first argument",
     "output_type": "error",
     "traceback": [
      "\u001b[0;31m---------------------------------------------------------------------------\u001b[0m",
      "\u001b[0;31mTypeError\u001b[0m                                 Traceback (most recent call last)",
      "\u001b[0;32m<ipython-input-23-3eddaa574f2c>\u001b[0m in \u001b[0;36m<module>\u001b[0;34m()\u001b[0m\n\u001b[0;32m----> 1\u001b[0;31m \u001b[0mTest\u001b[0m\u001b[1;33m.\u001b[0m\u001b[0mmethod\u001b[0m\u001b[1;33m(\u001b[0m\u001b[1;34m'1st argument'\u001b[0m\u001b[1;33m)\u001b[0m\u001b[1;33m\u001b[0m\u001b[0m\n\u001b[0m",
      "\u001b[0;32m<ipython-input-19-c27a97486709>\u001b[0m in \u001b[0;36m__call__\u001b[0;34m(self, *args, **kws)\u001b[0m\n\u001b[1;32m      9\u001b[0m             \u001b[1;32mif\u001b[0m \u001b[1;32mnot\u001b[0m \u001b[0margs\u001b[0m \u001b[1;32mor\u001b[0m \u001b[1;32mnot\u001b[0m \u001b[0misinstance\u001b[0m\u001b[1;33m(\u001b[0m\u001b[0margs\u001b[0m\u001b[1;33m[\u001b[0m\u001b[1;36m0\u001b[0m\u001b[1;33m]\u001b[0m\u001b[1;33m,\u001b[0m \u001b[0mself\u001b[0m\u001b[1;33m.\u001b[0m\u001b[0mim_class\u001b[0m\u001b[1;33m)\u001b[0m\u001b[1;33m:\u001b[0m\u001b[1;33m\u001b[0m\u001b[0m\n\u001b[1;32m     10\u001b[0m                 raise TypeError('[MY] unbound method require instance of %s as first argument' %\n\u001b[0;32m---> 11\u001b[0;31m                                 self.im_class.__name__)\n\u001b[0m\u001b[1;32m     12\u001b[0m             \u001b[1;32mreturn\u001b[0m \u001b[0mself\u001b[0m\u001b[1;33m.\u001b[0m\u001b[0mim_func\u001b[0m\u001b[1;33m(\u001b[0m\u001b[1;33m*\u001b[0m\u001b[0margs\u001b[0m\u001b[1;33m,\u001b[0m \u001b[1;33m**\u001b[0m\u001b[0mkws\u001b[0m\u001b[1;33m)\u001b[0m\u001b[1;33m\u001b[0m\u001b[0m\n\u001b[1;32m     13\u001b[0m         \u001b[1;32melse\u001b[0m\u001b[1;33m:\u001b[0m\u001b[1;33m\u001b[0m\u001b[0m\n",
      "\u001b[0;31mTypeError\u001b[0m: [MY] unbound method require instance of Test as first argument"
     ]
    }
   ],
   "source": [
    "Test.method('1st argument')"
   ]
  },
  {
   "cell_type": "markdown",
   "metadata": {},
   "source": [
    "`instancemethod` の場合と同様に、第１引数の型をチェックしている。\n",
    "\n",
    "次のように(私家版)非結合メソッドの呼び出しで `t` を明示的に渡せば仕様通りの振舞いをみせる。"
   ]
  },
  {
   "cell_type": "code",
   "execution_count": 24,
   "metadata": {
    "collapsed": false
   },
   "outputs": [
    {
     "name": "stdout",
     "output_type": "stream",
     "text": [
      "[MyFunction] function (<__main__.Test object at 0x00000000040FB748>, '1st argument') {}\n",
      "function: self: <__main__.Test object at 0x00000000040FB748>  args: ('1st argument',)\n"
     ]
    }
   ],
   "source": [
    "Test.method(t, '1st argument')"
   ]
  },
  {
   "cell_type": "markdown",
   "metadata": {},
   "source": [
    "### classmethod、staticmethod\n",
    "\n",
    "関数デコレータである `classmethod`, `staticmethod` も非データディスクリプタである。ここでは `classmethod` の私家版 `MyClassMethod` を定義しよう。`classmethod` は `instancemethod` と違って callable ではないので、私家版でも `__call__` を実装しない。"
   ]
  },
  {
   "cell_type": "code",
   "execution_count": 26,
   "metadata": {
    "collapsed": true
   },
   "outputs": [],
   "source": [
    "class MyClassMethod(object):\n",
    "    def __init__(self, f):\n",
    "        self.__func = f\n",
    "\n",
    "    def __get__(self, instance, owner):\n",
    "        return MyInstanceMethod(self.__func, owner, type(owner))"
   ]
  },
  {
   "cell_type": "markdown",
   "metadata": {},
   "source": [
    "関数クラスの `__get__` との違いは、クラスメソッドの方は `instance` 引数を無視して、`owner` と `owner` の所属(メタクラスで普通は `type`)を固定的にインスタンスメソッドのコンストラクタに渡すことである。"
   ]
  },
  {
   "cell_type": "code",
   "execution_count": 27,
   "metadata": {
    "collapsed": false
   },
   "outputs": [],
   "source": [
    "class Test(object):\n",
    "    @MyClassMethod\n",
    "    def cmethod(cls, *args):\n",
    "        print 'cmethod: cls:', cls, ' args:', args\n",
    "        \n",
    "t = Test()"
   ]
  },
  {
   "cell_type": "code",
   "execution_count": 28,
   "metadata": {
    "collapsed": false
   },
   "outputs": [
    {
     "name": "stdout",
     "output_type": "stream",
     "text": [
      "cmethod: cls: <class '__main__.Test'>  args: ('1st argument',)\n",
      "cmethod: cls: <class '__main__.Test'>  args: ('1st argument',)\n"
     ]
    }
   ],
   "source": [
    "t.cmethod('1st argument')\n",
    "Test.cmethod('1st argument')"
   ]
  },
  {
   "cell_type": "markdown",
   "metadata": {},
   "source": [
    "`staticmethod` の方は押して知るべしであろう。"
   ]
  },
  {
   "cell_type": "markdown",
   "metadata": {},
   "source": [
    "## 私家版 property の実装\n",
    "\n",
    "組み込みオブジェクト `property` は計算型の属性を容易にクラスに導入する優れもので、ある属性名 `attr` に対する `getter` と `setter` を次のような構文で導入することができる。\n",
    "\n",
    "```python\n",
    "class Test(object):\n",
    "    def __init__(self):\n",
    "        self.__internal_attr = 0\n",
    "       \n",
    "    @property\n",
    "    def attr(self):\n",
    "        return self.__internal_attr\n",
    "    \n",
    "    @attr.setter\n",
    "    def attr(self, value):\n",
    "        self.__internal_attr = value * 1000\n",
    "```\n",
    "\n",
    "この定義により、`attr` は `Test` のデータディスクリプタとして導入される。この `property` もディスクリプタである。そこで、`getter`と`setter`を定義できる私家版プロパティ `MyProperty`を定義してみる。\n",
    "\n",
    "まず、`getter` の導入のみを考慮する。\n",
    "\n",
    "- コンストラクタがデコレータの要件を満たするように、getter となる関数を引数にとる。\n",
    "- ディスクリプタとしての `__get__` を持ち、コンストラクタに指定された getter を呼び出す。"
   ]
  },
  {
   "cell_type": "code",
   "execution_count": 29,
   "metadata": {
    "collapsed": true
   },
   "outputs": [],
   "source": [
    "class MyProperty(object):\n",
    "    def __init__(self, getter):\n",
    "        self.__getter = getter\n",
    "\n",
    "    def __get__(self, instance, owner):\n",
    "        if instance is None:\n",
    "            return self         # instance が None の場合のこの動作は property に合わせたもの\n",
    "        return self.__getter(instance)"
   ]
  },
  {
   "cell_type": "markdown",
   "metadata": {},
   "source": [
    "簡単な例で動作を確認してみる。"
   ]
  },
  {
   "cell_type": "code",
   "execution_count": 31,
   "metadata": {
    "collapsed": false
   },
   "outputs": [
    {
     "data": {
      "text/plain": [
       "'hello'"
      ]
     },
     "execution_count": 31,
     "metadata": {},
     "output_type": "execute_result"
    }
   ],
   "source": [
    "class Test(object):\n",
    "    def __init__(self):\n",
    "        self.__value = 'hello'\n",
    "        \n",
    "    @MyProperty\n",
    "    def attr(self):\n",
    "        return self.__value\n",
    "\n",
    "t = Test()\n",
    "t.attr"
   ]
  },
  {
   "cell_type": "markdown",
   "metadata": {},
   "source": [
    "次に `setter` の導入であるが、`@MyProperty` による `getter` の導入により、上の例の `attr` は既に `MyProperty` のインスタンスとなっていることに注意する。`setter`導入時の\n",
    "\n",
    "```python\n",
    "    @attr.setter\n",
    "    def attr(self, value):\n",
    "        ...\n",
    "\n",
    "```\n",
    "\n",
    "という構文は、`MyProperty` が `setter` という名前のメソッドを持っていて、それが `setter`関数のデコレータとなっているということを意味する。まとめると、`MyProperty` は以下のようになる。"
   ]
  },
  {
   "cell_type": "code",
   "execution_count": 66,
   "metadata": {
    "collapsed": true
   },
   "outputs": [],
   "source": [
    "class MyProperty(object):\n",
    "    def __init__(self, getter):\n",
    "        self.__getter = getter\n",
    "\n",
    "    def __get__(self, instance, owner):\n",
    "        if instance is None:\n",
    "            return self\n",
    "        return self.__getter(instance)\n",
    "    \n",
    "    def setter(self, setter):\n",
    "        self.__setter = setter\n",
    "        return self\n",
    "\n",
    "    def __set__(self, instance, value):\n",
    "        return self.__setter(instance, value)"
   ]
  },
  {
   "cell_type": "markdown",
   "metadata": {},
   "source": [
    "`MyProperty` の `setter` が自身(`self`)を戻すところがミソである。"
   ]
  },
  {
   "cell_type": "code",
   "execution_count": 67,
   "metadata": {
    "collapsed": false
   },
   "outputs": [
    {
     "name": "stdout",
     "output_type": "stream",
     "text": [
      "1\n",
      "2\n",
      "101\n",
      "102\n"
     ]
    }
   ],
   "source": [
    "class Test(object):\n",
    "    def __init__(self):\n",
    "        self.__value = 0\n",
    "        \n",
    "    @MyProperty\n",
    "    def attr(self):\n",
    "        self.__value += 1\n",
    "        return self.__value\n",
    "    \n",
    "    @attr.setter\n",
    "    def attr(self, value):\n",
    "        self.__value = value\n",
    "\n",
    "t = Test()\n",
    "print t.attr\n",
    "print t.attr\n",
    "t.attr = 100\n",
    "print t.attr\n",
    "print t.attr"
   ]
  },
  {
   "cell_type": "markdown",
   "metadata": {},
   "source": [
    "## 関数オーバーロードの実装"
   ]
  },
  {
   "cell_type": "markdown",
   "metadata": {},
   "source": [
    "最後に、`instancemethod` や `property` の私家版の実装から得た知見をもとに、Python言語にはない、関数のオーバーロード機能をディスクリプタを用いて実装してみる。\n",
    "\n",
    "なお、C++などの静的型付け言語での関数オーバロードは、シグネチャ(全ての引数の型)をベースにコンパイル時に解決しているが、Python は動的型付けなので実行時の解決となる。また、関数定義からは引数の型は不明なので、ここでの実装は以下の方針をとる。\n",
    "\n",
    "- オーバロードしたい関数はデコレータを用いて第１引数の型情報を与える。\n",
    "- オーバロードしたい関数が引数をとらない場合は型情報は与えない。\n",
    "- オーバロードの解決は実引数の第１引数の型のみを用いて行う。\n",
    "- 引数なしの関数呼び出しは、型情報のない関数を呼び出す。\n",
    "\n",
    "オーバロードを実現するクラスは `Overload` とし、`property` と似たような以下のような記述を用いるものとする。\n",
    "\n",
    "```python\n",
    "@Overload()\n",
    "def func():\n",
    "  print 'func()'\n",
    "  \n",
    "@func.overload(int)\n",
    "def func(*args):\n",
    "  print 'func(int):', args\n",
    "  \n",
    "@func.overload(str)\n",
    "def func(*args):\n",
    "  print 'func(str):', args\n",
    "```"
   ]
  },
  {
   "cell_type": "markdown",
   "metadata": {},
   "source": [
    "### トップレベル関数に対する Overload (失敗)\n",
    "\n",
    "手始めにトップレベル関数に対して `Overload` を構築してみる。`Overload` のコンストラクタは省略可能な引数 `arg1type` をとり、このデフォルト値を `type(None)` とする。このデフォルト値は、引数なしを意味する。`Overload` クラスでは、第１引数の型と実際のコーラブルオブジェクトとの対応を辞書で管理する。以下のコードが浮ぶであろう。\n",
    "\n",
    "```python\n",
    "class Overload(object):\n",
    "    def __new__(cls, arg1type=type(None)):\n",
    "        self = super(Overload, cls).__new__(cls)\n",
    "        self.__funcs = {}\n",
    "        ...\n",
    "```\n",
    "\n",
    "問題はここからだ。通常の `__new__` は生成したクラスオブジェクトを返却する。この例でも、そのようにするとどうなるか？ 使用例の最初をみると、デコレータの定義から `def func(): ...` の後に `func = (Overload())(func)` が実行されるので以下の仕様が課される。\n",
    "\n",
    "- `Overload` クラスは callable でなければならず `__call__` を持つ。\n",
    "- `__call__` はデコレータとして使われるため、引数を一つだけとり、その引数にはデコレータ機能より `def func(): ...` の `func` が渡される。\n",
    "- `__call__` ではコンストラクタに渡された arg1type の値と `__call__` に渡された関数を `self.__funcs`辞書へ登録する。\n",
    "- `__call__` の結果は `func` に代入され、その後 `@func.overload()` というデコレータとして働かなければならないため、自信を返却する。\n",
    "\n",
    "ここまでを満すコード片は以下のようになる。\n",
    "\n",
    "```python\n",
    "class Overload(object):\n",
    "    def __new__(cls, arg1type=type(None)):\n",
    "        self = super(Overload, cls).__new__(cls)\n",
    "        self.__arg1type = arg1type\n",
    "        self.__funcs = {}\n",
    "        return self\n",
    "\n",
    "    def __call__(self, func):\n",
    "        self.__funcs[self.__arg1type] = func\n",
    "        return self\n",
    "```\n",
    "\n",
    "ところがこの方法では、オーバロード関数の呼び出しができない。先の例では最初のデコレータ使用後に `func()` を呼び出すと、`Overload.__call__` が呼び出されるため、デコレート対象の本来の関数の呼び出しに到達しない。"
   ]
  },
  {
   "cell_type": "markdown",
   "metadata": {},
   "source": [
    "### トップレベル関数に対する Overload\n",
    "\n",
    "`Overload` のコンストラクタの結果が再度デコレータとして呼び出されるために、`__call__` の役割が被ってしまった。`__call__` はオーバーロード関数の呼び出しのためにとっておかなければならない。そこで一旦、コンストラクタとデコレーションを分離してしまって、常に `overload` メソッド(の結果)をデコレータとして使用するとしよう。それは、引数をもつデコレータの一般的な慣習に従う。\n",
    "\n",
    "```python\n",
    "class Overload(object):\n",
    "    ...\n",
    "    def overload(self, arg1type=type(None)):\n",
    "        def _overload(f):\n",
    "            self.__funcs[arg1type] = f\n",
    "            return self\n",
    "        return _overload\n",
    "```\n",
    "\n",
    "`overload` メソッドはデコレータとして呼ばれることになる `_overload` を内部にもち、これを返却する。返却された`_overload` はデコレータ機能から呼び出され、デコレート対象の関数が仮引数 `f` に渡される。`_overload` はクロージャ変数である `arg1type` と `f` の組合せを `self.__funcs` へ登録し、`Overload`インスタンスを返却する。この `Overload` インスタンスはデコレータ機能により再度 `func` へ設定される。\n",
    "\n",
    "この方法であれば、`__call__` をオーバーロード関数の呼び出しとして確保しておくことができる。そして、`__new__` であるが、自身の中で生成した `self` を戻すのでなく、`overload` メソッドの呼び出し結果を戻せば良いのである。これに、`__call__` の実装をまとめると次のようになる。"
   ]
  },
  {
   "cell_type": "code",
   "execution_count": 41,
   "metadata": {
    "collapsed": true
   },
   "outputs": [],
   "source": [
    "class Overload(object):\n",
    "    def __new__(cls, arg1type=type(None)):\n",
    "        self = super(Overload, cls).__new__(cls)\n",
    "        self.__funcs = {}\n",
    "        return self.overload(arg1type)\n",
    "\n",
    "    def overload(self, arg1type=type(None)):\n",
    "        def _overload(f):\n",
    "            self.__funcs[arg1type] = f\n",
    "            return self\n",
    "        return _overload\n",
    "\n",
    "    def __call__(self, *args, **kwargs):\n",
    "        if args:\n",
    "            return self.__funcs[type(args[0])](*args, **kwargs)\n",
    "        else:\n",
    "            return self.__funcs[type(None)](**kwargs)"
   ]
  },
  {
   "cell_type": "markdown",
   "metadata": {},
   "source": [
    "では試してみよう。"
   ]
  },
  {
   "cell_type": "code",
   "execution_count": 42,
   "metadata": {
    "collapsed": false
   },
   "outputs": [
    {
     "name": "stdout",
     "output_type": "stream",
     "text": [
      "func()\n",
      "func(int): (10,)\n",
      "func(str): ('string',)\n"
     ]
    }
   ],
   "source": [
    "@Overload()\n",
    "def func():\n",
    "    print 'func()'\n",
    "\n",
    "@func.overload(int)\n",
    "def func(*args):\n",
    "    print 'func(int):', args\n",
    "\n",
    "@func.overload(str)\n",
    "def func(*args):\n",
    "    print 'func(str):', args\n",
    "\n",
    "func()\n",
    "func(10)\n",
    "func('string')"
   ]
  },
  {
   "cell_type": "markdown",
   "metadata": {},
   "source": [
    "同一の `func` という名前の呼び出しで、引数の型に応じて別々の関数が呼ばれていることが確認できた。"
   ]
  },
  {
   "cell_type": "markdown",
   "metadata": {},
   "source": [
    "### インスタンスメソッドへの適用\n",
    "\n",
    "先程定義して `Overload` はインスタンスメソッドについても動作するだろうか。簡単な例で試してみる。"
   ]
  },
  {
   "cell_type": "code",
   "execution_count": 49,
   "metadata": {
    "collapsed": false,
    "scrolled": true
   },
   "outputs": [
    {
     "ename": "TypeError",
     "evalue": "method() takes exactly 1 argument (0 given)",
     "output_type": "error",
     "traceback": [
      "\u001b[0;31m---------------------------------------------------------------------------\u001b[0m",
      "\u001b[0;31mTypeError\u001b[0m                                 Traceback (most recent call last)",
      "\u001b[0;32m<ipython-input-49-26388072ca92>\u001b[0m in \u001b[0;36m<module>\u001b[0;34m()\u001b[0m\n\u001b[1;32m      5\u001b[0m \u001b[1;33m\u001b[0m\u001b[0m\n\u001b[1;32m      6\u001b[0m \u001b[0mt\u001b[0m \u001b[1;33m=\u001b[0m \u001b[0mTest\u001b[0m\u001b[1;33m(\u001b[0m\u001b[1;33m)\u001b[0m\u001b[1;33m\u001b[0m\u001b[0m\n\u001b[0;32m----> 7\u001b[0;31m \u001b[0mt\u001b[0m\u001b[1;33m.\u001b[0m\u001b[0mmethod\u001b[0m\u001b[1;33m(\u001b[0m\u001b[1;33m)\u001b[0m\u001b[1;33m\u001b[0m\u001b[0m\n\u001b[0m",
      "\u001b[0;32m<ipython-input-41-6cadff1856ea>\u001b[0m in \u001b[0;36m__call__\u001b[0;34m(self, *args, **kwargs)\u001b[0m\n\u001b[1;32m     15\u001b[0m             \u001b[1;32mreturn\u001b[0m \u001b[0mself\u001b[0m\u001b[1;33m.\u001b[0m\u001b[0m__funcs\u001b[0m\u001b[1;33m[\u001b[0m\u001b[0mtype\u001b[0m\u001b[1;33m(\u001b[0m\u001b[0margs\u001b[0m\u001b[1;33m[\u001b[0m\u001b[1;36m0\u001b[0m\u001b[1;33m]\u001b[0m\u001b[1;33m)\u001b[0m\u001b[1;33m]\u001b[0m\u001b[1;33m(\u001b[0m\u001b[1;33m*\u001b[0m\u001b[0margs\u001b[0m\u001b[1;33m,\u001b[0m \u001b[1;33m**\u001b[0m\u001b[0mkwargs\u001b[0m\u001b[1;33m)\u001b[0m\u001b[1;33m\u001b[0m\u001b[0m\n\u001b[1;32m     16\u001b[0m         \u001b[1;32melse\u001b[0m\u001b[1;33m:\u001b[0m\u001b[1;33m\u001b[0m\u001b[0m\n\u001b[0;32m---> 17\u001b[0;31m             \u001b[1;32mreturn\u001b[0m \u001b[0mself\u001b[0m\u001b[1;33m.\u001b[0m\u001b[0m__funcs\u001b[0m\u001b[1;33m[\u001b[0m\u001b[0mtype\u001b[0m\u001b[1;33m(\u001b[0m\u001b[0mNone\u001b[0m\u001b[1;33m)\u001b[0m\u001b[1;33m]\u001b[0m\u001b[1;33m(\u001b[0m\u001b[1;33m**\u001b[0m\u001b[0mkwargs\u001b[0m\u001b[1;33m)\u001b[0m\u001b[1;33m\u001b[0m\u001b[0m\n\u001b[0m",
      "\u001b[0;31mTypeError\u001b[0m: method() takes exactly 1 argument (0 given)"
     ]
    }
   ],
   "source": [
    "class Test(object):\n",
    "    @Overload()\n",
    "    def method(self):\n",
    "        print 'method(): self: ', self\n",
    "\n",
    "t = Test()\n",
    "t.method()"
   ]
  },
  {
   "cell_type": "markdown",
   "metadata": {},
   "source": [
    "案の定エラーとなった。レシーバオブジェクトが第１引数に挿入されないためだ。この理由は簡単で、`Test` の辞書にある `method` は `Overload` のインスタンスであって、`Overload` はディスクリプタでないからだ。このため、`t.method` という属性参照は `Test.__dict__['method']` そのものである、そのオブジェクトに対して空引数での呼び出しを行っているのである。\n",
    "\n",
    "ということは、`Overload` に `__get__` を装備すれば良いということになる。では、`__get__` では何をすれば良いだろうか？ 上の例で考えると `__get__` の返却値に対して空引数での呼び出しが行われるので、`__get__` について以下の要件が課される。\n",
    "\n",
    "- `__get__` は callable オブジェクト を返さねばならない。それを以下、`CO` と記述する。\n",
    "- `CO` に本来の引数が渡るため、そこでオーバーロードの解決をしなければならない。\n",
    "- もし、`t.method` でなく `Test.method` として呼ばれた場合は、`__get__` の `instance` は None であり、`CO` の最初の引数には `Test` のインスタンスが渡されるので、この場合は第2引数をオーバーロード解決に使わなければならない。\n",
    "- 逆に `t.method` で呼ばれた場合は、オーバーロード解決後の関数を呼び出す場合にレシーバオブジェクトを引数の先頭に挿入しなければならない。\n",
    "\n",
    "以上を考慮して、`__get__` は内部関数 `__call_method` を定義して、その関数を返却するだけとして、`__call_method` で上の要件の2番目以降を実装する。`__call_method` はおおむね、以下のようになる。\n",
    "\n",
    "```python\n",
    "    def __get__(self, instance, owner):\n",
    "        def __call_method(*args, **kwargs):\n",
    "            if instance is not None:\n",
    "                args = (instance,) + args\n",
    "            arg1 = args[1] if len(args) > 1 else None\n",
    "            method = self.__funcs[type(arg1)]\n",
    "            return method(*args, **kwargs)\n",
    "        return __call_method\n",
    "```\n",
    "\n",
    "これに、`instance` が `None` の場合に `args[0]` が `onwer` のインスタンスであることのチェックを追加する。"
   ]
  },
  {
   "cell_type": "code",
   "execution_count": 55,
   "metadata": {
    "collapsed": false
   },
   "outputs": [
    {
     "name": "stdout",
     "output_type": "stream",
     "text": [
      "method(): (<__main__.Over object at 0x0000000004131048>,)\n",
      "method(int): (<__main__.Over object at 0x0000000004131048>, 123)\n",
      "method(str): (<__main__.Over object at 0x0000000004131048>, 'method')\n",
      "method(): (<__main__.Over object at 0x0000000004131048>,)\n",
      "method(int): (<__main__.Over object at 0x0000000004131048>, 123)\n",
      "method(str): (<__main__.Over object at 0x0000000004131048>, 'method')\n"
     ]
    }
   ],
   "source": [
    "class Overload(object):\n",
    "    def __new__(cls, arg1type=type(None)):\n",
    "        self = super(Overload, cls).__new__(cls)\n",
    "        self.__funcs = {}\n",
    "        return self.overload(arg1type)\n",
    "\n",
    "    def overload(self, arg1type=type(None)):\n",
    "        def _overload(f):\n",
    "            self.__funcs[arg1type] = f\n",
    "            return self\n",
    "        return _overload\n",
    "\n",
    "    def __call__(self, *args, **kwargs):\n",
    "        if args:\n",
    "            return self.__funcs[type(args[0])](*args, **kwargs)\n",
    "        else:\n",
    "            return self.__funcs[type(None)](**kwargs)\n",
    "\n",
    "    def __get__(self, instance, owner):\n",
    "        def __call_method(*args, **kwargs):\n",
    "            if instance is None:\n",
    "                if not args or not isinstance(args[0], owner):\n",
    "                    raise TypeError('unbound method require instance of %s as first argument' % owner.__name__)\n",
    "            else:\n",
    "                args = (instance,) + args\n",
    "            arg1 = args[1] if len(args) > 1 else None\n",
    "            method = self.__funcs[type(arg1)]\n",
    "            return method(*args, **kwargs)\n",
    "        return __call_method\n",
    "\n",
    "class Over(object):\n",
    "    @Overload()\n",
    "    def method(*args):\n",
    "        print 'method():', args\n",
    "\n",
    "    @method.overload(int)\n",
    "    def method(*args):\n",
    "        print 'method(int):', args\n",
    "\n",
    "    @method.overload(str)\n",
    "    def method(*args):\n",
    "        print 'method(str):', args\n",
    "        \n",
    "ov = Over()\n",
    "ov.method()\n",
    "ov.method(123)\n",
    "ov.method('method')\n",
    "Over.method(ov)\n",
    "Over.method(ov, 123)\n",
    "Over.method(ov, 'method')"
   ]
  },
  {
   "cell_type": "markdown",
   "metadata": {},
   "source": [
    "### クラスメソッドやスタティックメソッドへの対応\n",
    "\n",
    "さて、これで完璧に思えるが、クラスメソッドなどにも通用するだろうか？"
   ]
  },
  {
   "cell_type": "code",
   "execution_count": 58,
   "metadata": {
    "collapsed": false
   },
   "outputs": [
    {
     "ename": "TypeError",
     "evalue": "'classmethod' object is not callable",
     "output_type": "error",
     "traceback": [
      "\u001b[0;31m---------------------------------------------------------------------------\u001b[0m",
      "\u001b[0;31mTypeError\u001b[0m                                 Traceback (most recent call last)",
      "\u001b[0;32m<ipython-input-58-6dc7170df7f7>\u001b[0m in \u001b[0;36m<module>\u001b[0;34m()\u001b[0m\n\u001b[1;32m      6\u001b[0m \u001b[1;33m\u001b[0m\u001b[0m\n\u001b[1;32m      7\u001b[0m \u001b[0mov\u001b[0m \u001b[1;33m=\u001b[0m \u001b[0mOver\u001b[0m\u001b[1;33m(\u001b[0m\u001b[1;33m)\u001b[0m\u001b[1;33m\u001b[0m\u001b[0m\n\u001b[0;32m----> 8\u001b[0;31m \u001b[0mov\u001b[0m\u001b[1;33m.\u001b[0m\u001b[0mcmethod\u001b[0m\u001b[1;33m(\u001b[0m\u001b[1;33m)\u001b[0m\u001b[1;33m\u001b[0m\u001b[0m\n\u001b[0m",
      "\u001b[0;32m<ipython-input-55-0192ba0b00bd>\u001b[0m in \u001b[0;36m__call_method\u001b[0;34m(*args, **kwargs)\u001b[0m\n\u001b[1;32m     26\u001b[0m             \u001b[0marg1\u001b[0m \u001b[1;33m=\u001b[0m \u001b[0margs\u001b[0m\u001b[1;33m[\u001b[0m\u001b[1;36m1\u001b[0m\u001b[1;33m]\u001b[0m \u001b[1;32mif\u001b[0m \u001b[0mlen\u001b[0m\u001b[1;33m(\u001b[0m\u001b[0margs\u001b[0m\u001b[1;33m)\u001b[0m \u001b[1;33m>\u001b[0m \u001b[1;36m1\u001b[0m \u001b[1;32melse\u001b[0m \u001b[0mNone\u001b[0m\u001b[1;33m\u001b[0m\u001b[0m\n\u001b[1;32m     27\u001b[0m             \u001b[0mmethod\u001b[0m \u001b[1;33m=\u001b[0m \u001b[0mself\u001b[0m\u001b[1;33m.\u001b[0m\u001b[0m__funcs\u001b[0m\u001b[1;33m[\u001b[0m\u001b[0mtype\u001b[0m\u001b[1;33m(\u001b[0m\u001b[0marg1\u001b[0m\u001b[1;33m)\u001b[0m\u001b[1;33m]\u001b[0m\u001b[1;33m\u001b[0m\u001b[0m\n\u001b[0;32m---> 28\u001b[0;31m             \u001b[1;32mreturn\u001b[0m \u001b[0mmethod\u001b[0m\u001b[1;33m(\u001b[0m\u001b[1;33m*\u001b[0m\u001b[0margs\u001b[0m\u001b[1;33m,\u001b[0m \u001b[1;33m**\u001b[0m\u001b[0mkwargs\u001b[0m\u001b[1;33m)\u001b[0m\u001b[1;33m\u001b[0m\u001b[0m\n\u001b[0m\u001b[1;32m     29\u001b[0m         \u001b[1;32mreturn\u001b[0m \u001b[0m__call_method\u001b[0m\u001b[1;33m\u001b[0m\u001b[0m\n\u001b[1;32m     30\u001b[0m \u001b[1;33m\u001b[0m\u001b[0m\n",
      "\u001b[0;31mTypeError\u001b[0m: 'classmethod' object is not callable"
     ]
    }
   ],
   "source": [
    "class Over(object):\n",
    "    @Overload()\n",
    "    @classmethod\n",
    "    def cmethod(*args):\n",
    "        print 'cmethod():', args\n",
    "\n",
    "ov = Over()\n",
    "ov.cmethod()"
   ]
  },
  {
   "cell_type": "markdown",
   "metadata": {},
   "source": [
    "そう、`classmethod` オブジェクトは `callable` でないし、そもそも `Overload` はインスタンスメソッドの挙動だけを意識しているため動作しない。`__call_method` は `instance` が `None` でない場合に `instance` を args に挿入しているが、クラスメソッドの場合は `owner` を `args` に挿入しなければならない。\n",
    "\n",
    "さて解決策であるが、そもそも `self.__funcs{}` には、関数、クラスメソッド、スタティックメソッドのいずれかが登録されており、それらは全てディスクリプタであるから、そのディスクリプタの `__get__` を直接呼び出せば良い。そして、`__call_method` はオーバーロードの解決にフォーカスする。最後の課題となるのが、`args` の何番目の引数でオーバーロードを解決するかだ。\n",
    "\n",
    "- `instance` が None でなければ、`args` の第１引数はレシーバオブジェクトではないのでこれを用いる。\n",
    "- `instance` が None の場合、オーバーロードの対象がインスタンスメソッドなら `args[1]` を用い、その他の場合は `args[0]` を用いる。\n",
    "\n",
    "現状、オーバーロードの対象がインスタンスメソッドになるのかそうでないか(クラスメソッド、スタティックメソッド)かは不明なので、`overload` メソッドで登録する際に `_overload` の引数 `f` の素性(`type(f)`)を `self.__ftype` に登録すこととする。そうすれば、`self.__ftype` が `types.FunctionType` であればインスタンスメソッドが対象だと判断できる。これらを考慮すると 新しい `__call_method` は次のようになる。\n",
    "\n",
    "```python\n",
    "    def __get__(self, instance, owner):\n",
    "        def __call_method(*args, **kwargs):\n",
    "            if instance is None and self.__ftype is types.FunctionType:\n",
    "                arg1 = args[1] if len(args) > 1 else None\n",
    "            else:\n",
    "                arg1 = args[0] if args else None\n",
    "            method = self.__funcs[type(arg1)]\n",
    "            return method.__get__(instance, owner)(*args, **kwargs)\n",
    "        return __call_method\n",
    "```\n",
    "\n",
    "`self.__ftype` への登録や、登録時のチェックなどを含めて Overload を再構成する。"
   ]
  },
  {
   "cell_type": "code",
   "execution_count": 1,
   "metadata": {
    "collapsed": true
   },
   "outputs": [],
   "source": [
    "import types\n",
    "\n",
    "class Overload(object):\n",
    "    def __new__(cls, arg1type=type(None)):\n",
    "        self = super(Overload, cls).__new__(cls)\n",
    "        self.__funcs = {}\n",
    "        self.__ftype = None;\n",
    "        return self.overload(arg1type)\n",
    "\n",
    "    def overload(self, arg1type=type(None)):\n",
    "        def _overload(f):\n",
    "            if self.__ftype is None:\n",
    "                self.__ftype = type(f)\n",
    "            elif self.__ftype is not type(f):\n",
    "                raise TypeError('Method type mismatch')\n",
    "            if arg1type in self.__funcs:\n",
    "                raise TypeError('Duplicate overload for type: %s' % type(arg1type))\n",
    "            self.__funcs[arg1type] = f\n",
    "            return self\n",
    "        return _overload\n",
    "\n",
    "    def __call__(self, *args, **kwargs):\n",
    "        if args:\n",
    "            return self.__funcs[type(args[0])](*args, **kwargs)\n",
    "        else:\n",
    "            return self.__funcs[type(None)](**kwargs)\n",
    "\n",
    "    def __get__(self, instance, owner):\n",
    "        def __call_method(*args, **kwargs):\n",
    "            if instance is None and self.__ftype is types.FunctionType:\n",
    "                arg1 = args[1] if len(args) > 1 else None\n",
    "            else:\n",
    "                arg1 = args[0] if args else None\n",
    "            method = self.__funcs[type(arg1)]\n",
    "            return method.__get__(instance, owner)(*args, **kwargs)\n",
    "        return __call_method"
   ]
  },
  {
   "cell_type": "markdown",
   "metadata": {},
   "source": [
    "トップレベルの関数を含めて総合的に動作を確認する。"
   ]
  },
  {
   "cell_type": "code",
   "execution_count": 2,
   "metadata": {
    "collapsed": false
   },
   "outputs": [
    {
     "name": "stdout",
     "output_type": "stream",
     "text": [
      "func()\n",
      "func(int): (10,)\n",
      "func(str): ('string',)\n",
      "method(): (<__main__.Over object at 0x0000000003F38B00>,)\n",
      "method(int): (<__main__.Over object at 0x0000000003F38B00>, 123)\n",
      "method(str): (<__main__.Over object at 0x0000000003F38B00>, 'method')\n",
      "method(): (<__main__.Over object at 0x0000000003F38B00>,)\n",
      "method(int): (<__main__.Over object at 0x0000000003F38B00>, 123)\n",
      "method(str): (<__main__.Over object at 0x0000000003F38B00>, 'method')\n",
      "cmethod(): (<class '__main__.Over'>,)\n",
      "cmethod(int): (<class '__main__.Over'>, 123)\n",
      "cmethod(str): (<class '__main__.Over'>, 'method')\n",
      "cmethod(): (<class '__main__.Over'>,)\n",
      "cmethod(int): (<class '__main__.Over'>, 123)\n",
      "cmethod(str): (<class '__main__.Over'>, 'method')\n",
      "smethod(): ()\n",
      "smethod(int): (123,)\n",
      "smethod(str): ('method',)\n",
      "smethod(): ()\n",
      "smethod(int): (123,)\n",
      "smethod(str): ('method',)\n"
     ]
    }
   ],
   "source": [
    "@Overload()\n",
    "def func():\n",
    "    print 'func()'\n",
    "\n",
    "@func.overload(int)\n",
    "def func(*args):\n",
    "    print 'func(int):', args\n",
    "\n",
    "@func.overload(str)\n",
    "def func(*args):\n",
    "    print 'func(str):', args\n",
    "\n",
    "func()\n",
    "func(10)\n",
    "func('string')\n",
    "\n",
    "class Over(object):\n",
    "    @Overload()\n",
    "    def method(*args):\n",
    "        print 'method():', args\n",
    "\n",
    "    @method.overload(int)\n",
    "    def method(*args):\n",
    "        print 'method(int):', args\n",
    "\n",
    "    @method.overload(str)\n",
    "    def method(*args):\n",
    "        print 'method(str):', args\n",
    "\n",
    "    @Overload()\n",
    "    @classmethod\n",
    "    def cmethod(*args):\n",
    "        print 'cmethod():', args\n",
    "\n",
    "    @cmethod.overload(int)\n",
    "    @classmethod\n",
    "    def cmethod(*args):\n",
    "        print 'cmethod(int):', args\n",
    "\n",
    "    @cmethod.overload(str)\n",
    "    @classmethod\n",
    "    def cmethod(*args):\n",
    "        print 'cmethod(str):', args\n",
    "\n",
    "    @Overload()\n",
    "    @staticmethod\n",
    "    def smethod(*args):\n",
    "        print 'smethod():', args\n",
    "\n",
    "    @smethod.overload(int)\n",
    "    @staticmethod\n",
    "    def smethod(*args):\n",
    "        print 'smethod(int):', args\n",
    "\n",
    "    @smethod.overload(str)\n",
    "    @staticmethod\n",
    "    def smethod(*args):\n",
    "        print 'smethod(str):', args\n",
    "        \n",
    "ov = Over()\n",
    "ov.method()\n",
    "ov.method(123)\n",
    "ov.method('method')\n",
    "Over.method(ov)\n",
    "Over.method(ov, 123)\n",
    "Over.method(ov, 'method')\n",
    "\n",
    "ov.cmethod()\n",
    "ov.cmethod(123)\n",
    "ov.cmethod('method')\n",
    "Over.cmethod()\n",
    "Over.cmethod(123)\n",
    "Over.cmethod('method')\n",
    "\n",
    "ov.smethod()\n",
    "ov.smethod(123)\n",
    "ov.smethod('method')\n",
    "Over.smethod()\n",
    "Over.smethod(123)\n",
    "Over.smethod('method')"
   ]
  },
  {
   "cell_type": "markdown",
   "metadata": {},
   "source": [
    "### 一般のcallableオブジェクトへ\n",
    "\n",
    "この最新の `Overload` では、クラス上でのオーバロードに関して、callableオブジェクトがディスクリプタであることを前提にしていたが、クラスのメンバーが一般の callable オブジェクトである可能性もある。このケースまで対応するなら、`__call_method` の最後の部分で、`method` が `__get__` を持っていれば `__get__` 経由で、そうでなければ `method` を直接呼び出すようにすれば良い。"
   ]
  },
  {
   "cell_type": "markdown",
   "metadata": {},
   "source": [
    "## 最後に\n",
    "\n",
    "これまで、ディスクリプタとデコレータの組み合わせで、Pythonの中核の機能が実現され、さらに関数オーバロードのような新たな言語要素が追加できるのを見た。\n",
    "\n",
    "メソッドオブジェクトの生成やレシーバオブジェクトの引数への挿入など他のプログラミング言語であれば、(コンパイル時あるいはインタープリタで)言語処理系として直接処理されるものであろうし、プロパティなども `getter` や `setter` などの専用の構文を持つだろう。\n",
    "\n",
    "Pythonでは、言語使用全般から見れば非常に小さいAPI仕様のディスクリプタと、これまた非常に単純な糖衣構文であるデコレータとを組み合わせて、大きなしかも互いに無関係な言語要素を実現している。この絶妙な基本要素の選択と、それを用いた言語仕様の構築が Python 言語の醍醐味であり、その設計思想に触れるのは日常的にPythonを使用しないエンジニアにとっても有意義であると考える。"
   ]
  }
 ],
 "metadata": {
  "anaconda-cloud": {},
  "kernelspec": {
   "display_name": "Python [default]",
   "language": "python",
   "name": "python2"
  },
  "language_info": {
   "codemirror_mode": {
    "name": "ipython",
    "version": 2
   },
   "file_extension": ".py",
   "mimetype": "text/x-python",
   "name": "python",
   "nbconvert_exporter": "python",
   "pygments_lexer": "ipython2",
   "version": "2.7.12"
  }
 },
 "nbformat": 4,
 "nbformat_minor": 2
}
