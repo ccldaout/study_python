{
 "cells": [
  {
   "cell_type": "markdown",
   "metadata": {
    "slideshow": {
     "slide_type": "slide"
    }
   },
   "source": [
    "# Pythonの性能とCython"
   ]
  },
  {
   "cell_type": "markdown",
   "metadata": {
    "slideshow": {
     "slide_type": "slide"
    }
   },
   "source": [
    "Python でアプリケーションを作るうえでの懸念事項の一つとして **パフォーマンス** がある。パフォーマンス問題は時間(CPU処理時間)と空間(メモリー使用量)の両方にわたる。ここでは、Pythonスクリプトのパフォーマンスの阻害要因と Cython を用いた改善方法について述べる。パフォーマンスの問題は、ボトルネックを特定したあとアルゴリズムの選択が正しいかどうかの見極めが第一歩であるが、ここでは、それ以降の問題、正しアルゴリズムを効果的に実装するための改善にフォーカスする。"
   ]
  },
  {
   "cell_type": "markdown",
   "metadata": {
    "slideshow": {
     "slide_type": "slide"
    }
   },
   "source": [
    "## より効率的な記述方法\n",
    "\n",
    "Cython に話しを進める前に、まずは pure Python で少しでも効率的になる書き方とその効果を検証してみる。これは、Python の特性を生かしたコーディングであるが、Pythonの実装のうち CPython と呼ばれる標準実装に固有であるケースもあることには留意すること。\n",
    "\n",
    "以下では、関数のバイトコードを見ることがあるので、標準モジュール dis の関数 dis をインポートしておく。"
   ]
  },
  {
   "cell_type": "code",
   "execution_count": 1,
   "metadata": {
    "collapsed": false,
    "slideshow": {
     "slide_type": "-"
    }
   },
   "outputs": [],
   "source": [
    "from dis import dis"
   ]
  },
  {
   "cell_type": "markdown",
   "metadata": {
    "slideshow": {
     "slide_type": "subslide"
    }
   },
   "source": [
    "### リスト生成方法の比較\n",
    "\n",
    "Python で list は頻繁に使用されるツールの代表である。この list の生成コストを、3つの方法で比べる。\n",
    "- ls_append: list オブジェクトの append メソッドで一要素ずつ追加。\n",
    "- ls_generator: ジェネレータ関数を定義して、list 関数にジェネレータオブジェクトを渡す。\n",
    "- ls_inner: リスト内包表記を使う。"
   ]
  },
  {
   "cell_type": "code",
   "execution_count": 2,
   "metadata": {
    "collapsed": true
   },
   "outputs": [],
   "source": [
    "def ls_append(n):\n",
    "    s = []\n",
    "    for i in xrange(n):\n",
    "        s.append(i)\n",
    "        \n",
    "def ls_generator(n):\n",
    "    def nup(n):\n",
    "        for i in xrange(n):\n",
    "            yield i\n",
    "    list(nup(n))\n",
    "    \n",
    "def ls_inner(n):\n",
    "    [i for i in xrange(n)]"
   ]
  },
  {
   "cell_type": "markdown",
   "metadata": {},
   "source": [
    "こらの関数を %timeit マジックコマンドで処理時間を測定する。"
   ]
  },
  {
   "cell_type": "code",
   "execution_count": 3,
   "metadata": {
    "collapsed": false,
    "slideshow": {
     "slide_type": "fragment"
    }
   },
   "outputs": [
    {
     "name": "stdout",
     "output_type": "stream",
     "text": [
      "1000 loops, best of 3: 719 µs per loop\n",
      "1000 loops, best of 3: 443 µs per loop\n",
      "1000 loops, best of 3: 256 µs per loop\n"
     ]
    }
   ],
   "source": [
    "for f in [ls_append, ls_generator, ls_inner]:\n",
    "    %timeit f(10000)"
   ]
  },
  {
   "cell_type": "markdown",
   "metadata": {},
   "source": [
    "リファレンスなどでも推奨されているようにリスト内包表記が際立っていることがわかる。この違いがどこにあるのかバイトコードから追ってみる。\n",
    "\n",
    "まずは ls_append:"
   ]
  },
  {
   "cell_type": "code",
   "execution_count": 4,
   "metadata": {
    "collapsed": false
   },
   "outputs": [
    {
     "name": "stdout",
     "output_type": "stream",
     "text": [
      "  2           0 BUILD_LIST               0\n",
      "              3 STORE_FAST               1 (s)\n",
      "\n",
      "  3           6 SETUP_LOOP              33 (to 42)\n",
      "              9 LOAD_GLOBAL              0 (xrange)\n",
      "             12 LOAD_FAST                0 (n)\n",
      "             15 CALL_FUNCTION            1\n",
      "             18 GET_ITER            \n",
      "        >>   19 FOR_ITER                19 (to 41)\n",
      "             22 STORE_FAST               2 (i)\n",
      "\n",
      "  4          25 LOAD_FAST                1 (s)\n",
      "             28 LOAD_ATTR                1 (append)\n",
      "             31 LOAD_FAST                2 (i)\n",
      "             34 CALL_FUNCTION            1\n",
      "             37 POP_TOP             \n",
      "             38 JUMP_ABSOLUTE           19\n",
      "        >>   41 POP_BLOCK           \n",
      "        >>   42 LOAD_CONST               0 (None)\n",
      "             45 RETURN_VALUE        \n"
     ]
    }
   ],
   "source": [
    "dis(ls_append)"
   ]
  },
  {
   "cell_type": "markdown",
   "metadata": {},
   "source": [
    "19 FOR_ITER から 38 JUMP_ABSOLUTE までがループの本体である。このループ本体内で毎度 28 LOAD_ATTR によるメソッドの検索が行なわれているが、これは間違いなくオーバーヘッドである。そこで、この点を改善した ls_append2 を定義してみた。"
   ]
  },
  {
   "cell_type": "code",
   "execution_count": 5,
   "metadata": {
    "collapsed": true
   },
   "outputs": [],
   "source": [
    "def ls_append2(n):\n",
    "    s = []\n",
    "    a = s.append\n",
    "    for i in xrange(n):\n",
    "        a(i)"
   ]
  },
  {
   "cell_type": "code",
   "execution_count": 6,
   "metadata": {
    "collapsed": false,
    "slideshow": {
     "slide_type": "fragment"
    }
   },
   "outputs": [
    {
     "name": "stdout",
     "output_type": "stream",
     "text": [
      "1000 loops, best of 3: 396 µs per loop\n"
     ]
    }
   ],
   "source": [
    "for f in [ls_append2]:\n",
    "    %timeit f(10000)"
   ]
  },
  {
   "cell_type": "markdown",
   "metadata": {},
   "source": [
    "実測としても ls_append よりも改善した事がはっきりわかる。この事はメソッド探索のオーバヘッドの大きさを示している。しかし、内包表記には及ばない。今度は ls_append2 と ls_inner のバイトコードを比較してみる。"
   ]
  },
  {
   "cell_type": "code",
   "execution_count": 7,
   "metadata": {
    "collapsed": false
   },
   "outputs": [
    {
     "name": "stdout",
     "output_type": "stream",
     "text": [
      "  2           0 BUILD_LIST               0\n",
      "              3 STORE_FAST               1 (s)\n",
      "\n",
      "  3           6 LOAD_FAST                1 (s)\n",
      "              9 LOAD_ATTR                0 (append)\n",
      "             12 STORE_FAST               2 (a)\n",
      "\n",
      "  4          15 SETUP_LOOP              30 (to 48)\n",
      "             18 LOAD_GLOBAL              1 (xrange)\n",
      "             21 LOAD_FAST                0 (n)\n",
      "             24 CALL_FUNCTION            1\n",
      "             27 GET_ITER            \n",
      "        >>   28 FOR_ITER                16 (to 47)\n",
      "             31 STORE_FAST               3 (i)\n",
      "\n",
      "  5          34 LOAD_FAST                2 (a)\n",
      "             37 LOAD_FAST                3 (i)\n",
      "             40 CALL_FUNCTION            1\n",
      "             43 POP_TOP             \n",
      "             44 JUMP_ABSOLUTE           28\n",
      "        >>   47 POP_BLOCK           \n",
      "        >>   48 LOAD_CONST               0 (None)\n",
      "             51 RETURN_VALUE        \n"
     ]
    }
   ],
   "source": [
    "dis(ls_append2)"
   ]
  },
  {
   "cell_type": "code",
   "execution_count": 8,
   "metadata": {
    "collapsed": false,
    "slideshow": {
     "slide_type": "fragment"
    }
   },
   "outputs": [
    {
     "name": "stdout",
     "output_type": "stream",
     "text": [
      " 13           0 BUILD_LIST               0\n",
      "              3 LOAD_GLOBAL              0 (xrange)\n",
      "              6 LOAD_FAST                0 (n)\n",
      "              9 CALL_FUNCTION            1\n",
      "             12 GET_ITER            \n",
      "        >>   13 FOR_ITER                12 (to 28)\n",
      "             16 STORE_FAST               1 (i)\n",
      "             19 LOAD_FAST                1 (i)\n",
      "             22 LIST_APPEND              2\n",
      "             25 JUMP_ABSOLUTE           13\n",
      "        >>   28 POP_TOP             \n",
      "             29 LOAD_CONST               0 (None)\n",
      "             32 RETURN_VALUE        \n"
     ]
    }
   ],
   "source": [
    "dis(ls_inner)"
   ]
  },
  {
   "cell_type": "markdown",
   "metadata": {},
   "source": [
    "異なるのは、ls_append2 の\n",
    "\n",
    "    34 LOAD_FAST                2 (a)\n",
    "    37 LOAD_FAST                3 (i)\n",
    "    40 CALL_FUNCTION            1\n",
    "    43 POP_TOP             \n",
    "             \n",
    "と ls_inner の\n",
    "\n",
    "    19 LOAD_FAST                1 (i)\n",
    "    22 LIST_APPEND              2\n",
    "\n",
    "の箇所である。ls_append2 は一般的な CALL_FUNCTION 命令に対して、ls_inner は LIST_APPEND という list オブジェクトに特化した命令である。前者の CALL_FUNCTION 命令ではメソッドオブジェクトから self 引数のとりだし、引数チェックなどが行なわれるが、後者は直ちに PyList_Append を呼び出す。この汎用的動作と特殊化した動作との違いがパフォーマンスとなって現われる。"
   ]
  },
  {
   "cell_type": "markdown",
   "metadata": {
    "slideshow": {
     "slide_type": "subslide"
    }
   },
   "source": [
    "### 組み込み名、グローバル変数、ローカル変数の参照コスト\n",
    "\n",
    "ls_append2 の例では、ローカル変数にメソッドオブジェクト(への参照)をキャッシュすることで属性探索のコストを回避できることを見た。ここでは、組み込みの名前やグローバル変数、ローカル変数からオブジェクトへアクセスする際のコストの違いを調べる。"
   ]
  },
  {
   "cell_type": "markdown",
   "metadata": {},
   "source": [
    "組み込み関数の type へのリファレンスを取得する3つの関数を `t0`, `t1`, `t2` を定義してその処理時間を計測する。それぞれの関数の特徴は以下のようになっている。\n",
    "\n",
    "- t0: 組み込み名の `type` のままアクセス。\n",
    "- t1: 一度モジュールのグローバル変数 `g_type` に type への参照を保持して `g_type` によるアクセス。\n",
    "- t2: 関数のローカル変数 `t` に type への参照を保持して `t` によるアクセス。"
   ]
  },
  {
   "cell_type": "code",
   "execution_count": 9,
   "metadata": {
    "collapsed": false,
    "slideshow": {
     "slide_type": "fragment"
    }
   },
   "outputs": [
    {
     "name": "stdout",
     "output_type": "stream",
     "text": [
      "10 loops, best of 3: 30 ms per loop\n",
      "10 loops, best of 3: 26.6 ms per loop\n",
      "10 loops, best of 3: 19.9 ms per loop\n",
      "100 loops, best of 3: 13.3 ms per loop\n"
     ]
    }
   ],
   "source": [
    "g_type = type\n",
    "def t0(n):\n",
    "    for _ in xrange(n):\n",
    "        type              # builtin\n",
    "def t1(n):\n",
    "    for _ in xrange(n):\n",
    "        g_type            # module global\n",
    "def t2(n):\n",
    "    t = type\n",
    "    for _ in xrange(n):\n",
    "        t                 # local\n",
    "def t3(n):\n",
    "    for _ in xrange(n):\n",
    "        pass             # do nothing\n",
    "\n",
    "n = 1000000\n",
    "for t in [t0, t1, t2, t3]:\n",
    "    %timeit t(n)"
   ]
  },
  {
   "cell_type": "markdown",
   "metadata": {},
   "source": [
    "この結果から、t0, t1, t2 での名前解決のコストはそれぞれ 19ms, 14ms, 7ms とわかった。まず、t0 と t1 の違いであるが、以下のようにバイトコードは同一である。"
   ]
  },
  {
   "cell_type": "code",
   "execution_count": 10,
   "metadata": {
    "collapsed": false
   },
   "outputs": [
    {
     "name": "stdout",
     "output_type": "stream",
     "text": [
      "  3           0 SETUP_LOOP              24 (to 27)\n",
      "              3 LOAD_GLOBAL              0 (xrange)\n",
      "              6 LOAD_FAST                0 (n)\n",
      "              9 CALL_FUNCTION            1\n",
      "             12 GET_ITER            \n",
      "        >>   13 FOR_ITER                10 (to 26)\n",
      "             16 STORE_FAST               1 (_)\n",
      "\n",
      "  4          19 LOAD_GLOBAL              1 (type)\n",
      "             22 POP_TOP             \n",
      "             23 JUMP_ABSOLUTE           13\n",
      "        >>   26 POP_BLOCK           \n",
      "        >>   27 LOAD_CONST               0 (None)\n",
      "             30 RETURN_VALUE        \n"
     ]
    }
   ],
   "source": [
    "dis(t0)"
   ]
  },
  {
   "cell_type": "code",
   "execution_count": 11,
   "metadata": {
    "collapsed": false
   },
   "outputs": [
    {
     "name": "stdout",
     "output_type": "stream",
     "text": [
      "  6           0 SETUP_LOOP              24 (to 27)\n",
      "              3 LOAD_GLOBAL              0 (xrange)\n",
      "              6 LOAD_FAST                0 (n)\n",
      "              9 CALL_FUNCTION            1\n",
      "             12 GET_ITER            \n",
      "        >>   13 FOR_ITER                10 (to 26)\n",
      "             16 STORE_FAST               1 (_)\n",
      "\n",
      "  7          19 LOAD_GLOBAL              1 (g_type)\n",
      "             22 POP_TOP             \n",
      "             23 JUMP_ABSOLUTE           13\n",
      "        >>   26 POP_BLOCK           \n",
      "        >>   27 LOAD_CONST               0 (None)\n",
      "             30 RETURN_VALUE        \n"
     ]
    }
   ],
   "source": [
    "dis(t1)"
   ]
  },
  {
   "cell_type": "markdown",
   "metadata": {},
   "source": [
    "どちらも 19 LOAD_GLOBAL によって名前の解決を行っている。実行時のこれらの違いは LOAD_GLOBAL の動作による。LOAD_GLOBAL はグローバル辞書を検索して見つからなかった場合に組み込みの辞書を検索する。t0 では二つの辞書を検索しているため遅くなっているのである。\n",
    "\n",
    "次に t2 のバイトコードであるが、LOAD_GLOBAL ではなく 25 LOAD_FAST になっている。"
   ]
  },
  {
   "cell_type": "code",
   "execution_count": 12,
   "metadata": {
    "collapsed": false,
    "slideshow": {
     "slide_type": "fragment"
    }
   },
   "outputs": [
    {
     "name": "stdout",
     "output_type": "stream",
     "text": [
      "  9           0 LOAD_GLOBAL              0 (type)\n",
      "              3 STORE_FAST               1 (t)\n",
      "\n",
      " 10           6 SETUP_LOOP              24 (to 33)\n",
      "              9 LOAD_GLOBAL              1 (xrange)\n",
      "             12 LOAD_FAST                0 (n)\n",
      "             15 CALL_FUNCTION            1\n",
      "             18 GET_ITER            \n",
      "        >>   19 FOR_ITER                10 (to 32)\n",
      "             22 STORE_FAST               2 (_)\n",
      "\n",
      " 11          25 LOAD_FAST                1 (t)\n",
      "             28 POP_TOP             \n",
      "             29 JUMP_ABSOLUTE           19\n",
      "        >>   32 POP_BLOCK           \n",
      "        >>   33 LOAD_CONST               0 (None)\n",
      "             36 RETURN_VALUE        \n"
     ]
    }
   ],
   "source": [
    "dis(t2)"
   ]
  },
  {
   "cell_type": "markdown",
   "metadata": {},
   "source": [
    "この LOAD_FAST が、その名前の通りに高速な名前解決を行う。関数のローカル変数は関数を実行する際の frameobject に配列の形式で保持されていて、ローカル変数の名前と配列のインデックスとの対応はバイトコード生成時に解決される。上のバイトコードには LOAD_FAST が二箇所でてくるが、LOAD_FAST の後にある 0 あるいは 1 が LOAD_FAST のオペランドで配列のインデックスを意味している。\n",
    "\n",
    "ローカル変数 t については、3 STORE FAST 1 で、\n",
    "```C\n",
    "frameobject->f_localsplus[1] = typeオブジェクトのアドレス;\n",
    "```\n",
    "とされたあと、25 LOAD_FAST 1 で、\n",
    "```C\n",
    "*スタックの先頭 = frameobject->f_localsplus[1];\n",
    "```\n",
    "として名前の解決を行うため高速なのである。"
   ]
  },
  {
   "cell_type": "markdown",
   "metadata": {
    "slideshow": {
     "slide_type": "subslide"
    }
   },
   "source": [
    "### スペシャルメソッド検索の特異性\n",
    "\n",
    "Python のスペシャルメソッド（\\_\\_xxx\\_\\_ の形式のメソッド）の多くは、加減乗除やシーケンスのスライスなど Python の演算子と強く結びついている。例えば、a * b に対して本質的に a.\\_\\_mul\\_\\_(b) が実行される。ただし、演算子としての記述から特殊メソッドを呼び出す場合と明示的に特殊メソッドを呼び出す場合とでは処理時間が異なる。加算を例に測定してみる。"
   ]
  },
  {
   "cell_type": "code",
   "execution_count": 13,
   "metadata": {
    "collapsed": false,
    "slideshow": {
     "slide_type": "fragment"
    }
   },
   "outputs": [
    {
     "name": "stdout",
     "output_type": "stream",
     "text": [
      "10 loops, best of 3: 41.1 ms per loop\n",
      "10 loops, best of 3: 140 ms per loop\n"
     ]
    }
   ],
   "source": [
    "def t1(n):\n",
    "    for _ in xrange(n):\n",
    "        n * 2\n",
    "def t2(n):\n",
    "    for _ in xrange(n):\n",
    "        n.__mul__(2)\n",
    "n = 1000000\n",
    "for t in [t1, t2]:\n",
    "    %timeit t(n)"
   ]
  },
  {
   "cell_type": "markdown",
   "metadata": {},
   "source": [
    "どちらも最終的に \\_\\_mul\\_\\_ メソッドが呼び出されるが処理時間は圧倒的に演算子の方が早い。まずは、それぞれの関数のバイトコードを見る。"
   ]
  },
  {
   "cell_type": "code",
   "execution_count": 14,
   "metadata": {
    "collapsed": false
   },
   "outputs": [
    {
     "name": "stdout",
     "output_type": "stream",
     "text": [
      "  2           0 SETUP_LOOP              28 (to 31)\n",
      "              3 LOAD_GLOBAL              0 (xrange)\n",
      "              6 LOAD_FAST                0 (n)\n",
      "              9 CALL_FUNCTION            1\n",
      "             12 GET_ITER            \n",
      "        >>   13 FOR_ITER                14 (to 30)\n",
      "             16 STORE_FAST               1 (_)\n",
      "\n",
      "  3          19 LOAD_FAST                0 (n)\n",
      "             22 LOAD_CONST               1 (2)\n",
      "             25 BINARY_MULTIPLY     \n",
      "             26 POP_TOP             \n",
      "             27 JUMP_ABSOLUTE           13\n",
      "        >>   30 POP_BLOCK           \n",
      "        >>   31 LOAD_CONST               0 (None)\n",
      "             34 RETURN_VALUE        \n"
     ]
    }
   ],
   "source": [
    "dis(t1)"
   ]
  },
  {
   "cell_type": "code",
   "execution_count": 15,
   "metadata": {
    "collapsed": false,
    "slideshow": {
     "slide_type": "fragment"
    }
   },
   "outputs": [
    {
     "name": "stdout",
     "output_type": "stream",
     "text": [
      "  5           0 SETUP_LOOP              33 (to 36)\n",
      "              3 LOAD_GLOBAL              0 (xrange)\n",
      "              6 LOAD_FAST                0 (n)\n",
      "              9 CALL_FUNCTION            1\n",
      "             12 GET_ITER            \n",
      "        >>   13 FOR_ITER                19 (to 35)\n",
      "             16 STORE_FAST               1 (_)\n",
      "\n",
      "  6          19 LOAD_FAST                0 (n)\n",
      "             22 LOAD_ATTR                1 (__mul__)\n",
      "             25 LOAD_CONST               1 (2)\n",
      "             28 CALL_FUNCTION            1\n",
      "             31 POP_TOP             \n",
      "             32 JUMP_ABSOLUTE           13\n",
      "        >>   35 POP_BLOCK           \n",
      "        >>   36 LOAD_CONST               0 (None)\n",
      "             39 RETURN_VALUE        \n"
     ]
    }
   ],
   "source": [
    "dis(t2)"
   ]
  },
  {
   "cell_type": "markdown",
   "metadata": {},
   "source": [
    "t2 の方はこれまでにも出てきた LOAD_ATTR + CALL_FUNCTION であるが、t1 の方は BINARY_MULTIPLY になっている。LOAD_ATTR では検索する名前がスペシャルメソッドの `__add__` であっても通常の属性探索（n の指すインスタンス辞書、n のクラスの継承ツリー）が行なわれる。\n",
    "\n",
    "一方、BINARY_MULTIPLY では n の指すインスタンス辞書を見ることも継承ツリーによる属性探索もなく PyNumber_Multiply を呼びだす。この関数では n の指すインスタンスが数値演算を実装していれば\n",
    "```\n",
    "(nの指すインスタンス)->ob_type->tp_as_number->nb_multiply(...)\n",
    "```\n",
    "を呼び出すため処理時間が短くなる。\n",
    "\n",
    "#### 【参考】スペシャルメソッドの暗黙の使用で継承ツリーをたどる必要のない理由\n",
    "スペシャルメソッドはクラスが C実装による組み込み型であるか、Pythonスクリプトで定義されたかによらず、必ず PyTypeObject (これはクラスのCによる内部実装)から辿れる構造体メンバー(関数ポインタ)として有効な関数のアドレスが設定されるようになっている。Python内部ではこの関数ポインタを保持するメンバーをスロット(slot)と呼んでいる。\n",
    "\n",
    "クラスの定義時に親クラスから継承されるスロットは全てコピーされる。また、クラス生成後に、親クラスのクラス属性が変更された場合に、スロットが変更されていればそれを子孫のクラスに再反映するようになっている。このメカニズムによって、スペシャルメソッドの(暗黙の呼び出しによる)継承ツリーの検索を排除している。（ということは、クラス属性の変更はインスタンス属性の変更よりも負荷が大きいことを意味する）"
   ]
  },
  {
   "cell_type": "markdown",
   "metadata": {
    "slideshow": {
     "slide_type": "subslide"
    }
   },
   "source": [
    "### スライスとmemoryview\n",
    "\n",
    "最後に空間パフォーマンスへの影響が大きい、シーケンスオブジェクトのスライス操作について述べる。文字列やリストのスライス操作は Python ではごく一般的に使用される。良く知られているように、これら代表的な二つのオブジェクトのスライス操作では、新しいオブジェクト(文字列やリスト)が再生されるが、その意味は文字列であれば byte 列、list であればオブジェクトを格納する配列が新規に作成されるということである。これは、一つのオブジェクトから大量のスライス演算をする場合に予想外の問題を引き起こす可能性を示唆する。\n",
    "\n",
    "スライス操作で背景となるオブジェクトのバイト列を共有する方法として古くは buffer 関数が、Python 2.7 からは memoryview という機能が導入された。まずは、巨大なシーケンスから先頭を一つずつずらしたシーケンスを生成するコードで、単純なスライス演算と memoryview を介した場合の処理時間を比較する。"
   ]
  },
  {
   "cell_type": "code",
   "execution_count": 16,
   "metadata": {
    "collapsed": false
   },
   "outputs": [
    {
     "name": "stdout",
     "output_type": "stream",
     "text": [
      "100 loops, best of 3: 14 ms per loop\n",
      "1 loop, best of 3: 322 ms per loop\n"
     ]
    }
   ],
   "source": [
    "N = 100000\n",
    "S = '*' * N\n",
    "\n",
    "def t1(s):\n",
    "    m = memoryview(s)\n",
    "    for i in xrange(N):\n",
    "        m = m[1:]\n",
    "def t2(s):\n",
    "    for i in xrange(N):\n",
    "        s = s[1:]\n",
    "        \n",
    "for t in [t1, t2]:\n",
    "    %timeit t(S)"
   ]
  },
  {
   "cell_type": "markdown",
   "metadata": {},
   "source": [
    "この違いについてはあまり述べることはない。t1 の memoryview は s の指す文字列オブジェクトの土台となるバイト列(これはもはや Python上のオブジェクトではない)への参照を保持する memoryview オブジェクトを生成する。memoryview オブジェクトのスライス演算では、あくまで土台となるバイト列の参照位置(インデックス)を調整した新しい memoryview オブジェクトを戻すだけなので、文字列のスライス演算に対して非常に軽い処理となっている。これがそのまま処理時間として反映されている。"
   ]
  },
  {
   "cell_type": "markdown",
   "metadata": {},
   "source": [
    "memoryview はネットワークソケットへの書き込みなどのように、バッファの一部分しか書き込めない可能性のある処理に向いている。ただし、上の例のような 1 要素ずつスライスをずらしていくような事は稀であるので、実際の性能のアドバンテージは僅かかもしれない。"
   ]
  },
  {
   "cell_type": "markdown",
   "metadata": {},
   "source": [
    "#### 今ひとつな memoryview\n",
    "\n",
    "効率を上げる方法として memoryview を紹介したが、もともと memoryview を試したきっかけとなった問題について、結果的に解決策とはならなかった事例を紹介する。それは、接尾辞配列(Suffix Array)の構築である。Suffix Array の構築はより効率の良いアルゴリズムが存在するが、その定義に基づく単純な方法が以下の関数である。"
   ]
  },
  {
   "cell_type": "code",
   "execution_count": 17,
   "metadata": {
    "collapsed": true
   },
   "outputs": [],
   "source": [
    "def make_sa(s):\n",
    "    sa = [s[i:] for i in xrange(len(s))]\n",
    "    return sorted(sa)"
   ]
  },
  {
   "cell_type": "markdown",
   "metadata": {},
   "source": [
    "このように手軽に書けるのが Python の魅力であるが、この関数にわずか 100KB のデータを与えるだけで 5GB を越えるメモリが使用されてしまう。1MBのデータでは 512GB にもなり実用できない。そこで、memoryview で実装してみた。"
   ]
  },
  {
   "cell_type": "code",
   "execution_count": 18,
   "metadata": {
    "collapsed": true
   },
   "outputs": [],
   "source": [
    "def make_sa2(s):\n",
    "    m = memoryview(s)\n",
    "    sa = [m[i:] for i in xrange(len(s))]\n",
    "    return sorted(sa)"
   ]
  },
  {
   "cell_type": "markdown",
   "metadata": {},
   "source": [
    "一見よさそうだが、もどされたデータは並び順が正しくなかった。"
   ]
  },
  {
   "cell_type": "code",
   "execution_count": 19,
   "metadata": {
    "collapsed": false
   },
   "outputs": [
    {
     "name": "stdout",
     "output_type": "stream",
     "text": [
      "[' improve', 'Cython improve', 'e', 'hon improve', 'improve', 'mprove', 'n improve', 'on improve', 'ove', 'prove', 'rove', 'thon improve', 've', 'ython improve']\n",
      "['Cython improve', 'ython improve', 'thon improve', 'hon improve', 'on improve', 'n improve', ' improve', 'improve', 'mprove', 'prove', 'rove', 'ove', 've', 'e']\n"
     ]
    }
   ],
   "source": [
    "data = 'Cython improve'\n",
    "print make_sa(data)\n",
    "print [m.tobytes() for m in make_sa2(data)]"
   ]
  },
  {
   "cell_type": "markdown",
   "metadata": {},
   "source": [
    "これは、memoryview の比較が土台となるオブジェクトの比較メソッドを使用しないことによる。そこで、sorted に比較のキーを取り出す関数を与えるか、比較の関数を与える。"
   ]
  },
  {
   "cell_type": "code",
   "execution_count": 20,
   "metadata": {
    "collapsed": true
   },
   "outputs": [],
   "source": [
    "def make_sa3(s):\n",
    "    m = memoryview(s)\n",
    "    sa = [m[i:] for i in xrange(len(s))]\n",
    "    return sorted(sa, key=lambda m:m.tobytes())"
   ]
  },
  {
   "cell_type": "code",
   "execution_count": 21,
   "metadata": {
    "collapsed": false
   },
   "outputs": [
    {
     "name": "stdout",
     "output_type": "stream",
     "text": [
      "[' improve', 'Cython improve', 'e', 'hon improve', 'improve', 'mprove', 'n improve', 'on improve', 'ove', 'prove', 'rove', 'thon improve', 've', 'ython improve']\n",
      "[' improve', 'Cython improve', 'e', 'hon improve', 'improve', 'mprove', 'n improve', 'on improve', 'ove', 'prove', 'rove', 'thon improve', 've', 'ython improve']\n"
     ]
    }
   ],
   "source": [
    "data = 'Cython improve'\n",
    "print make_sa(data)\n",
    "print [m.tobytes() for m in make_sa3(data)]"
   ]
  },
  {
   "cell_type": "markdown",
   "metadata": {},
   "source": [
    "こうすることで正しく動作するようにはなったが、比較の都度、memoryobject に対する tobytes メソッドの呼び出しが発生し何度も文字列オブジェクトのスライスが生成されることにより処理時間が妥当でなくなった。\n",
    "\n",
    "この問題に対して Python スクリプト上の工夫で解決できる方法が思いつかない。"
   ]
  },
  {
   "cell_type": "markdown",
   "metadata": {
    "slideshow": {
     "slide_type": "slide"
    }
   },
   "source": [
    "## Python の壁を越える\n",
    "\n",
    "### Python 上の工夫では限界がある\n",
    "\n",
    "先に、Pythonスクリプトの記述を改善することでより効率的になる例を検証してきたが、そのような方法では限界もある。\n",
    "- 属性のルックアップコスト\n",
    "\n",
    "  メソッドオブジェクトをキャッシュする、演算子を適切に使用するなどで、ある程度までは属性のルックアップコストを抑えることができるが、本質的に動的型付けという性格上、属性のルックアップにはほとんど常に動的ディスパッチを伴い、これを回避することはできない。\n",
    "\n",
    "\n",
    "- 基本演算での関数呼び出し\n",
    "\n",
    "  数値型の加減乗除などの極基本的な計算処理に対して PyNumber_xxx のような関数呼び出しが発生する。また、基本的な数値型 C言語の long/double などで済む演算であっても、二項演算の実行のたびに、オペランドの Pythonオブジェクトから Cのlong/double への変換、演算結果の Cのlong/double から Pythonオブジェクトへの変換が発生する。\n",
    "\n",
    "もはや、このレベルを改善しようとすると、C/C++言語のような強い型付けの言語に頼るしかなくなる。"
   ]
  },
  {
   "cell_type": "markdown",
   "metadata": {},
   "source": [
    "### C/C++の力を借りる\n",
    "\n",
    "Python で C/C++ の力を借りるとすれば、C/C++で書かれたコードを Python に取り込む必要がある。これにはいくつかの方法がある。"
   ]
  },
  {
   "cell_type": "markdown",
   "metadata": {},
   "source": [
    "#### 既存のパッケージ（拡張モジュール）を使う\n",
    "\n",
    "真っ先にすべきは、Python に即 import 可能なパッケージ(拡張モジュール群、ライブラリ)を探すべきである。\n",
    "\n",
    "- 標準ライブラリを活用\n",
    "\n",
    "  collections, array, bisect など標準ライブラリには多くの拡張モジュールが備わっている。例えば、FIFO を安直に list で 実装していないだろうか？ collections.deque は list よりも効率的に FIFO を実現できる。\n",
    "  \n",
    "\n",
    "- 著名なパッケージを利用\n",
    "\n",
    "  Python は特に科学技術計算系で豊富な実績あるパッケージが存在する。行列や数値演算でほぼ必須の numpy, scipy、統計処理の panda など、目的にあうパッケージを検索することは無駄にはならない。"
   ]
  },
  {
   "cell_type": "markdown",
   "metadata": {},
   "source": [
    "#### 高速な C/C++ のライブラリを使う\n",
    "\n",
    "目的にあった Python のパッケージがなくとも、既存の共有ライブラリやC/C++のソースから共有ライブラリを作成可能であれば、その共有ライブラリを Python から使用する方法がある。\n",
    "\n",
    "- SWIG でラップする拡張ライブラリを作成 (半自動)\n",
    "\n",
    "  SWIG (Simplified Wrapper and Interface Generator) により、共有ライブラリ用のヘッダーファイルから Python の拡張モジュールを生成することができる。\n",
    "\n",
    "\n",
    "- 標準ライブラリの ctypes で C/C++ 関数を呼び出す (手軽)\n",
    "\n",
    "  目的の共有ライブラリから数個の関数呼び出しが必要な程度であれば、標準ライブラリの ctypes を使用することもできる。ただし、SWIG と違い ctypes の場合は、共有ライブラリ側の関数のAPI情報(引数の型や戻り値)は手動で定義する必要があり、API呼び出しのオーバヘッドがあるので呼び出す関数内の処理の少なければ効果は低くなる。"
   ]
  },
  {
   "cell_type": "markdown",
   "metadata": {
    "slideshow": {
     "slide_type": "slide"
    }
   },
   "source": [
    "#### Pythonのコードを C/C++ に移行する\n",
    "\n",
    "先のどれにも該当しない場合は、Python で書かれたコードを C/C++ に移行するしかない。\n",
    "\n",
    "- 高速化したい部分を C/C++ に移行する\n",
    "\n",
    "  高速化したいコードが数値計算のみ含む単純なものであれば良いが、Pythonの辞書やリスト・タプルなどの処理と混在している場合は、その部分を適切に変更する必要がある。辞書やリストが計算結果として Python 側に戻すものであれば、Python API の PyDict_xxx, PyList_xxx を使用すべきであるし、Python側に出ないローカルなものであれば、C++の map や vector に置き返るなどの対応が必要である (Cの場合は自前で実装)。\n",
    "\n",
    "\n",
    "- Pythonから使用するためのブリッジング\n",
    "\n",
    "  C/C++ 化したコードを Python で利用するためのブリッジも必要となる。これは、はなから高速化コードを含む拡張モジュールとして作成するか、あるいは高速化コードを通常の共有ライブラリとして生成し、そこに前節のように SWIG / ctypes を使用する方法がある。"
   ]
  },
  {
   "cell_type": "markdown",
   "metadata": {
    "slideshow": {
     "slide_type": "fragment"
    }
   },
   "source": [
    "## Cython で越える\n",
    "\n",
    "### Cython とは\n",
    "\n",
    "Cython は Python に C風の型指定やいくつかの構文を追加した Python の上位言語である。Cython で記述されたコードは cython コマンドによりC言語に変換される。この変換コードには、Python の拡張モジュールのためのコードが含まれており、単純なコンパイルとリンクだけで拡張モジュールを生成できる。以下のような特徴をもつ。\n",
    "\n",
    "- 静的型付け\n",
    "\n",
    "  Cython の最大の特徴は、Python の変数に型を追加することである。型を追加することで静的解析によりコードを最適化することがねらいである。例えば、C言語の int/long/float 指定された型同士の算術演算は Python API (PyNumber_xxx) をバイパスできるため処理速度が大幅に向上する。\n",
    "  \n",
    "\n",
    "- C構造体の定義\n",
    "\n",
    "  既存の型指定だけでなく、C言語の struct 同様に構造体を定義できる。これは、高速化だけでなく C/C++ とのバイナリデータの交換も容易であることを意味する。\n",
    "  \n",
    "  \n",
    "- ポインタ演算\n",
    "\n",
    "  C言語同様にポインタ演算 (C系データのアドレス取得、間接参照、オフセット加算など) が可能である。\n",
    "  \n",
    "  \n",
    "- C-API形式の関数(メソッド)の定義・呼び出しが可能\n",
    "\n",
    "  Pythonで定義される関数は PyObject * を引数や返却値とする。Cython では特殊なキーワードを指定することで、引数の型や返却値の型を C言語の任意の型にすることができる。そのような関数は Python スクリプト側からは呼び出せないが、Cython 内において高速に呼び出しができる。\n",
    "\n",
    "### Cython で出来ること\n",
    "\n",
    "上のような特徴を持つ Cython は Pythonのコードを C/C++ に移行するのに優れたツールとなる。\n",
    "\n",
    "#### 高速な C/C++ のライブラリを使う\n",
    "\n",
    "- APIに関して手作業で型などを記述する必要性はあるものの、C言語からの宣言の移行は簡単であり、少ない手間で拡張ライブラリを容易に作成できる。\n",
    "\n",
    "- Cython は Python に特化しているため、SWIGよりも最適化されたコードが生成される(らしい)。\n",
    "\n",
    "#### Pythonのコードを C/C++ に移行する\n",
    "\n",
    "- Pythonコードを最大限に再利用できる (構文をほぼ維持)"
   ]
  },
  {
   "cell_type": "markdown",
   "metadata": {
    "slideshow": {
     "slide_type": "slide"
    }
   },
   "source": [
    "### Cython の使用方法\n",
    "\n",
    "Cython を使用する方法は以下のように単純である。\n",
    "\n",
    "1. Cython 文法で .pyx ファイルを書く。\n",
    "\n",
    "2. cython コマンドで .pyx から .c を生成。\n",
    "\n",
    "3. .c から共有ライブラリ(.so/.dll)を生成。これで拡張モジュールとなる!!\n",
    "\n",
    "4. できた拡張モジュールを普通に import するだけ。\n",
    "\n",
    "以下、もう少し具体的に説明する。\n",
    "\n",
    "#### Cython 文法で .pyx ファイルを書く\n",
    "\n",
    "既存の Python コードを Cython 化する想定のもと、以下のようなコードがあったとする。\n",
    "\n",
    "sample.py:\n",
    "```python\n",
    "def put_rbuf(self, addr, size, c_obj):\n",
    "\n",
    "    ubuf = c_addressof(c_obj)\n",
    "    rbuf = self._top + (addr % self._size)\n",
    "    rrest = self._end - rbuf\n",
    "\n",
    "    while size > 0:\n",
    "        cpsize = size if size < rrest else rrest\n",
    "        c_memmove(rbuf, ubuf, cpsize)\n",
    "        ubuf += cpsize\n",
    "        size -= cpsize\n",
    "        rbuf = self._top\n",
    "        rrest = self._size\n",
    "```\n",
    "\n",
    "これを、次のような Cython のコード(samply.pyx)に書き換える。\n",
    "\n",
    "sample.pyx:\n",
    "```cython\n",
    "cdef void put_rbuf(self, c_uint32 addr, c_uint32 size, void *c_obj):\n",
    "    cdef:\n",
    "        char *ubuf = <char *>c_obj\n",
    "        char *rbuf = self._top + (addr % self._size)\n",
    "        c_uint32 rrest = self._end - rbuf\n",
    "        c_uint32 cpsize\n",
    "    while size > 0:\n",
    "        cpsize = size if size < rrest else rrest\n",
    "        memcpy(rbuf, ubuf, cpsize)\n",
    "        ubuf += cpsize\n",
    "        size -= cpsize\n",
    "        rbuf = self._top\n",
    "        rrest = self._size\n",
    "```\n",
    "ここで両者を見比べれば、いくつかのキーワード `cdef` や型宣言 `c_uint32`、C風型変換 `<char *>` が付加されているが、その他の記述はもとの Python のままであることがわかる。\n",
    "\n",
    "#### cython コマンドで .pyx から .c を生成\n",
    "\n",
    "```\n",
    "$ cython sample.pyx\n",
    "```\n",
    "- これで sample.c が生成される。\n",
    "\n",
    "- `-a` オプションを指定すると、cython のソースと生成された Cコードを対比を確認できる html ファイルが生成される。\n",
    "\n",
    "#### .c から拡張モジュールを生成\n",
    "\n",
    "あとは、拡張モジュールの生成に必要なオプションを指定して共有ライブラリを作成するだけである。\n",
    "\n",
    "```\n",
    "$ cc -c -fPIC $(python-config --cflags) sample.c\n",
    "$ cc -shared -o sample.so $(python-config --ldflags) sample.o\n",
    "```\n",
    "\n",
    "生成された sample.so は直ちに import 可能な拡張モジュールとなっている。\n",
    "\n",
    "#### \\[おまけ\\] Pythonコードをそのまま使用\n",
    "\n",
    "Pythonコードはそのまま Cython のコードでもあるため、cython コマンドで拡張モジュールを生成することができる。この場合、静的型指定による高速化の恩恵は得られないが、Python がバイトコードを解釈する処理はバイパスできる。生成されたコードは、ほぼ Python がバイトコードを解釈実行する事で呼ばれる Python API に相当するため、生成されたコードを見ることは Python がどのように動作しているかを知る参考情報となる。"
   ]
  },
  {
   "cell_type": "markdown",
   "metadata": {
    "slideshow": {
     "slide_type": "slide"
    }
   },
   "source": [
    "### Cython で早くなる理由\n",
    "\n",
    "Cython化することで早くなる理由を、cythonコマンドで生成されるC言語のコードから検証する。以降では、Jupyter notebook のセル内で cython コードを使えるように notebook の拡張機能をロードする。"
   ]
  },
  {
   "cell_type": "code",
   "execution_count": 22,
   "metadata": {
    "collapsed": false
   },
   "outputs": [],
   "source": [
    "%load_ext cython"
   ]
  },
  {
   "cell_type": "markdown",
   "metadata": {
    "slideshow": {
     "slide_type": "fragment"
    }
   },
   "source": [
    "#### 数値演算を比べてみる\n",
    "Cython でもっとも期待されるであろう数値演算について、型指定の有無による違いを見る。"
   ]
  },
  {
   "cell_type": "code",
   "execution_count": 23,
   "metadata": {
    "collapsed": false,
    "slideshow": {
     "slide_type": "fragment"
    }
   },
   "outputs": [
    {
     "data": {
      "text/html": [
       "<!DOCTYPE html>\n",
       "<!-- Generated by Cython 0.24.1 -->\n",
       "<html>\n",
       "<head>\n",
       "    <meta http-equiv=\"Content-Type\" content=\"text/html; charset=utf-8\" />\n",
       "    <title>Cython: _cython_magic_861652dda20b7bcd2ec069e9da57310b.pyx</title>\n",
       "    <style type=\"text/css\">\n",
       "    \n",
       "body.cython { font-family: courier; font-size: 12; }\n",
       "\n",
       ".cython.tag  {  }\n",
       ".cython.line { margin: 0em }\n",
       ".cython.code { font-size: 9; color: #444444; display: none; margin: 0px 0px 0px 8px; border-left: 8px none; }\n",
       "\n",
       ".cython.line .run { background-color: #B0FFB0; }\n",
       ".cython.line .mis { background-color: #FFB0B0; }\n",
       ".cython.code.run  { border-left: 8px solid #B0FFB0; }\n",
       ".cython.code.mis  { border-left: 8px solid #FFB0B0; }\n",
       "\n",
       ".cython.code .py_c_api  { color: red; }\n",
       ".cython.code .py_macro_api  { color: #FF7000; }\n",
       ".cython.code .pyx_c_api  { color: #FF3000; }\n",
       ".cython.code .pyx_macro_api  { color: #FF7000; }\n",
       ".cython.code .refnanny  { color: #FFA000; }\n",
       ".cython.code .trace  { color: #FFA000; }\n",
       ".cython.code .error_goto  { color: #FFA000; }\n",
       "\n",
       ".cython.code .coerce  { color: #008000; border: 1px dotted #008000 }\n",
       ".cython.code .py_attr { color: #FF0000; font-weight: bold; }\n",
       ".cython.code .c_attr  { color: #0000FF; }\n",
       ".cython.code .py_call { color: #FF0000; font-weight: bold; }\n",
       ".cython.code .c_call  { color: #0000FF; }\n",
       "\n",
       ".cython.score-0 {background-color: #FFFFff;}\n",
       ".cython.score-1 {background-color: #FFFFe7;}\n",
       ".cython.score-2 {background-color: #FFFFd4;}\n",
       ".cython.score-3 {background-color: #FFFFc4;}\n",
       ".cython.score-4 {background-color: #FFFFb6;}\n",
       ".cython.score-5 {background-color: #FFFFaa;}\n",
       ".cython.score-6 {background-color: #FFFF9f;}\n",
       ".cython.score-7 {background-color: #FFFF96;}\n",
       ".cython.score-8 {background-color: #FFFF8d;}\n",
       ".cython.score-9 {background-color: #FFFF86;}\n",
       ".cython.score-10 {background-color: #FFFF7f;}\n",
       ".cython.score-11 {background-color: #FFFF79;}\n",
       ".cython.score-12 {background-color: #FFFF73;}\n",
       ".cython.score-13 {background-color: #FFFF6e;}\n",
       ".cython.score-14 {background-color: #FFFF6a;}\n",
       ".cython.score-15 {background-color: #FFFF66;}\n",
       ".cython.score-16 {background-color: #FFFF62;}\n",
       ".cython.score-17 {background-color: #FFFF5e;}\n",
       ".cython.score-18 {background-color: #FFFF5b;}\n",
       ".cython.score-19 {background-color: #FFFF57;}\n",
       ".cython.score-20 {background-color: #FFFF55;}\n",
       ".cython.score-21 {background-color: #FFFF52;}\n",
       ".cython.score-22 {background-color: #FFFF4f;}\n",
       ".cython.score-23 {background-color: #FFFF4d;}\n",
       ".cython.score-24 {background-color: #FFFF4b;}\n",
       ".cython.score-25 {background-color: #FFFF48;}\n",
       ".cython.score-26 {background-color: #FFFF46;}\n",
       ".cython.score-27 {background-color: #FFFF44;}\n",
       ".cython.score-28 {background-color: #FFFF43;}\n",
       ".cython.score-29 {background-color: #FFFF41;}\n",
       ".cython.score-30 {background-color: #FFFF3f;}\n",
       ".cython.score-31 {background-color: #FFFF3e;}\n",
       ".cython.score-32 {background-color: #FFFF3c;}\n",
       ".cython.score-33 {background-color: #FFFF3b;}\n",
       ".cython.score-34 {background-color: #FFFF39;}\n",
       ".cython.score-35 {background-color: #FFFF38;}\n",
       ".cython.score-36 {background-color: #FFFF37;}\n",
       ".cython.score-37 {background-color: #FFFF36;}\n",
       ".cython.score-38 {background-color: #FFFF35;}\n",
       ".cython.score-39 {background-color: #FFFF34;}\n",
       ".cython.score-40 {background-color: #FFFF33;}\n",
       ".cython.score-41 {background-color: #FFFF32;}\n",
       ".cython.score-42 {background-color: #FFFF31;}\n",
       ".cython.score-43 {background-color: #FFFF30;}\n",
       ".cython.score-44 {background-color: #FFFF2f;}\n",
       ".cython.score-45 {background-color: #FFFF2e;}\n",
       ".cython.score-46 {background-color: #FFFF2d;}\n",
       ".cython.score-47 {background-color: #FFFF2c;}\n",
       ".cython.score-48 {background-color: #FFFF2b;}\n",
       ".cython.score-49 {background-color: #FFFF2b;}\n",
       ".cython.score-50 {background-color: #FFFF2a;}\n",
       ".cython.score-51 {background-color: #FFFF29;}\n",
       ".cython.score-52 {background-color: #FFFF29;}\n",
       ".cython.score-53 {background-color: #FFFF28;}\n",
       ".cython.score-54 {background-color: #FFFF27;}\n",
       ".cython.score-55 {background-color: #FFFF27;}\n",
       ".cython.score-56 {background-color: #FFFF26;}\n",
       ".cython.score-57 {background-color: #FFFF26;}\n",
       ".cython.score-58 {background-color: #FFFF25;}\n",
       ".cython.score-59 {background-color: #FFFF24;}\n",
       ".cython.score-60 {background-color: #FFFF24;}\n",
       ".cython.score-61 {background-color: #FFFF23;}\n",
       ".cython.score-62 {background-color: #FFFF23;}\n",
       ".cython.score-63 {background-color: #FFFF22;}\n",
       ".cython.score-64 {background-color: #FFFF22;}\n",
       ".cython.score-65 {background-color: #FFFF22;}\n",
       ".cython.score-66 {background-color: #FFFF21;}\n",
       ".cython.score-67 {background-color: #FFFF21;}\n",
       ".cython.score-68 {background-color: #FFFF20;}\n",
       ".cython.score-69 {background-color: #FFFF20;}\n",
       ".cython.score-70 {background-color: #FFFF1f;}\n",
       ".cython.score-71 {background-color: #FFFF1f;}\n",
       ".cython.score-72 {background-color: #FFFF1f;}\n",
       ".cython.score-73 {background-color: #FFFF1e;}\n",
       ".cython.score-74 {background-color: #FFFF1e;}\n",
       ".cython.score-75 {background-color: #FFFF1e;}\n",
       ".cython.score-76 {background-color: #FFFF1d;}\n",
       ".cython.score-77 {background-color: #FFFF1d;}\n",
       ".cython.score-78 {background-color: #FFFF1c;}\n",
       ".cython.score-79 {background-color: #FFFF1c;}\n",
       ".cython.score-80 {background-color: #FFFF1c;}\n",
       ".cython.score-81 {background-color: #FFFF1c;}\n",
       ".cython.score-82 {background-color: #FFFF1b;}\n",
       ".cython.score-83 {background-color: #FFFF1b;}\n",
       ".cython.score-84 {background-color: #FFFF1b;}\n",
       ".cython.score-85 {background-color: #FFFF1a;}\n",
       ".cython.score-86 {background-color: #FFFF1a;}\n",
       ".cython.score-87 {background-color: #FFFF1a;}\n",
       ".cython.score-88 {background-color: #FFFF1a;}\n",
       ".cython.score-89 {background-color: #FFFF19;}\n",
       ".cython.score-90 {background-color: #FFFF19;}\n",
       ".cython.score-91 {background-color: #FFFF19;}\n",
       ".cython.score-92 {background-color: #FFFF19;}\n",
       ".cython.score-93 {background-color: #FFFF18;}\n",
       ".cython.score-94 {background-color: #FFFF18;}\n",
       ".cython.score-95 {background-color: #FFFF18;}\n",
       ".cython.score-96 {background-color: #FFFF18;}\n",
       ".cython.score-97 {background-color: #FFFF17;}\n",
       ".cython.score-98 {background-color: #FFFF17;}\n",
       ".cython.score-99 {background-color: #FFFF17;}\n",
       ".cython.score-100 {background-color: #FFFF17;}\n",
       ".cython.score-101 {background-color: #FFFF16;}\n",
       ".cython.score-102 {background-color: #FFFF16;}\n",
       ".cython.score-103 {background-color: #FFFF16;}\n",
       ".cython.score-104 {background-color: #FFFF16;}\n",
       ".cython.score-105 {background-color: #FFFF16;}\n",
       ".cython.score-106 {background-color: #FFFF15;}\n",
       ".cython.score-107 {background-color: #FFFF15;}\n",
       ".cython.score-108 {background-color: #FFFF15;}\n",
       ".cython.score-109 {background-color: #FFFF15;}\n",
       ".cython.score-110 {background-color: #FFFF15;}\n",
       ".cython.score-111 {background-color: #FFFF15;}\n",
       ".cython.score-112 {background-color: #FFFF14;}\n",
       ".cython.score-113 {background-color: #FFFF14;}\n",
       ".cython.score-114 {background-color: #FFFF14;}\n",
       ".cython.score-115 {background-color: #FFFF14;}\n",
       ".cython.score-116 {background-color: #FFFF14;}\n",
       ".cython.score-117 {background-color: #FFFF14;}\n",
       ".cython.score-118 {background-color: #FFFF13;}\n",
       ".cython.score-119 {background-color: #FFFF13;}\n",
       ".cython.score-120 {background-color: #FFFF13;}\n",
       ".cython.score-121 {background-color: #FFFF13;}\n",
       ".cython.score-122 {background-color: #FFFF13;}\n",
       ".cython.score-123 {background-color: #FFFF13;}\n",
       ".cython.score-124 {background-color: #FFFF13;}\n",
       ".cython.score-125 {background-color: #FFFF12;}\n",
       ".cython.score-126 {background-color: #FFFF12;}\n",
       ".cython.score-127 {background-color: #FFFF12;}\n",
       ".cython.score-128 {background-color: #FFFF12;}\n",
       ".cython.score-129 {background-color: #FFFF12;}\n",
       ".cython.score-130 {background-color: #FFFF12;}\n",
       ".cython.score-131 {background-color: #FFFF12;}\n",
       ".cython.score-132 {background-color: #FFFF11;}\n",
       ".cython.score-133 {background-color: #FFFF11;}\n",
       ".cython.score-134 {background-color: #FFFF11;}\n",
       ".cython.score-135 {background-color: #FFFF11;}\n",
       ".cython.score-136 {background-color: #FFFF11;}\n",
       ".cython.score-137 {background-color: #FFFF11;}\n",
       ".cython.score-138 {background-color: #FFFF11;}\n",
       ".cython.score-139 {background-color: #FFFF11;}\n",
       ".cython.score-140 {background-color: #FFFF11;}\n",
       ".cython.score-141 {background-color: #FFFF10;}\n",
       ".cython.score-142 {background-color: #FFFF10;}\n",
       ".cython.score-143 {background-color: #FFFF10;}\n",
       ".cython.score-144 {background-color: #FFFF10;}\n",
       ".cython.score-145 {background-color: #FFFF10;}\n",
       ".cython.score-146 {background-color: #FFFF10;}\n",
       ".cython.score-147 {background-color: #FFFF10;}\n",
       ".cython.score-148 {background-color: #FFFF10;}\n",
       ".cython.score-149 {background-color: #FFFF10;}\n",
       ".cython.score-150 {background-color: #FFFF0f;}\n",
       ".cython.score-151 {background-color: #FFFF0f;}\n",
       ".cython.score-152 {background-color: #FFFF0f;}\n",
       ".cython.score-153 {background-color: #FFFF0f;}\n",
       ".cython.score-154 {background-color: #FFFF0f;}\n",
       ".cython.score-155 {background-color: #FFFF0f;}\n",
       ".cython.score-156 {background-color: #FFFF0f;}\n",
       ".cython.score-157 {background-color: #FFFF0f;}\n",
       ".cython.score-158 {background-color: #FFFF0f;}\n",
       ".cython.score-159 {background-color: #FFFF0f;}\n",
       ".cython.score-160 {background-color: #FFFF0f;}\n",
       ".cython.score-161 {background-color: #FFFF0e;}\n",
       ".cython.score-162 {background-color: #FFFF0e;}\n",
       ".cython.score-163 {background-color: #FFFF0e;}\n",
       ".cython.score-164 {background-color: #FFFF0e;}\n",
       ".cython.score-165 {background-color: #FFFF0e;}\n",
       ".cython.score-166 {background-color: #FFFF0e;}\n",
       ".cython.score-167 {background-color: #FFFF0e;}\n",
       ".cython.score-168 {background-color: #FFFF0e;}\n",
       ".cython.score-169 {background-color: #FFFF0e;}\n",
       ".cython.score-170 {background-color: #FFFF0e;}\n",
       ".cython.score-171 {background-color: #FFFF0e;}\n",
       ".cython.score-172 {background-color: #FFFF0e;}\n",
       ".cython.score-173 {background-color: #FFFF0d;}\n",
       ".cython.score-174 {background-color: #FFFF0d;}\n",
       ".cython.score-175 {background-color: #FFFF0d;}\n",
       ".cython.score-176 {background-color: #FFFF0d;}\n",
       ".cython.score-177 {background-color: #FFFF0d;}\n",
       ".cython.score-178 {background-color: #FFFF0d;}\n",
       ".cython.score-179 {background-color: #FFFF0d;}\n",
       ".cython.score-180 {background-color: #FFFF0d;}\n",
       ".cython.score-181 {background-color: #FFFF0d;}\n",
       ".cython.score-182 {background-color: #FFFF0d;}\n",
       ".cython.score-183 {background-color: #FFFF0d;}\n",
       ".cython.score-184 {background-color: #FFFF0d;}\n",
       ".cython.score-185 {background-color: #FFFF0d;}\n",
       ".cython.score-186 {background-color: #FFFF0d;}\n",
       ".cython.score-187 {background-color: #FFFF0c;}\n",
       ".cython.score-188 {background-color: #FFFF0c;}\n",
       ".cython.score-189 {background-color: #FFFF0c;}\n",
       ".cython.score-190 {background-color: #FFFF0c;}\n",
       ".cython.score-191 {background-color: #FFFF0c;}\n",
       ".cython.score-192 {background-color: #FFFF0c;}\n",
       ".cython.score-193 {background-color: #FFFF0c;}\n",
       ".cython.score-194 {background-color: #FFFF0c;}\n",
       ".cython.score-195 {background-color: #FFFF0c;}\n",
       ".cython.score-196 {background-color: #FFFF0c;}\n",
       ".cython.score-197 {background-color: #FFFF0c;}\n",
       ".cython.score-198 {background-color: #FFFF0c;}\n",
       ".cython.score-199 {background-color: #FFFF0c;}\n",
       ".cython.score-200 {background-color: #FFFF0c;}\n",
       ".cython.score-201 {background-color: #FFFF0c;}\n",
       ".cython.score-202 {background-color: #FFFF0c;}\n",
       ".cython.score-203 {background-color: #FFFF0b;}\n",
       ".cython.score-204 {background-color: #FFFF0b;}\n",
       ".cython.score-205 {background-color: #FFFF0b;}\n",
       ".cython.score-206 {background-color: #FFFF0b;}\n",
       ".cython.score-207 {background-color: #FFFF0b;}\n",
       ".cython.score-208 {background-color: #FFFF0b;}\n",
       ".cython.score-209 {background-color: #FFFF0b;}\n",
       ".cython.score-210 {background-color: #FFFF0b;}\n",
       ".cython.score-211 {background-color: #FFFF0b;}\n",
       ".cython.score-212 {background-color: #FFFF0b;}\n",
       ".cython.score-213 {background-color: #FFFF0b;}\n",
       ".cython.score-214 {background-color: #FFFF0b;}\n",
       ".cython.score-215 {background-color: #FFFF0b;}\n",
       ".cython.score-216 {background-color: #FFFF0b;}\n",
       ".cython.score-217 {background-color: #FFFF0b;}\n",
       ".cython.score-218 {background-color: #FFFF0b;}\n",
       ".cython.score-219 {background-color: #FFFF0b;}\n",
       ".cython.score-220 {background-color: #FFFF0b;}\n",
       ".cython.score-221 {background-color: #FFFF0b;}\n",
       ".cython.score-222 {background-color: #FFFF0a;}\n",
       ".cython.score-223 {background-color: #FFFF0a;}\n",
       ".cython.score-224 {background-color: #FFFF0a;}\n",
       ".cython.score-225 {background-color: #FFFF0a;}\n",
       ".cython.score-226 {background-color: #FFFF0a;}\n",
       ".cython.score-227 {background-color: #FFFF0a;}\n",
       ".cython.score-228 {background-color: #FFFF0a;}\n",
       ".cython.score-229 {background-color: #FFFF0a;}\n",
       ".cython.score-230 {background-color: #FFFF0a;}\n",
       ".cython.score-231 {background-color: #FFFF0a;}\n",
       ".cython.score-232 {background-color: #FFFF0a;}\n",
       ".cython.score-233 {background-color: #FFFF0a;}\n",
       ".cython.score-234 {background-color: #FFFF0a;}\n",
       ".cython.score-235 {background-color: #FFFF0a;}\n",
       ".cython.score-236 {background-color: #FFFF0a;}\n",
       ".cython.score-237 {background-color: #FFFF0a;}\n",
       ".cython.score-238 {background-color: #FFFF0a;}\n",
       ".cython.score-239 {background-color: #FFFF0a;}\n",
       ".cython.score-240 {background-color: #FFFF0a;}\n",
       ".cython.score-241 {background-color: #FFFF0a;}\n",
       ".cython.score-242 {background-color: #FFFF0a;}\n",
       ".cython.score-243 {background-color: #FFFF0a;}\n",
       ".cython.score-244 {background-color: #FFFF0a;}\n",
       ".cython.score-245 {background-color: #FFFF0a;}\n",
       ".cython.score-246 {background-color: #FFFF09;}\n",
       ".cython.score-247 {background-color: #FFFF09;}\n",
       ".cython.score-248 {background-color: #FFFF09;}\n",
       ".cython.score-249 {background-color: #FFFF09;}\n",
       ".cython.score-250 {background-color: #FFFF09;}\n",
       ".cython.score-251 {background-color: #FFFF09;}\n",
       ".cython.score-252 {background-color: #FFFF09;}\n",
       ".cython.score-253 {background-color: #FFFF09;}\n",
       ".cython.score-254 {background-color: #FFFF09;}\n",
       ".cython .hll { background-color: #ffffcc }\n",
       ".cython  { background: #f8f8f8; }\n",
       ".cython .c { color: #408080; font-style: italic } /* Comment */\n",
       ".cython .err { border: 1px solid #FF0000 } /* Error */\n",
       ".cython .k { color: #008000; font-weight: bold } /* Keyword */\n",
       ".cython .o { color: #666666 } /* Operator */\n",
       ".cython .ch { color: #408080; font-style: italic } /* Comment.Hashbang */\n",
       ".cython .cm { color: #408080; font-style: italic } /* Comment.Multiline */\n",
       ".cython .cp { color: #BC7A00 } /* Comment.Preproc */\n",
       ".cython .cpf { color: #408080; font-style: italic } /* Comment.PreprocFile */\n",
       ".cython .c1 { color: #408080; font-style: italic } /* Comment.Single */\n",
       ".cython .cs { color: #408080; font-style: italic } /* Comment.Special */\n",
       ".cython .gd { color: #A00000 } /* Generic.Deleted */\n",
       ".cython .ge { font-style: italic } /* Generic.Emph */\n",
       ".cython .gr { color: #FF0000 } /* Generic.Error */\n",
       ".cython .gh { color: #000080; font-weight: bold } /* Generic.Heading */\n",
       ".cython .gi { color: #00A000 } /* Generic.Inserted */\n",
       ".cython .go { color: #888888 } /* Generic.Output */\n",
       ".cython .gp { color: #000080; font-weight: bold } /* Generic.Prompt */\n",
       ".cython .gs { font-weight: bold } /* Generic.Strong */\n",
       ".cython .gu { color: #800080; font-weight: bold } /* Generic.Subheading */\n",
       ".cython .gt { color: #0044DD } /* Generic.Traceback */\n",
       ".cython .kc { color: #008000; font-weight: bold } /* Keyword.Constant */\n",
       ".cython .kd { color: #008000; font-weight: bold } /* Keyword.Declaration */\n",
       ".cython .kn { color: #008000; font-weight: bold } /* Keyword.Namespace */\n",
       ".cython .kp { color: #008000 } /* Keyword.Pseudo */\n",
       ".cython .kr { color: #008000; font-weight: bold } /* Keyword.Reserved */\n",
       ".cython .kt { color: #B00040 } /* Keyword.Type */\n",
       ".cython .m { color: #666666 } /* Literal.Number */\n",
       ".cython .s { color: #BA2121 } /* Literal.String */\n",
       ".cython .na { color: #7D9029 } /* Name.Attribute */\n",
       ".cython .nb { color: #008000 } /* Name.Builtin */\n",
       ".cython .nc { color: #0000FF; font-weight: bold } /* Name.Class */\n",
       ".cython .no { color: #880000 } /* Name.Constant */\n",
       ".cython .nd { color: #AA22FF } /* Name.Decorator */\n",
       ".cython .ni { color: #999999; font-weight: bold } /* Name.Entity */\n",
       ".cython .ne { color: #D2413A; font-weight: bold } /* Name.Exception */\n",
       ".cython .nf { color: #0000FF } /* Name.Function */\n",
       ".cython .nl { color: #A0A000 } /* Name.Label */\n",
       ".cython .nn { color: #0000FF; font-weight: bold } /* Name.Namespace */\n",
       ".cython .nt { color: #008000; font-weight: bold } /* Name.Tag */\n",
       ".cython .nv { color: #19177C } /* Name.Variable */\n",
       ".cython .ow { color: #AA22FF; font-weight: bold } /* Operator.Word */\n",
       ".cython .w { color: #bbbbbb } /* Text.Whitespace */\n",
       ".cython .mb { color: #666666 } /* Literal.Number.Bin */\n",
       ".cython .mf { color: #666666 } /* Literal.Number.Float */\n",
       ".cython .mh { color: #666666 } /* Literal.Number.Hex */\n",
       ".cython .mi { color: #666666 } /* Literal.Number.Integer */\n",
       ".cython .mo { color: #666666 } /* Literal.Number.Oct */\n",
       ".cython .sb { color: #BA2121 } /* Literal.String.Backtick */\n",
       ".cython .sc { color: #BA2121 } /* Literal.String.Char */\n",
       ".cython .sd { color: #BA2121; font-style: italic } /* Literal.String.Doc */\n",
       ".cython .s2 { color: #BA2121 } /* Literal.String.Double */\n",
       ".cython .se { color: #BB6622; font-weight: bold } /* Literal.String.Escape */\n",
       ".cython .sh { color: #BA2121 } /* Literal.String.Heredoc */\n",
       ".cython .si { color: #BB6688; font-weight: bold } /* Literal.String.Interpol */\n",
       ".cython .sx { color: #008000 } /* Literal.String.Other */\n",
       ".cython .sr { color: #BB6688 } /* Literal.String.Regex */\n",
       ".cython .s1 { color: #BA2121 } /* Literal.String.Single */\n",
       ".cython .ss { color: #19177C } /* Literal.String.Symbol */\n",
       ".cython .bp { color: #008000 } /* Name.Builtin.Pseudo */\n",
       ".cython .vc { color: #19177C } /* Name.Variable.Class */\n",
       ".cython .vg { color: #19177C } /* Name.Variable.Global */\n",
       ".cython .vi { color: #19177C } /* Name.Variable.Instance */\n",
       ".cython .il { color: #666666 } /* Literal.Number.Integer.Long */\n",
       "    </style>\n",
       "    <script>\n",
       "    function toggleDiv(id) {\n",
       "        theDiv = id.nextElementSibling\n",
       "        if (theDiv.style.display != 'block') theDiv.style.display = 'block';\n",
       "        else theDiv.style.display = 'none';\n",
       "    }\n",
       "    </script>\n",
       "</head>\n",
       "<body class=\"cython\">\n",
       "<p><span style=\"border-bottom: solid 1px grey;\">Generated by Cython 0.24.1</span></p>\n",
       "<p>\n",
       "    <span style=\"background-color: #FFFF00\">Yellow lines</span> hint at Python interaction.<br />\n",
       "    Click on a line that starts with a \"<code>+</code>\" to see the C code that Cython generated for it.\n",
       "</p>\n",
       "<div class=\"cython\"><pre class=\"cython line score-77\" onclick='toggleDiv(this)'>+<span class=\"\">1</span>: <span class=\"k\">def</span> <span class=\"nf\">f</span><span class=\"p\">(</span><span class=\"n\">a</span><span class=\"p\">,</span> <span class=\"n\">b</span><span class=\"p\">,</span> <span class=\"nb\">long</span> <span class=\"n\">c</span><span class=\"p\">,</span> <span class=\"nb\">long</span> <span class=\"n\">d</span><span class=\"p\">):</span></pre>\n",
       "<pre class='cython code score-77 '>/* Python wrapper */\n",
       "static PyObject *__pyx_pw_46_cython_magic_861652dda20b7bcd2ec069e9da57310b_1f(PyObject *__pyx_self, PyObject *__pyx_args, PyObject *__pyx_kwds); /*proto*/\n",
       "static PyMethodDef __pyx_mdef_46_cython_magic_861652dda20b7bcd2ec069e9da57310b_1f = {\"f\", (PyCFunction)__pyx_pw_46_cython_magic_861652dda20b7bcd2ec069e9da57310b_1f, METH_VARARGS|METH_KEYWORDS, 0};\n",
       "static PyObject *__pyx_pw_46_cython_magic_861652dda20b7bcd2ec069e9da57310b_1f(PyObject *__pyx_self, PyObject *__pyx_args, PyObject *__pyx_kwds) {\n",
       "  PyObject *__pyx_v_a = 0;\n",
       "  PyObject *__pyx_v_b = 0;\n",
       "  long __pyx_v_c;\n",
       "  long __pyx_v_d;\n",
       "  PyObject *__pyx_r = 0;\n",
       "  <span class='refnanny'>__Pyx_RefNannyDeclarations</span>\n",
       "  <span class='refnanny'>__Pyx_RefNannySetupContext</span>(\"f (wrapper)\", 0);\n",
       "  {\n",
       "    static PyObject **__pyx_pyargnames[] = {&amp;__pyx_n_s_a,&amp;__pyx_n_s_b,&amp;__pyx_n_s_c,&amp;__pyx_n_s_d,0};\n",
       "    PyObject* values[4] = {0,0,0,0};\n",
       "    if (unlikely(__pyx_kwds)) {\n",
       "      Py_ssize_t kw_args;\n",
       "      const Py_ssize_t pos_args = <span class='py_macro_api'>PyTuple_GET_SIZE</span>(__pyx_args);\n",
       "      switch (pos_args) {\n",
       "        case  4: values[3] = <span class='py_macro_api'>PyTuple_GET_ITEM</span>(__pyx_args, 3);\n",
       "        case  3: values[2] = <span class='py_macro_api'>PyTuple_GET_ITEM</span>(__pyx_args, 2);\n",
       "        case  2: values[1] = <span class='py_macro_api'>PyTuple_GET_ITEM</span>(__pyx_args, 1);\n",
       "        case  1: values[0] = <span class='py_macro_api'>PyTuple_GET_ITEM</span>(__pyx_args, 0);\n",
       "        case  0: break;\n",
       "        default: goto __pyx_L5_argtuple_error;\n",
       "      }\n",
       "      kw_args = <span class='py_c_api'>PyDict_Size</span>(__pyx_kwds);\n",
       "      switch (pos_args) {\n",
       "        case  0:\n",
       "        if (likely((values[0] = <span class='py_c_api'>PyDict_GetItem</span>(__pyx_kwds, __pyx_n_s_a)) != 0)) kw_args--;\n",
       "        else goto __pyx_L5_argtuple_error;\n",
       "        case  1:\n",
       "        if (likely((values[1] = <span class='py_c_api'>PyDict_GetItem</span>(__pyx_kwds, __pyx_n_s_b)) != 0)) kw_args--;\n",
       "        else {\n",
       "          <span class='pyx_c_api'>__Pyx_RaiseArgtupleInvalid</span>(\"f\", 1, 4, 4, 1); __PYX_ERR(0, 1, __pyx_L3_error)\n",
       "        }\n",
       "        case  2:\n",
       "        if (likely((values[2] = <span class='py_c_api'>PyDict_GetItem</span>(__pyx_kwds, __pyx_n_s_c)) != 0)) kw_args--;\n",
       "        else {\n",
       "          <span class='pyx_c_api'>__Pyx_RaiseArgtupleInvalid</span>(\"f\", 1, 4, 4, 2); __PYX_ERR(0, 1, __pyx_L3_error)\n",
       "        }\n",
       "        case  3:\n",
       "        if (likely((values[3] = <span class='py_c_api'>PyDict_GetItem</span>(__pyx_kwds, __pyx_n_s_d)) != 0)) kw_args--;\n",
       "        else {\n",
       "          <span class='pyx_c_api'>__Pyx_RaiseArgtupleInvalid</span>(\"f\", 1, 4, 4, 3); __PYX_ERR(0, 1, __pyx_L3_error)\n",
       "        }\n",
       "      }\n",
       "      if (unlikely(kw_args &gt; 0)) {\n",
       "        if (unlikely(<span class='pyx_c_api'>__Pyx_ParseOptionalKeywords</span>(__pyx_kwds, __pyx_pyargnames, 0, values, pos_args, \"f\") &lt; 0)) __PYX_ERR(0, 1, __pyx_L3_error)\n",
       "      }\n",
       "    } else if (<span class='py_macro_api'>PyTuple_GET_SIZE</span>(__pyx_args) != 4) {\n",
       "      goto __pyx_L5_argtuple_error;\n",
       "    } else {\n",
       "      values[0] = <span class='py_macro_api'>PyTuple_GET_ITEM</span>(__pyx_args, 0);\n",
       "      values[1] = <span class='py_macro_api'>PyTuple_GET_ITEM</span>(__pyx_args, 1);\n",
       "      values[2] = <span class='py_macro_api'>PyTuple_GET_ITEM</span>(__pyx_args, 2);\n",
       "      values[3] = <span class='py_macro_api'>PyTuple_GET_ITEM</span>(__pyx_args, 3);\n",
       "    }\n",
       "    __pyx_v_a = values[0];\n",
       "    __pyx_v_b = values[1];\n",
       "    __pyx_v_c = <span class='pyx_c_api'>__Pyx_PyInt_As_long</span>(values[2]); if (unlikely((__pyx_v_c == (long)-1) &amp;&amp; <span class='py_c_api'>PyErr_Occurred</span>())) __PYX_ERR(0, 1, __pyx_L3_error)\n",
       "    __pyx_v_d = <span class='pyx_c_api'>__Pyx_PyInt_As_long</span>(values[3]); if (unlikely((__pyx_v_d == (long)-1) &amp;&amp; <span class='py_c_api'>PyErr_Occurred</span>())) __PYX_ERR(0, 1, __pyx_L3_error)\n",
       "  }\n",
       "  goto __pyx_L4_argument_unpacking_done;\n",
       "  __pyx_L5_argtuple_error:;\n",
       "  <span class='pyx_c_api'>__Pyx_RaiseArgtupleInvalid</span>(\"f\", 1, 4, 4, <span class='py_macro_api'>PyTuple_GET_SIZE</span>(__pyx_args)); __PYX_ERR(0, 1, __pyx_L3_error)\n",
       "  __pyx_L3_error:;\n",
       "  <span class='pyx_c_api'>__Pyx_AddTraceback</span>(\"_cython_magic_861652dda20b7bcd2ec069e9da57310b.f\", __pyx_clineno, __pyx_lineno, __pyx_filename);\n",
       "  <span class='refnanny'>__Pyx_RefNannyFinishContext</span>();\n",
       "  return NULL;\n",
       "  __pyx_L4_argument_unpacking_done:;\n",
       "  __pyx_r = __pyx_pf_46_cython_magic_861652dda20b7bcd2ec069e9da57310b_f(__pyx_self, __pyx_v_a, __pyx_v_b, __pyx_v_c, __pyx_v_d);\n",
       "\n",
       "  /* function exit code */\n",
       "  <span class='refnanny'>__Pyx_RefNannyFinishContext</span>();\n",
       "  return __pyx_r;\n",
       "}\n",
       "\n",
       "static PyObject *__pyx_pf_46_cython_magic_861652dda20b7bcd2ec069e9da57310b_f(CYTHON_UNUSED PyObject *__pyx_self, PyObject *__pyx_v_a, PyObject *__pyx_v_b, long __pyx_v_c, long __pyx_v_d) {\n",
       "  PyObject *__pyx_r = NULL;\n",
       "  <span class='refnanny'>__Pyx_RefNannyDeclarations</span>\n",
       "  <span class='refnanny'>__Pyx_RefNannySetupContext</span>(\"f\", 0);\n",
       "/* … */\n",
       "  /* function exit code */\n",
       "  __pyx_r = Py_None; <span class='pyx_macro_api'>__Pyx_INCREF</span>(Py_None);\n",
       "  goto __pyx_L0;\n",
       "  __pyx_L1_error:;\n",
       "  <span class='pyx_macro_api'>__Pyx_XDECREF</span>(__pyx_t_1);\n",
       "  <span class='pyx_c_api'>__Pyx_AddTraceback</span>(\"_cython_magic_861652dda20b7bcd2ec069e9da57310b.f\", __pyx_clineno, __pyx_lineno, __pyx_filename);\n",
       "  __pyx_r = NULL;\n",
       "  __pyx_L0:;\n",
       "  <span class='refnanny'>__Pyx_XGIVEREF</span>(__pyx_r);\n",
       "  <span class='refnanny'>__Pyx_RefNannyFinishContext</span>();\n",
       "  return __pyx_r;\n",
       "}\n",
       "/* … */\n",
       "  __pyx_tuple_ = <span class='py_c_api'>PyTuple_Pack</span>(4, __pyx_n_s_a, __pyx_n_s_b, __pyx_n_s_c, __pyx_n_s_d); if (unlikely(!__pyx_tuple_)) __PYX_ERR(0, 1, __pyx_L1_error)\n",
       "  <span class='refnanny'>__Pyx_GOTREF</span>(__pyx_tuple_);\n",
       "  <span class='refnanny'>__Pyx_GIVEREF</span>(__pyx_tuple_);\n",
       "/* … */\n",
       "  __pyx_t_1 = PyCFunction_NewEx(&amp;__pyx_mdef_46_cython_magic_861652dda20b7bcd2ec069e9da57310b_1f, NULL, __pyx_n_s_cython_magic_861652dda20b7bcd2e); if (unlikely(!__pyx_t_1)) __PYX_ERR(0, 1, __pyx_L1_error)\n",
       "  <span class='refnanny'>__Pyx_GOTREF</span>(__pyx_t_1);\n",
       "  if (<span class='py_c_api'>PyDict_SetItem</span>(__pyx_d, __pyx_n_s_f, __pyx_t_1) &lt; 0) __PYX_ERR(0, 1, __pyx_L1_error)\n",
       "  <span class='pyx_macro_api'>__Pyx_DECREF</span>(__pyx_t_1); __pyx_t_1 = 0;\n",
       "</pre><pre class=\"cython line score-6\" onclick='toggleDiv(this)'>+<span class=\"\">2</span>:     <span class=\"n\">a</span> <span class=\"o\">+</span> <span class=\"n\">b</span></pre>\n",
       "<pre class='cython code score-6 '>  __pyx_t_1 = <span class='py_c_api'>PyNumber_Add</span>(__pyx_v_a, __pyx_v_b); if (unlikely(!__pyx_t_1)) __PYX_ERR(0, 2, __pyx_L1_error)\n",
       "  <span class='refnanny'>__Pyx_GOTREF</span>(__pyx_t_1);\n",
       "  <span class='pyx_macro_api'>__Pyx_DECREF</span>(__pyx_t_1); __pyx_t_1 = 0;\n",
       "</pre><pre class=\"cython line score-0\" onclick='toggleDiv(this)'>+<span class=\"\">3</span>:     <span class=\"n\">c</span> <span class=\"o\">+</span> <span class=\"n\">d</span></pre>\n",
       "<pre class='cython code score-0 '>  (__pyx_v_c + __pyx_v_d);\n",
       "</pre></div></body></html>"
      ],
      "text/plain": [
       "<IPython.core.display.HTML object>"
      ]
     },
     "execution_count": 23,
     "metadata": {},
     "output_type": "execute_result"
    }
   ],
   "source": [
    "%%cython -a\n",
    "def f(a, b, long c, long d):\n",
    "    a + b\n",
    "    c + d"
   ]
  },
  {
   "cell_type": "markdown",
   "metadata": {},
   "source": [
    "  上のコードの +2 や +3 をクリックする cython で生成されたCのコードが表示される。\n",
    "\n",
    "2行目の `a + b` は、`a` も `b` も**型指定されていないため、PyNumber_Add**という Python API が呼ばれている。PyNumber_Add は数値オブジェクトに対して呼ばれる訳ではなく、二項加算演算の式に対して呼ばれるものである。\n",
    "\n",
    "一方 3行目の `c + d` は `c` と `d` が仮引数リスト内において `long` の**型指定があるため、そのまま Cの加算コード**が生成されている。"
   ]
  },
  {
   "cell_type": "markdown",
   "metadata": {
    "slideshow": {
     "slide_type": "fragment"
    }
   },
   "source": [
    "#### メソッド呼び出しを比べてみる\n",
    "\n",
    "次にメソッド呼び出しのコードを比べてみる。これは前の例ほど単純ではないので、まず検証対象とする Cython のコードについて先に解説しておく。\n",
    "\n",
    "```cython\n",
    "cdef class C(object):\n",
    "    cdef void c_method(self, int a, int b, int c):\n",
    "        pass\n",
    "    def p_method(self, a, b, int c):\n",
    "        pass\n",
    "\n",
    "def f(a, C c):\n",
    "    a.method(1,2,3)\n",
    "    c.c_method(1,2,3)\n",
    "```\n",
    "\n",
    "- `cdef class` は拡張モジュールとしてクラスを定義する。これは [Python インタプリタの拡張と埋め込み](http://docs.python.jp/2/extending/index.html)で説明されているように、Cレベルでクラスを定義することを意味する。このようなクラスインスタンスのインスタンス属性は構造体のフィールドとしてあらかじめ準備されたり、Pythonのインタープリタで動的に作成されるクラスとは異なる。\n",
    "\n",
    "- c_method には `cdef` 指定(と戻りと引数の型指定)があるが、これは Cython上で C関数と呼ばれるものである。しかし、Cython 上の `cdef` 指定のない `def` による関数 p_method も C言語の関数に落とされるため若干混乱がある。`cdef` 指定のある関数は型宣言のままの C関数となるが、`cdef` 指定がない関数は Pythonスクリプト側からの呼び出しが可能な関数であり、その規約に従って `self`引数のあとは、`PyObject *args`, `PyObject *kwargs` になっている。\n",
    "\n",
    "- 関数 `f` 内での二つの呼び出しは微妙な違いがある。最初の `a.method` は `a` が型指定を持っていない。一方、`c.c_method` は `c` がこの Cython コードで定義される `cdef`指定クラスの `C` のオブジェクトであることがわかっている。この違いが生成されるコードにどう影響するかを検証するのが、このサンプルの目的である。"
   ]
  },
  {
   "cell_type": "code",
   "execution_count": 24,
   "metadata": {
    "collapsed": false,
    "slideshow": {
     "slide_type": "fragment"
    }
   },
   "outputs": [
    {
     "data": {
      "text/html": [
       "<!DOCTYPE html>\n",
       "<!-- Generated by Cython 0.24.1 -->\n",
       "<html>\n",
       "<head>\n",
       "    <meta http-equiv=\"Content-Type\" content=\"text/html; charset=utf-8\" />\n",
       "    <title>Cython: _cython_magic_3d596b88ca33928c25d6d669f8f1fdc5.pyx</title>\n",
       "    <style type=\"text/css\">\n",
       "    \n",
       "body.cython { font-family: courier; font-size: 12; }\n",
       "\n",
       ".cython.tag  {  }\n",
       ".cython.line { margin: 0em }\n",
       ".cython.code { font-size: 9; color: #444444; display: none; margin: 0px 0px 0px 8px; border-left: 8px none; }\n",
       "\n",
       ".cython.line .run { background-color: #B0FFB0; }\n",
       ".cython.line .mis { background-color: #FFB0B0; }\n",
       ".cython.code.run  { border-left: 8px solid #B0FFB0; }\n",
       ".cython.code.mis  { border-left: 8px solid #FFB0B0; }\n",
       "\n",
       ".cython.code .py_c_api  { color: red; }\n",
       ".cython.code .py_macro_api  { color: #FF7000; }\n",
       ".cython.code .pyx_c_api  { color: #FF3000; }\n",
       ".cython.code .pyx_macro_api  { color: #FF7000; }\n",
       ".cython.code .refnanny  { color: #FFA000; }\n",
       ".cython.code .trace  { color: #FFA000; }\n",
       ".cython.code .error_goto  { color: #FFA000; }\n",
       "\n",
       ".cython.code .coerce  { color: #008000; border: 1px dotted #008000 }\n",
       ".cython.code .py_attr { color: #FF0000; font-weight: bold; }\n",
       ".cython.code .c_attr  { color: #0000FF; }\n",
       ".cython.code .py_call { color: #FF0000; font-weight: bold; }\n",
       ".cython.code .c_call  { color: #0000FF; }\n",
       "\n",
       ".cython.score-0 {background-color: #FFFFff;}\n",
       ".cython.score-1 {background-color: #FFFFe7;}\n",
       ".cython.score-2 {background-color: #FFFFd4;}\n",
       ".cython.score-3 {background-color: #FFFFc4;}\n",
       ".cython.score-4 {background-color: #FFFFb6;}\n",
       ".cython.score-5 {background-color: #FFFFaa;}\n",
       ".cython.score-6 {background-color: #FFFF9f;}\n",
       ".cython.score-7 {background-color: #FFFF96;}\n",
       ".cython.score-8 {background-color: #FFFF8d;}\n",
       ".cython.score-9 {background-color: #FFFF86;}\n",
       ".cython.score-10 {background-color: #FFFF7f;}\n",
       ".cython.score-11 {background-color: #FFFF79;}\n",
       ".cython.score-12 {background-color: #FFFF73;}\n",
       ".cython.score-13 {background-color: #FFFF6e;}\n",
       ".cython.score-14 {background-color: #FFFF6a;}\n",
       ".cython.score-15 {background-color: #FFFF66;}\n",
       ".cython.score-16 {background-color: #FFFF62;}\n",
       ".cython.score-17 {background-color: #FFFF5e;}\n",
       ".cython.score-18 {background-color: #FFFF5b;}\n",
       ".cython.score-19 {background-color: #FFFF57;}\n",
       ".cython.score-20 {background-color: #FFFF55;}\n",
       ".cython.score-21 {background-color: #FFFF52;}\n",
       ".cython.score-22 {background-color: #FFFF4f;}\n",
       ".cython.score-23 {background-color: #FFFF4d;}\n",
       ".cython.score-24 {background-color: #FFFF4b;}\n",
       ".cython.score-25 {background-color: #FFFF48;}\n",
       ".cython.score-26 {background-color: #FFFF46;}\n",
       ".cython.score-27 {background-color: #FFFF44;}\n",
       ".cython.score-28 {background-color: #FFFF43;}\n",
       ".cython.score-29 {background-color: #FFFF41;}\n",
       ".cython.score-30 {background-color: #FFFF3f;}\n",
       ".cython.score-31 {background-color: #FFFF3e;}\n",
       ".cython.score-32 {background-color: #FFFF3c;}\n",
       ".cython.score-33 {background-color: #FFFF3b;}\n",
       ".cython.score-34 {background-color: #FFFF39;}\n",
       ".cython.score-35 {background-color: #FFFF38;}\n",
       ".cython.score-36 {background-color: #FFFF37;}\n",
       ".cython.score-37 {background-color: #FFFF36;}\n",
       ".cython.score-38 {background-color: #FFFF35;}\n",
       ".cython.score-39 {background-color: #FFFF34;}\n",
       ".cython.score-40 {background-color: #FFFF33;}\n",
       ".cython.score-41 {background-color: #FFFF32;}\n",
       ".cython.score-42 {background-color: #FFFF31;}\n",
       ".cython.score-43 {background-color: #FFFF30;}\n",
       ".cython.score-44 {background-color: #FFFF2f;}\n",
       ".cython.score-45 {background-color: #FFFF2e;}\n",
       ".cython.score-46 {background-color: #FFFF2d;}\n",
       ".cython.score-47 {background-color: #FFFF2c;}\n",
       ".cython.score-48 {background-color: #FFFF2b;}\n",
       ".cython.score-49 {background-color: #FFFF2b;}\n",
       ".cython.score-50 {background-color: #FFFF2a;}\n",
       ".cython.score-51 {background-color: #FFFF29;}\n",
       ".cython.score-52 {background-color: #FFFF29;}\n",
       ".cython.score-53 {background-color: #FFFF28;}\n",
       ".cython.score-54 {background-color: #FFFF27;}\n",
       ".cython.score-55 {background-color: #FFFF27;}\n",
       ".cython.score-56 {background-color: #FFFF26;}\n",
       ".cython.score-57 {background-color: #FFFF26;}\n",
       ".cython.score-58 {background-color: #FFFF25;}\n",
       ".cython.score-59 {background-color: #FFFF24;}\n",
       ".cython.score-60 {background-color: #FFFF24;}\n",
       ".cython.score-61 {background-color: #FFFF23;}\n",
       ".cython.score-62 {background-color: #FFFF23;}\n",
       ".cython.score-63 {background-color: #FFFF22;}\n",
       ".cython.score-64 {background-color: #FFFF22;}\n",
       ".cython.score-65 {background-color: #FFFF22;}\n",
       ".cython.score-66 {background-color: #FFFF21;}\n",
       ".cython.score-67 {background-color: #FFFF21;}\n",
       ".cython.score-68 {background-color: #FFFF20;}\n",
       ".cython.score-69 {background-color: #FFFF20;}\n",
       ".cython.score-70 {background-color: #FFFF1f;}\n",
       ".cython.score-71 {background-color: #FFFF1f;}\n",
       ".cython.score-72 {background-color: #FFFF1f;}\n",
       ".cython.score-73 {background-color: #FFFF1e;}\n",
       ".cython.score-74 {background-color: #FFFF1e;}\n",
       ".cython.score-75 {background-color: #FFFF1e;}\n",
       ".cython.score-76 {background-color: #FFFF1d;}\n",
       ".cython.score-77 {background-color: #FFFF1d;}\n",
       ".cython.score-78 {background-color: #FFFF1c;}\n",
       ".cython.score-79 {background-color: #FFFF1c;}\n",
       ".cython.score-80 {background-color: #FFFF1c;}\n",
       ".cython.score-81 {background-color: #FFFF1c;}\n",
       ".cython.score-82 {background-color: #FFFF1b;}\n",
       ".cython.score-83 {background-color: #FFFF1b;}\n",
       ".cython.score-84 {background-color: #FFFF1b;}\n",
       ".cython.score-85 {background-color: #FFFF1a;}\n",
       ".cython.score-86 {background-color: #FFFF1a;}\n",
       ".cython.score-87 {background-color: #FFFF1a;}\n",
       ".cython.score-88 {background-color: #FFFF1a;}\n",
       ".cython.score-89 {background-color: #FFFF19;}\n",
       ".cython.score-90 {background-color: #FFFF19;}\n",
       ".cython.score-91 {background-color: #FFFF19;}\n",
       ".cython.score-92 {background-color: #FFFF19;}\n",
       ".cython.score-93 {background-color: #FFFF18;}\n",
       ".cython.score-94 {background-color: #FFFF18;}\n",
       ".cython.score-95 {background-color: #FFFF18;}\n",
       ".cython.score-96 {background-color: #FFFF18;}\n",
       ".cython.score-97 {background-color: #FFFF17;}\n",
       ".cython.score-98 {background-color: #FFFF17;}\n",
       ".cython.score-99 {background-color: #FFFF17;}\n",
       ".cython.score-100 {background-color: #FFFF17;}\n",
       ".cython.score-101 {background-color: #FFFF16;}\n",
       ".cython.score-102 {background-color: #FFFF16;}\n",
       ".cython.score-103 {background-color: #FFFF16;}\n",
       ".cython.score-104 {background-color: #FFFF16;}\n",
       ".cython.score-105 {background-color: #FFFF16;}\n",
       ".cython.score-106 {background-color: #FFFF15;}\n",
       ".cython.score-107 {background-color: #FFFF15;}\n",
       ".cython.score-108 {background-color: #FFFF15;}\n",
       ".cython.score-109 {background-color: #FFFF15;}\n",
       ".cython.score-110 {background-color: #FFFF15;}\n",
       ".cython.score-111 {background-color: #FFFF15;}\n",
       ".cython.score-112 {background-color: #FFFF14;}\n",
       ".cython.score-113 {background-color: #FFFF14;}\n",
       ".cython.score-114 {background-color: #FFFF14;}\n",
       ".cython.score-115 {background-color: #FFFF14;}\n",
       ".cython.score-116 {background-color: #FFFF14;}\n",
       ".cython.score-117 {background-color: #FFFF14;}\n",
       ".cython.score-118 {background-color: #FFFF13;}\n",
       ".cython.score-119 {background-color: #FFFF13;}\n",
       ".cython.score-120 {background-color: #FFFF13;}\n",
       ".cython.score-121 {background-color: #FFFF13;}\n",
       ".cython.score-122 {background-color: #FFFF13;}\n",
       ".cython.score-123 {background-color: #FFFF13;}\n",
       ".cython.score-124 {background-color: #FFFF13;}\n",
       ".cython.score-125 {background-color: #FFFF12;}\n",
       ".cython.score-126 {background-color: #FFFF12;}\n",
       ".cython.score-127 {background-color: #FFFF12;}\n",
       ".cython.score-128 {background-color: #FFFF12;}\n",
       ".cython.score-129 {background-color: #FFFF12;}\n",
       ".cython.score-130 {background-color: #FFFF12;}\n",
       ".cython.score-131 {background-color: #FFFF12;}\n",
       ".cython.score-132 {background-color: #FFFF11;}\n",
       ".cython.score-133 {background-color: #FFFF11;}\n",
       ".cython.score-134 {background-color: #FFFF11;}\n",
       ".cython.score-135 {background-color: #FFFF11;}\n",
       ".cython.score-136 {background-color: #FFFF11;}\n",
       ".cython.score-137 {background-color: #FFFF11;}\n",
       ".cython.score-138 {background-color: #FFFF11;}\n",
       ".cython.score-139 {background-color: #FFFF11;}\n",
       ".cython.score-140 {background-color: #FFFF11;}\n",
       ".cython.score-141 {background-color: #FFFF10;}\n",
       ".cython.score-142 {background-color: #FFFF10;}\n",
       ".cython.score-143 {background-color: #FFFF10;}\n",
       ".cython.score-144 {background-color: #FFFF10;}\n",
       ".cython.score-145 {background-color: #FFFF10;}\n",
       ".cython.score-146 {background-color: #FFFF10;}\n",
       ".cython.score-147 {background-color: #FFFF10;}\n",
       ".cython.score-148 {background-color: #FFFF10;}\n",
       ".cython.score-149 {background-color: #FFFF10;}\n",
       ".cython.score-150 {background-color: #FFFF0f;}\n",
       ".cython.score-151 {background-color: #FFFF0f;}\n",
       ".cython.score-152 {background-color: #FFFF0f;}\n",
       ".cython.score-153 {background-color: #FFFF0f;}\n",
       ".cython.score-154 {background-color: #FFFF0f;}\n",
       ".cython.score-155 {background-color: #FFFF0f;}\n",
       ".cython.score-156 {background-color: #FFFF0f;}\n",
       ".cython.score-157 {background-color: #FFFF0f;}\n",
       ".cython.score-158 {background-color: #FFFF0f;}\n",
       ".cython.score-159 {background-color: #FFFF0f;}\n",
       ".cython.score-160 {background-color: #FFFF0f;}\n",
       ".cython.score-161 {background-color: #FFFF0e;}\n",
       ".cython.score-162 {background-color: #FFFF0e;}\n",
       ".cython.score-163 {background-color: #FFFF0e;}\n",
       ".cython.score-164 {background-color: #FFFF0e;}\n",
       ".cython.score-165 {background-color: #FFFF0e;}\n",
       ".cython.score-166 {background-color: #FFFF0e;}\n",
       ".cython.score-167 {background-color: #FFFF0e;}\n",
       ".cython.score-168 {background-color: #FFFF0e;}\n",
       ".cython.score-169 {background-color: #FFFF0e;}\n",
       ".cython.score-170 {background-color: #FFFF0e;}\n",
       ".cython.score-171 {background-color: #FFFF0e;}\n",
       ".cython.score-172 {background-color: #FFFF0e;}\n",
       ".cython.score-173 {background-color: #FFFF0d;}\n",
       ".cython.score-174 {background-color: #FFFF0d;}\n",
       ".cython.score-175 {background-color: #FFFF0d;}\n",
       ".cython.score-176 {background-color: #FFFF0d;}\n",
       ".cython.score-177 {background-color: #FFFF0d;}\n",
       ".cython.score-178 {background-color: #FFFF0d;}\n",
       ".cython.score-179 {background-color: #FFFF0d;}\n",
       ".cython.score-180 {background-color: #FFFF0d;}\n",
       ".cython.score-181 {background-color: #FFFF0d;}\n",
       ".cython.score-182 {background-color: #FFFF0d;}\n",
       ".cython.score-183 {background-color: #FFFF0d;}\n",
       ".cython.score-184 {background-color: #FFFF0d;}\n",
       ".cython.score-185 {background-color: #FFFF0d;}\n",
       ".cython.score-186 {background-color: #FFFF0d;}\n",
       ".cython.score-187 {background-color: #FFFF0c;}\n",
       ".cython.score-188 {background-color: #FFFF0c;}\n",
       ".cython.score-189 {background-color: #FFFF0c;}\n",
       ".cython.score-190 {background-color: #FFFF0c;}\n",
       ".cython.score-191 {background-color: #FFFF0c;}\n",
       ".cython.score-192 {background-color: #FFFF0c;}\n",
       ".cython.score-193 {background-color: #FFFF0c;}\n",
       ".cython.score-194 {background-color: #FFFF0c;}\n",
       ".cython.score-195 {background-color: #FFFF0c;}\n",
       ".cython.score-196 {background-color: #FFFF0c;}\n",
       ".cython.score-197 {background-color: #FFFF0c;}\n",
       ".cython.score-198 {background-color: #FFFF0c;}\n",
       ".cython.score-199 {background-color: #FFFF0c;}\n",
       ".cython.score-200 {background-color: #FFFF0c;}\n",
       ".cython.score-201 {background-color: #FFFF0c;}\n",
       ".cython.score-202 {background-color: #FFFF0c;}\n",
       ".cython.score-203 {background-color: #FFFF0b;}\n",
       ".cython.score-204 {background-color: #FFFF0b;}\n",
       ".cython.score-205 {background-color: #FFFF0b;}\n",
       ".cython.score-206 {background-color: #FFFF0b;}\n",
       ".cython.score-207 {background-color: #FFFF0b;}\n",
       ".cython.score-208 {background-color: #FFFF0b;}\n",
       ".cython.score-209 {background-color: #FFFF0b;}\n",
       ".cython.score-210 {background-color: #FFFF0b;}\n",
       ".cython.score-211 {background-color: #FFFF0b;}\n",
       ".cython.score-212 {background-color: #FFFF0b;}\n",
       ".cython.score-213 {background-color: #FFFF0b;}\n",
       ".cython.score-214 {background-color: #FFFF0b;}\n",
       ".cython.score-215 {background-color: #FFFF0b;}\n",
       ".cython.score-216 {background-color: #FFFF0b;}\n",
       ".cython.score-217 {background-color: #FFFF0b;}\n",
       ".cython.score-218 {background-color: #FFFF0b;}\n",
       ".cython.score-219 {background-color: #FFFF0b;}\n",
       ".cython.score-220 {background-color: #FFFF0b;}\n",
       ".cython.score-221 {background-color: #FFFF0b;}\n",
       ".cython.score-222 {background-color: #FFFF0a;}\n",
       ".cython.score-223 {background-color: #FFFF0a;}\n",
       ".cython.score-224 {background-color: #FFFF0a;}\n",
       ".cython.score-225 {background-color: #FFFF0a;}\n",
       ".cython.score-226 {background-color: #FFFF0a;}\n",
       ".cython.score-227 {background-color: #FFFF0a;}\n",
       ".cython.score-228 {background-color: #FFFF0a;}\n",
       ".cython.score-229 {background-color: #FFFF0a;}\n",
       ".cython.score-230 {background-color: #FFFF0a;}\n",
       ".cython.score-231 {background-color: #FFFF0a;}\n",
       ".cython.score-232 {background-color: #FFFF0a;}\n",
       ".cython.score-233 {background-color: #FFFF0a;}\n",
       ".cython.score-234 {background-color: #FFFF0a;}\n",
       ".cython.score-235 {background-color: #FFFF0a;}\n",
       ".cython.score-236 {background-color: #FFFF0a;}\n",
       ".cython.score-237 {background-color: #FFFF0a;}\n",
       ".cython.score-238 {background-color: #FFFF0a;}\n",
       ".cython.score-239 {background-color: #FFFF0a;}\n",
       ".cython.score-240 {background-color: #FFFF0a;}\n",
       ".cython.score-241 {background-color: #FFFF0a;}\n",
       ".cython.score-242 {background-color: #FFFF0a;}\n",
       ".cython.score-243 {background-color: #FFFF0a;}\n",
       ".cython.score-244 {background-color: #FFFF0a;}\n",
       ".cython.score-245 {background-color: #FFFF0a;}\n",
       ".cython.score-246 {background-color: #FFFF09;}\n",
       ".cython.score-247 {background-color: #FFFF09;}\n",
       ".cython.score-248 {background-color: #FFFF09;}\n",
       ".cython.score-249 {background-color: #FFFF09;}\n",
       ".cython.score-250 {background-color: #FFFF09;}\n",
       ".cython.score-251 {background-color: #FFFF09;}\n",
       ".cython.score-252 {background-color: #FFFF09;}\n",
       ".cython.score-253 {background-color: #FFFF09;}\n",
       ".cython.score-254 {background-color: #FFFF09;}\n",
       ".cython .hll { background-color: #ffffcc }\n",
       ".cython  { background: #f8f8f8; }\n",
       ".cython .c { color: #408080; font-style: italic } /* Comment */\n",
       ".cython .err { border: 1px solid #FF0000 } /* Error */\n",
       ".cython .k { color: #008000; font-weight: bold } /* Keyword */\n",
       ".cython .o { color: #666666 } /* Operator */\n",
       ".cython .ch { color: #408080; font-style: italic } /* Comment.Hashbang */\n",
       ".cython .cm { color: #408080; font-style: italic } /* Comment.Multiline */\n",
       ".cython .cp { color: #BC7A00 } /* Comment.Preproc */\n",
       ".cython .cpf { color: #408080; font-style: italic } /* Comment.PreprocFile */\n",
       ".cython .c1 { color: #408080; font-style: italic } /* Comment.Single */\n",
       ".cython .cs { color: #408080; font-style: italic } /* Comment.Special */\n",
       ".cython .gd { color: #A00000 } /* Generic.Deleted */\n",
       ".cython .ge { font-style: italic } /* Generic.Emph */\n",
       ".cython .gr { color: #FF0000 } /* Generic.Error */\n",
       ".cython .gh { color: #000080; font-weight: bold } /* Generic.Heading */\n",
       ".cython .gi { color: #00A000 } /* Generic.Inserted */\n",
       ".cython .go { color: #888888 } /* Generic.Output */\n",
       ".cython .gp { color: #000080; font-weight: bold } /* Generic.Prompt */\n",
       ".cython .gs { font-weight: bold } /* Generic.Strong */\n",
       ".cython .gu { color: #800080; font-weight: bold } /* Generic.Subheading */\n",
       ".cython .gt { color: #0044DD } /* Generic.Traceback */\n",
       ".cython .kc { color: #008000; font-weight: bold } /* Keyword.Constant */\n",
       ".cython .kd { color: #008000; font-weight: bold } /* Keyword.Declaration */\n",
       ".cython .kn { color: #008000; font-weight: bold } /* Keyword.Namespace */\n",
       ".cython .kp { color: #008000 } /* Keyword.Pseudo */\n",
       ".cython .kr { color: #008000; font-weight: bold } /* Keyword.Reserved */\n",
       ".cython .kt { color: #B00040 } /* Keyword.Type */\n",
       ".cython .m { color: #666666 } /* Literal.Number */\n",
       ".cython .s { color: #BA2121 } /* Literal.String */\n",
       ".cython .na { color: #7D9029 } /* Name.Attribute */\n",
       ".cython .nb { color: #008000 } /* Name.Builtin */\n",
       ".cython .nc { color: #0000FF; font-weight: bold } /* Name.Class */\n",
       ".cython .no { color: #880000 } /* Name.Constant */\n",
       ".cython .nd { color: #AA22FF } /* Name.Decorator */\n",
       ".cython .ni { color: #999999; font-weight: bold } /* Name.Entity */\n",
       ".cython .ne { color: #D2413A; font-weight: bold } /* Name.Exception */\n",
       ".cython .nf { color: #0000FF } /* Name.Function */\n",
       ".cython .nl { color: #A0A000 } /* Name.Label */\n",
       ".cython .nn { color: #0000FF; font-weight: bold } /* Name.Namespace */\n",
       ".cython .nt { color: #008000; font-weight: bold } /* Name.Tag */\n",
       ".cython .nv { color: #19177C } /* Name.Variable */\n",
       ".cython .ow { color: #AA22FF; font-weight: bold } /* Operator.Word */\n",
       ".cython .w { color: #bbbbbb } /* Text.Whitespace */\n",
       ".cython .mb { color: #666666 } /* Literal.Number.Bin */\n",
       ".cython .mf { color: #666666 } /* Literal.Number.Float */\n",
       ".cython .mh { color: #666666 } /* Literal.Number.Hex */\n",
       ".cython .mi { color: #666666 } /* Literal.Number.Integer */\n",
       ".cython .mo { color: #666666 } /* Literal.Number.Oct */\n",
       ".cython .sb { color: #BA2121 } /* Literal.String.Backtick */\n",
       ".cython .sc { color: #BA2121 } /* Literal.String.Char */\n",
       ".cython .sd { color: #BA2121; font-style: italic } /* Literal.String.Doc */\n",
       ".cython .s2 { color: #BA2121 } /* Literal.String.Double */\n",
       ".cython .se { color: #BB6622; font-weight: bold } /* Literal.String.Escape */\n",
       ".cython .sh { color: #BA2121 } /* Literal.String.Heredoc */\n",
       ".cython .si { color: #BB6688; font-weight: bold } /* Literal.String.Interpol */\n",
       ".cython .sx { color: #008000 } /* Literal.String.Other */\n",
       ".cython .sr { color: #BB6688 } /* Literal.String.Regex */\n",
       ".cython .s1 { color: #BA2121 } /* Literal.String.Single */\n",
       ".cython .ss { color: #19177C } /* Literal.String.Symbol */\n",
       ".cython .bp { color: #008000 } /* Name.Builtin.Pseudo */\n",
       ".cython .vc { color: #19177C } /* Name.Variable.Class */\n",
       ".cython .vg { color: #19177C } /* Name.Variable.Global */\n",
       ".cython .vi { color: #19177C } /* Name.Variable.Instance */\n",
       ".cython .il { color: #666666 } /* Literal.Number.Integer.Long */\n",
       "    </style>\n",
       "    <script>\n",
       "    function toggleDiv(id) {\n",
       "        theDiv = id.nextElementSibling\n",
       "        if (theDiv.style.display != 'block') theDiv.style.display = 'block';\n",
       "        else theDiv.style.display = 'none';\n",
       "    }\n",
       "    </script>\n",
       "</head>\n",
       "<body class=\"cython\">\n",
       "<p><span style=\"border-bottom: solid 1px grey;\">Generated by Cython 0.24.1</span></p>\n",
       "<p>\n",
       "    <span style=\"background-color: #FFFF00\">Yellow lines</span> hint at Python interaction.<br />\n",
       "    Click on a line that starts with a \"<code>+</code>\" to see the C code that Cython generated for it.\n",
       "</p>\n",
       "<div class=\"cython\"><pre class=\"cython line score-0\" onclick='toggleDiv(this)'>+<span class=\"\">1</span>: <span class=\"k\">cdef</span> <span class=\"k\">class</span> <span class=\"nf\">C</span><span class=\"p\">(</span><span class=\"nb\">object</span><span class=\"p\">):</span></pre>\n",
       "<pre class='cython code score-0 '>struct __pyx_obj_46_cython_magic_3d596b88ca33928c25d6d669f8f1fdc5_C {\n",
       "  PyObject_HEAD\n",
       "  struct __pyx_vtabstruct_46_cython_magic_3d596b88ca33928c25d6d669f8f1fdc5_C *__pyx_vtab;\n",
       "};\n",
       "\n",
       "\n",
       "\n",
       "struct __pyx_vtabstruct_46_cython_magic_3d596b88ca33928c25d6d669f8f1fdc5_C {\n",
       "  void (*c_method)(struct __pyx_obj_46_cython_magic_3d596b88ca33928c25d6d669f8f1fdc5_C *, int, int, int);\n",
       "};\n",
       "static struct __pyx_vtabstruct_46_cython_magic_3d596b88ca33928c25d6d669f8f1fdc5_C *__pyx_vtabptr_46_cython_magic_3d596b88ca33928c25d6d669f8f1fdc5_C;\n",
       "</pre><pre class=\"cython line score-0\" onclick='toggleDiv(this)'>+<span class=\"\">2</span>:     <span class=\"k\">cdef</span> <span class=\"kt\">void</span> <span class=\"nf\">c_method</span><span class=\"p\">(</span><span class=\"bp\">self</span><span class=\"p\">,</span> <span class=\"nb\">int</span> <span class=\"n\">a</span><span class=\"p\">,</span> <span class=\"nb\">int</span> <span class=\"n\">b</span><span class=\"p\">,</span> <span class=\"nb\">int</span> <span class=\"n\">c</span><span class=\"p\">):</span></pre>\n",
       "<pre class='cython code score-0 '>static void __pyx_f_46_cython_magic_3d596b88ca33928c25d6d669f8f1fdc5_1C_c_method(CYTHON_UNUSED struct __pyx_obj_46_cython_magic_3d596b88ca33928c25d6d669f8f1fdc5_C *__pyx_v_self, CYTHON_UNUSED int __pyx_v_a, CYTHON_UNUSED int __pyx_v_b, CYTHON_UNUSED int __pyx_v_c) {\n",
       "  <span class='refnanny'>__Pyx_RefNannyDeclarations</span>\n",
       "  <span class='refnanny'>__Pyx_RefNannySetupContext</span>(\"c_method\", 0);\n",
       "\n",
       "  /* function exit code */\n",
       "  <span class='refnanny'>__Pyx_RefNannyFinishContext</span>();\n",
       "}\n",
       "</pre><pre class=\"cython line score-0\">&#xA0;<span class=\"\">3</span>:         <span class=\"k\">pass</span></pre>\n",
       "<pre class=\"cython line score-47\" onclick='toggleDiv(this)'>+<span class=\"\">4</span>:     <span class=\"k\">def</span> <span class=\"nf\">p_method</span><span class=\"p\">(</span><span class=\"bp\">self</span><span class=\"p\">,</span> <span class=\"n\">a</span><span class=\"p\">,</span> <span class=\"n\">b</span><span class=\"p\">,</span> <span class=\"nb\">int</span> <span class=\"n\">c</span><span class=\"p\">):</span></pre>\n",
       "<pre class='cython code score-47 '>/* Python wrapper */\n",
       "static PyObject *__pyx_pw_46_cython_magic_3d596b88ca33928c25d6d669f8f1fdc5_1C_1p_method(PyObject *__pyx_v_self, PyObject *__pyx_args, PyObject *__pyx_kwds); /*proto*/\n",
       "static PyObject *__pyx_pw_46_cython_magic_3d596b88ca33928c25d6d669f8f1fdc5_1C_1p_method(PyObject *__pyx_v_self, PyObject *__pyx_args, PyObject *__pyx_kwds) {\n",
       "  CYTHON_UNUSED PyObject *__pyx_v_a = 0;\n",
       "  CYTHON_UNUSED PyObject *__pyx_v_b = 0;\n",
       "  CYTHON_UNUSED int __pyx_v_c;\n",
       "  PyObject *__pyx_r = 0;\n",
       "  <span class='refnanny'>__Pyx_RefNannyDeclarations</span>\n",
       "  <span class='refnanny'>__Pyx_RefNannySetupContext</span>(\"p_method (wrapper)\", 0);\n",
       "  {\n",
       "    static PyObject **__pyx_pyargnames[] = {&amp;__pyx_n_s_a,&amp;__pyx_n_s_b,&amp;__pyx_n_s_c,0};\n",
       "    PyObject* values[3] = {0,0,0};\n",
       "    if (unlikely(__pyx_kwds)) {\n",
       "      Py_ssize_t kw_args;\n",
       "      const Py_ssize_t pos_args = <span class='py_macro_api'>PyTuple_GET_SIZE</span>(__pyx_args);\n",
       "      switch (pos_args) {\n",
       "        case  3: values[2] = <span class='py_macro_api'>PyTuple_GET_ITEM</span>(__pyx_args, 2);\n",
       "        case  2: values[1] = <span class='py_macro_api'>PyTuple_GET_ITEM</span>(__pyx_args, 1);\n",
       "        case  1: values[0] = <span class='py_macro_api'>PyTuple_GET_ITEM</span>(__pyx_args, 0);\n",
       "        case  0: break;\n",
       "        default: goto __pyx_L5_argtuple_error;\n",
       "      }\n",
       "      kw_args = <span class='py_c_api'>PyDict_Size</span>(__pyx_kwds);\n",
       "      switch (pos_args) {\n",
       "        case  0:\n",
       "        if (likely((values[0] = <span class='py_c_api'>PyDict_GetItem</span>(__pyx_kwds, __pyx_n_s_a)) != 0)) kw_args--;\n",
       "        else goto __pyx_L5_argtuple_error;\n",
       "        case  1:\n",
       "        if (likely((values[1] = <span class='py_c_api'>PyDict_GetItem</span>(__pyx_kwds, __pyx_n_s_b)) != 0)) kw_args--;\n",
       "        else {\n",
       "          <span class='pyx_c_api'>__Pyx_RaiseArgtupleInvalid</span>(\"p_method\", 1, 3, 3, 1); __PYX_ERR(0, 4, __pyx_L3_error)\n",
       "        }\n",
       "        case  2:\n",
       "        if (likely((values[2] = <span class='py_c_api'>PyDict_GetItem</span>(__pyx_kwds, __pyx_n_s_c)) != 0)) kw_args--;\n",
       "        else {\n",
       "          <span class='pyx_c_api'>__Pyx_RaiseArgtupleInvalid</span>(\"p_method\", 1, 3, 3, 2); __PYX_ERR(0, 4, __pyx_L3_error)\n",
       "        }\n",
       "      }\n",
       "      if (unlikely(kw_args &gt; 0)) {\n",
       "        if (unlikely(<span class='pyx_c_api'>__Pyx_ParseOptionalKeywords</span>(__pyx_kwds, __pyx_pyargnames, 0, values, pos_args, \"p_method\") &lt; 0)) __PYX_ERR(0, 4, __pyx_L3_error)\n",
       "      }\n",
       "    } else if (<span class='py_macro_api'>PyTuple_GET_SIZE</span>(__pyx_args) != 3) {\n",
       "      goto __pyx_L5_argtuple_error;\n",
       "    } else {\n",
       "      values[0] = <span class='py_macro_api'>PyTuple_GET_ITEM</span>(__pyx_args, 0);\n",
       "      values[1] = <span class='py_macro_api'>PyTuple_GET_ITEM</span>(__pyx_args, 1);\n",
       "      values[2] = <span class='py_macro_api'>PyTuple_GET_ITEM</span>(__pyx_args, 2);\n",
       "    }\n",
       "    __pyx_v_a = values[0];\n",
       "    __pyx_v_b = values[1];\n",
       "    __pyx_v_c = <span class='pyx_c_api'>__Pyx_PyInt_As_int</span>(values[2]); if (unlikely((__pyx_v_c == (int)-1) &amp;&amp; <span class='py_c_api'>PyErr_Occurred</span>())) __PYX_ERR(0, 4, __pyx_L3_error)\n",
       "  }\n",
       "  goto __pyx_L4_argument_unpacking_done;\n",
       "  __pyx_L5_argtuple_error:;\n",
       "  <span class='pyx_c_api'>__Pyx_RaiseArgtupleInvalid</span>(\"p_method\", 1, 3, 3, <span class='py_macro_api'>PyTuple_GET_SIZE</span>(__pyx_args)); __PYX_ERR(0, 4, __pyx_L3_error)\n",
       "  __pyx_L3_error:;\n",
       "  <span class='pyx_c_api'>__Pyx_AddTraceback</span>(\"_cython_magic_3d596b88ca33928c25d6d669f8f1fdc5.C.p_method\", __pyx_clineno, __pyx_lineno, __pyx_filename);\n",
       "  <span class='refnanny'>__Pyx_RefNannyFinishContext</span>();\n",
       "  return NULL;\n",
       "  __pyx_L4_argument_unpacking_done:;\n",
       "  __pyx_r = __pyx_pf_46_cython_magic_3d596b88ca33928c25d6d669f8f1fdc5_1C_p_method(((struct __pyx_obj_46_cython_magic_3d596b88ca33928c25d6d669f8f1fdc5_C *)__pyx_v_self), __pyx_v_a, __pyx_v_b, __pyx_v_c);\n",
       "\n",
       "  /* function exit code */\n",
       "  <span class='refnanny'>__Pyx_RefNannyFinishContext</span>();\n",
       "  return __pyx_r;\n",
       "}\n",
       "\n",
       "static PyObject *__pyx_pf_46_cython_magic_3d596b88ca33928c25d6d669f8f1fdc5_1C_p_method(CYTHON_UNUSED struct __pyx_obj_46_cython_magic_3d596b88ca33928c25d6d669f8f1fdc5_C *__pyx_v_self, CYTHON_UNUSED PyObject *__pyx_v_a, CYTHON_UNUSED PyObject *__pyx_v_b, CYTHON_UNUSED int __pyx_v_c) {\n",
       "  PyObject *__pyx_r = NULL;\n",
       "  <span class='refnanny'>__Pyx_RefNannyDeclarations</span>\n",
       "  <span class='refnanny'>__Pyx_RefNannySetupContext</span>(\"p_method\", 0);\n",
       "\n",
       "  /* function exit code */\n",
       "  __pyx_r = Py_None; <span class='pyx_macro_api'>__Pyx_INCREF</span>(Py_None);\n",
       "  <span class='refnanny'>__Pyx_XGIVEREF</span>(__pyx_r);\n",
       "  <span class='refnanny'>__Pyx_RefNannyFinishContext</span>();\n",
       "  return __pyx_r;\n",
       "}\n",
       "</pre><pre class=\"cython line score-0\">&#xA0;<span class=\"\">5</span>:         <span class=\"k\">pass</span></pre>\n",
       "<pre class=\"cython line score-0\">&#xA0;<span class=\"\">6</span>: </pre>\n",
       "<pre class=\"cython line score-48\" onclick='toggleDiv(this)'>+<span class=\"\">7</span>: <span class=\"k\">def</span> <span class=\"nf\">f</span><span class=\"p\">(</span><span class=\"n\">a</span><span class=\"p\">,</span> <span class=\"n\">C</span> <span class=\"n\">c</span><span class=\"p\">):</span></pre>\n",
       "<pre class='cython code score-48 '>/* Python wrapper */\n",
       "static PyObject *__pyx_pw_46_cython_magic_3d596b88ca33928c25d6d669f8f1fdc5_1f(PyObject *__pyx_self, PyObject *__pyx_args, PyObject *__pyx_kwds); /*proto*/\n",
       "static PyMethodDef __pyx_mdef_46_cython_magic_3d596b88ca33928c25d6d669f8f1fdc5_1f = {\"f\", (PyCFunction)__pyx_pw_46_cython_magic_3d596b88ca33928c25d6d669f8f1fdc5_1f, METH_VARARGS|METH_KEYWORDS, 0};\n",
       "static PyObject *__pyx_pw_46_cython_magic_3d596b88ca33928c25d6d669f8f1fdc5_1f(PyObject *__pyx_self, PyObject *__pyx_args, PyObject *__pyx_kwds) {\n",
       "  PyObject *__pyx_v_a = 0;\n",
       "  struct __pyx_obj_46_cython_magic_3d596b88ca33928c25d6d669f8f1fdc5_C *__pyx_v_c = 0;\n",
       "  PyObject *__pyx_r = 0;\n",
       "  <span class='refnanny'>__Pyx_RefNannyDeclarations</span>\n",
       "  <span class='refnanny'>__Pyx_RefNannySetupContext</span>(\"f (wrapper)\", 0);\n",
       "  {\n",
       "    static PyObject **__pyx_pyargnames[] = {&amp;__pyx_n_s_a,&amp;__pyx_n_s_c,0};\n",
       "    PyObject* values[2] = {0,0};\n",
       "    if (unlikely(__pyx_kwds)) {\n",
       "      Py_ssize_t kw_args;\n",
       "      const Py_ssize_t pos_args = <span class='py_macro_api'>PyTuple_GET_SIZE</span>(__pyx_args);\n",
       "      switch (pos_args) {\n",
       "        case  2: values[1] = <span class='py_macro_api'>PyTuple_GET_ITEM</span>(__pyx_args, 1);\n",
       "        case  1: values[0] = <span class='py_macro_api'>PyTuple_GET_ITEM</span>(__pyx_args, 0);\n",
       "        case  0: break;\n",
       "        default: goto __pyx_L5_argtuple_error;\n",
       "      }\n",
       "      kw_args = <span class='py_c_api'>PyDict_Size</span>(__pyx_kwds);\n",
       "      switch (pos_args) {\n",
       "        case  0:\n",
       "        if (likely((values[0] = <span class='py_c_api'>PyDict_GetItem</span>(__pyx_kwds, __pyx_n_s_a)) != 0)) kw_args--;\n",
       "        else goto __pyx_L5_argtuple_error;\n",
       "        case  1:\n",
       "        if (likely((values[1] = <span class='py_c_api'>PyDict_GetItem</span>(__pyx_kwds, __pyx_n_s_c)) != 0)) kw_args--;\n",
       "        else {\n",
       "          <span class='pyx_c_api'>__Pyx_RaiseArgtupleInvalid</span>(\"f\", 1, 2, 2, 1); __PYX_ERR(0, 7, __pyx_L3_error)\n",
       "        }\n",
       "      }\n",
       "      if (unlikely(kw_args &gt; 0)) {\n",
       "        if (unlikely(<span class='pyx_c_api'>__Pyx_ParseOptionalKeywords</span>(__pyx_kwds, __pyx_pyargnames, 0, values, pos_args, \"f\") &lt; 0)) __PYX_ERR(0, 7, __pyx_L3_error)\n",
       "      }\n",
       "    } else if (<span class='py_macro_api'>PyTuple_GET_SIZE</span>(__pyx_args) != 2) {\n",
       "      goto __pyx_L5_argtuple_error;\n",
       "    } else {\n",
       "      values[0] = <span class='py_macro_api'>PyTuple_GET_ITEM</span>(__pyx_args, 0);\n",
       "      values[1] = <span class='py_macro_api'>PyTuple_GET_ITEM</span>(__pyx_args, 1);\n",
       "    }\n",
       "    __pyx_v_a = values[0];\n",
       "    __pyx_v_c = ((struct __pyx_obj_46_cython_magic_3d596b88ca33928c25d6d669f8f1fdc5_C *)values[1]);\n",
       "  }\n",
       "  goto __pyx_L4_argument_unpacking_done;\n",
       "  __pyx_L5_argtuple_error:;\n",
       "  <span class='pyx_c_api'>__Pyx_RaiseArgtupleInvalid</span>(\"f\", 1, 2, 2, <span class='py_macro_api'>PyTuple_GET_SIZE</span>(__pyx_args)); __PYX_ERR(0, 7, __pyx_L3_error)\n",
       "  __pyx_L3_error:;\n",
       "  <span class='pyx_c_api'>__Pyx_AddTraceback</span>(\"_cython_magic_3d596b88ca33928c25d6d669f8f1fdc5.f\", __pyx_clineno, __pyx_lineno, __pyx_filename);\n",
       "  <span class='refnanny'>__Pyx_RefNannyFinishContext</span>();\n",
       "  return NULL;\n",
       "  __pyx_L4_argument_unpacking_done:;\n",
       "  if (unlikely(!<span class='pyx_c_api'>__Pyx_ArgTypeTest</span>(((PyObject *)__pyx_v_c), __pyx_ptype_46_cython_magic_3d596b88ca33928c25d6d669f8f1fdc5_C, 1, \"c\", 0))) __PYX_ERR(0, 7, __pyx_L1_error)\n",
       "  __pyx_r = __pyx_pf_46_cython_magic_3d596b88ca33928c25d6d669f8f1fdc5_f(__pyx_self, __pyx_v_a, __pyx_v_c);\n",
       "\n",
       "  /* function exit code */\n",
       "  goto __pyx_L0;\n",
       "  __pyx_L1_error:;\n",
       "  __pyx_r = NULL;\n",
       "  __pyx_L0:;\n",
       "  <span class='refnanny'>__Pyx_RefNannyFinishContext</span>();\n",
       "  return __pyx_r;\n",
       "}\n",
       "\n",
       "static PyObject *__pyx_pf_46_cython_magic_3d596b88ca33928c25d6d669f8f1fdc5_f(CYTHON_UNUSED PyObject *__pyx_self, PyObject *__pyx_v_a, struct __pyx_obj_46_cython_magic_3d596b88ca33928c25d6d669f8f1fdc5_C *__pyx_v_c) {\n",
       "  PyObject *__pyx_r = NULL;\n",
       "  <span class='refnanny'>__Pyx_RefNannyDeclarations</span>\n",
       "  <span class='refnanny'>__Pyx_RefNannySetupContext</span>(\"f\", 0);\n",
       "/* … */\n",
       "  /* function exit code */\n",
       "  __pyx_r = Py_None; <span class='pyx_macro_api'>__Pyx_INCREF</span>(Py_None);\n",
       "  goto __pyx_L0;\n",
       "  __pyx_L1_error:;\n",
       "  <span class='pyx_macro_api'>__Pyx_XDECREF</span>(__pyx_t_1);\n",
       "  <span class='pyx_macro_api'>__Pyx_XDECREF</span>(__pyx_t_2);\n",
       "  <span class='pyx_c_api'>__Pyx_AddTraceback</span>(\"_cython_magic_3d596b88ca33928c25d6d669f8f1fdc5.f\", __pyx_clineno, __pyx_lineno, __pyx_filename);\n",
       "  __pyx_r = NULL;\n",
       "  __pyx_L0:;\n",
       "  <span class='refnanny'>__Pyx_XGIVEREF</span>(__pyx_r);\n",
       "  <span class='refnanny'>__Pyx_RefNannyFinishContext</span>();\n",
       "  return __pyx_r;\n",
       "}\n",
       "/* … */\n",
       "  __pyx_tuple__2 = <span class='py_c_api'>PyTuple_Pack</span>(2, __pyx_n_s_a, __pyx_n_s_c); if (unlikely(!__pyx_tuple__2)) __PYX_ERR(0, 7, __pyx_L1_error)\n",
       "  <span class='refnanny'>__Pyx_GOTREF</span>(__pyx_tuple__2);\n",
       "  <span class='refnanny'>__Pyx_GIVEREF</span>(__pyx_tuple__2);\n",
       "/* … */\n",
       "  __pyx_t_1 = PyCFunction_NewEx(&amp;__pyx_mdef_46_cython_magic_3d596b88ca33928c25d6d669f8f1fdc5_1f, NULL, __pyx_n_s_cython_magic_3d596b88ca33928c25); if (unlikely(!__pyx_t_1)) __PYX_ERR(0, 7, __pyx_L1_error)\n",
       "  <span class='refnanny'>__Pyx_GOTREF</span>(__pyx_t_1);\n",
       "  if (<span class='py_c_api'>PyDict_SetItem</span>(__pyx_d, __pyx_n_s_f, __pyx_t_1) &lt; 0) __PYX_ERR(0, 7, __pyx_L1_error)\n",
       "  <span class='pyx_macro_api'>__Pyx_DECREF</span>(__pyx_t_1); __pyx_t_1 = 0;\n",
       "</pre><pre class=\"cython line score-11\" onclick='toggleDiv(this)'>+<span class=\"\">8</span>:     <span class=\"n\">a</span><span class=\"o\">.</span><span class=\"n\">method</span><span class=\"p\">(</span><span class=\"mf\">1</span><span class=\"p\">,</span><span class=\"mf\">2</span><span class=\"p\">,</span><span class=\"mf\">3</span><span class=\"p\">)</span></pre>\n",
       "<pre class='cython code score-11 '>  __pyx_t_1 = <span class='pyx_c_api'>__Pyx_PyObject_GetAttrStr</span>(__pyx_v_a, __pyx_n_s_method); if (unlikely(!__pyx_t_1)) __PYX_ERR(0, 8, __pyx_L1_error)\n",
       "  <span class='refnanny'>__Pyx_GOTREF</span>(__pyx_t_1);\n",
       "  __pyx_t_2 = <span class='pyx_c_api'>__Pyx_PyObject_Call</span>(__pyx_t_1, __pyx_tuple_, NULL); if (unlikely(!__pyx_t_2)) __PYX_ERR(0, 8, __pyx_L1_error)\n",
       "  <span class='refnanny'>__Pyx_GOTREF</span>(__pyx_t_2);\n",
       "  <span class='pyx_macro_api'>__Pyx_DECREF</span>(__pyx_t_1); __pyx_t_1 = 0;\n",
       "  <span class='pyx_macro_api'>__Pyx_DECREF</span>(__pyx_t_2); __pyx_t_2 = 0;\n",
       "/* … */\n",
       "  __pyx_tuple_ = <span class='py_c_api'>PyTuple_Pack</span>(3, __pyx_int_1, __pyx_int_2, __pyx_int_3); if (unlikely(!__pyx_tuple_)) __PYX_ERR(0, 8, __pyx_L1_error)\n",
       "  <span class='refnanny'>__Pyx_GOTREF</span>(__pyx_tuple_);\n",
       "  <span class='refnanny'>__Pyx_GIVEREF</span>(__pyx_tuple_);\n",
       "</pre><pre class=\"cython line score-0\" onclick='toggleDiv(this)'>+<span class=\"\">9</span>:     <span class=\"n\">c</span><span class=\"o\">.</span><span class=\"n\">c_method</span><span class=\"p\">(</span><span class=\"mf\">1</span><span class=\"p\">,</span><span class=\"mf\">2</span><span class=\"p\">,</span><span class=\"mf\">3</span><span class=\"p\">)</span></pre>\n",
       "<pre class='cython code score-0 '>  ((struct __pyx_vtabstruct_46_cython_magic_3d596b88ca33928c25d6d669f8f1fdc5_C *)__pyx_v_c-&gt;__pyx_vtab)-&gt;c_method(__pyx_v_c, 1, 2, 3);\n",
       "</pre></div></body></html>"
      ],
      "text/plain": [
       "<IPython.core.display.HTML object>"
      ]
     },
     "execution_count": 24,
     "metadata": {},
     "output_type": "execute_result"
    }
   ],
   "source": [
    "%%cython -a\n",
    "cdef class C(object):\n",
    "    cdef void c_method(self, int a, int b, int c):\n",
    "        pass\n",
    "    def p_method(self, a, b, int c):\n",
    "        pass\n",
    "\n",
    "def f(a, C c):\n",
    "    a.method(1,2,3)\n",
    "    c.c_method(1,2,3)"
   ]
  },
  {
   "cell_type": "markdown",
   "metadata": {},
   "source": [
    "#### cdef関数(C関数)と def関数(Python関数) との違い\n",
    "\n",
    "最初に `cdef`指定のある関数(C関数)と、指定のない関数(Python関数)との違いを見る。\n",
    "\n",
    "2行目の `c_method` の宣言は概ね以下のようになっている。\n",
    "```C\n",
    "static void __pyx_省略_1C_c_method(struct __pyx_省略_C *__pyx_v_self,\n",
    "                                   int __pyx_v_a, int __pyx_v_b, int __pyx_v_c)\n",
    "```\n",
    "これはほぼ `cdef` 宣言そのままである。\n",
    "\n",
    "一方 4行目の `p_method` の宣言部分から生成されるコードは非常に大きい。似たような名前の関数が2つ生成されているが、エッセンスを抜きだすと以下のようになる。\n",
    "```C\n",
    "static PyObject *__pyx_省略_1C_1p_method(PyObject *__pyx_v_self,\n",
    "                                         PyObject *__pyx_args,\n",
    "                                         PyObject *__pyx_kwds)\n",
    "{\n",
    "    __pyx_args, __pyx_kwds から引数オブジェクトを確定し values[] へ;\n",
    "    __pyx_v_a = values[0];\n",
    "    __pyx_v_b = values[1];\n",
    "    __pyx_v_c = __Pyx_PyInt_As_int(values[2]);\n",
    "    __pyx_r = __pyx_省略_1C_p_method(((struct __pyx_省略_C *)__pyx_v_self),\n",
    "                                     __pyx_v_a, __pyx_v_b, __pyx_v_c);\n",
    "    return __pyx_r;\n",
    "}\n",
    "static PyObject *__pyx_省略_1C_p_method(struct __pyx_省略_C *__pyx_v_self,\n",
    "                                        PyObject *__pyx_v_a, PyObject *__pyx_v_b, int __pyx_v_c)\n",
    "{\n",
    "    __pyx_r = Py_None; __Pyx_INCREF(Py_None);\n",
    "    __Pyx_XGIVEREF(__pyx_r);\n",
    "    return __pyx_r;\n",
    "}\n",
    "```\n",
    "- 最初にあげた関数は、Pythonのスクリプトから呼ばれる関数である\n",
    "- 二番目の関数は Cython 上で呼び出す場合の関数であり Cython の `p_method` 本体に記述した処理はこちらの関数の方で実装される。\n",
    "- 最初の関数は Python から規約通りに呼ばれるため、引数リスト(tuple形式)やキーワード引数(dict形式)の解釈と引数の個数のチェックが行われる。\n",
    "\n",
    "Python関数は cdef指定のC関数よりも多くの仕事をしていることがわかる。"
   ]
  },
  {
   "cell_type": "markdown",
   "metadata": {},
   "source": [
    "##### a.method の呼び出し\n",
    "8行目の `a.a_method` であるが、生成されるコードの順番により多少わかりにくくなっているので、エラー処理や参照カウント処理を取り除いたエッセンスを整理すると、以下のようなコードになる。\n",
    "```C\n",
    "__pyx_tuple_ = PyTuple_Pack(3, __pyx_int_1, __pyx_int_2, __pyx_int_3);\n",
    "__pyx_t_1 = __Pyx_PyObject_GetAttrStr(__pyx_v_a, __pyx_n_s_method);\n",
    "__pyx_t_2 = __Pyx_PyObject_Call(__pyx_t_1, __pyx_tuple_, NULL);\n",
    "```\n",
    "- Python関数の呼び出し規則に従って、引数が tuple にまとめられている。なお、`__pyx_int_1`, `__pyx_int_2`, `__pyx_int_3` はすべて `PyObject *` であり Python の整数オブジェクトの参照である。\n",
    "- `a` の指すオブジェクトに対して文字列`\"method\"` の属性探索が行われる。\n",
    "- 最後に見つかった属性に対して汎用の呼び出し機構である `PyObjcet_Call` で呼び出しを行う。この関数の最後の引数はキーワード引数用の辞書オブジェクトのアドレスを渡すところで、ここでは固定引数のみなので NULL が渡されている。\n",
    "\n",
    "##### c.c_method の呼び出し\n",
    "一方で、9行目の `c.c_method` からは、\n",
    "```C\n",
    "((struct __pyx_省略_C *)__pyx_v_c->__pyx_vtab)->c_method(__pyx_v_c, 1, 2, 3)\n",
    "```\n",
    "というコードが生成される。先程のコードと対比すると以下の違いがあり、これらが早さの秘密である。\n",
    "- 構造体メンバーの間接参照のみで C言語の関数ポインタを通して `c_method` を呼び出している。\n",
    "- 引数も `PyObject *` へ変換することなく C言語の型のまま渡されている。"
   ]
  },
  {
   "cell_type": "markdown",
   "metadata": {
    "slideshow": {
     "slide_type": "slide"
    }
   },
   "source": [
    "## Cythonの適用例\n",
    "\n",
    "最後に実際に使用していた Python のコードを Cython 化した適用例を示して締めくくる。これは、メモリマップ(mmap)した固定のエリアに巡回的にログを書き込む機能を cython 化した例である。\n",
    "\n",
    "- C言語用としてライブラリは作成されていた。\n",
    "\n",
    "- そのライブラリへの依存性を排除するため pure python で実装していた。\n",
    "\n",
    "- やはり遅いため cython で実装しなおした。\n",
    "\n",
    "### 実測値\n",
    "\n",
    "1MBytes の領域に 40 bytes のデータを 1000000 回書き込む (約 38MBytes)。\n",
    "\n",
    "CPU: Intel(R) Xeon(R) X5680 3.33GHz\n",
    "\n",
    "実装方法               | 経過時間(sec) | 対 pure Python\n",
    "-----------------------|---------------|----------------\n",
    "pure Python            | <center>41.194<center/> | \n",
    "ctypes によるブリッジ  | <center>1.729<center/> | <center>23.8<center/>\n",
    "Cython による再実装    | <center>0.214<center/> | <center>192.5<center/>\n",
    "Cython によるブリッジ  | <center>0.208<center/> | <center>198.0<center/>\n",
    "C によるオリジナル     | <center>0.134<center/>  | <center>316.9<center/>\n",
    "\n",
    "### 考察\n",
    "\n",
    "- Cython を使用することで外部ライブラリへの依存を排除したうえでパフォーマンスが向上した。\n",
    "- Cython で外部ライブラリブリッジを作成することは容易であり、パフォーマンス上も満足がいく。\n",
    "- ctypes と cython によるブリッジとは同じCの関数を呼び出している。\n",
    "  汎用機構である ctypes の C関数呼び出しのオーバヘッドの大きさがわかる。  \n",
    "- やはり、C言語は爆速だった。\n",
    "\n",
    "### Cython は完璧か？\n",
    "\n",
    "- 数値計算、バイト列に対するポインタ演算などを多用するコードは Cython での高速化が望める。\n",
    "- Pythonのオブジェクトを多用するコードは、Python内部表現とCの型との boxing/unboxing の頻度が増えることを考慮する必要がある。\n",
    "- Cythonのもつ型変換がトラップとなる場合がある：\n",
    "  - `char *` の引数渡しの際に、`PyString_Object` が生成され、そのオブジェクト中の文字バッファのアドレスが代わりに渡される。\n",
    "\n",
    "### まとめ\n",
    "\n",
    "- Python はその動的特性ゆえに Python コード自体では回避できないパフォーマンスの問題がある。\n",
    "- パフォーマンスの問題で Python をためらっているなら Cython 化という方法がある。\n",
    "- Cython 化は C に書き直すよりも遥かに容易であるため、試してみて損はない。"
   ]
  }
 ],
 "metadata": {
  "anaconda-cloud": {},
  "kernelspec": {
   "display_name": "Python [default]",
   "language": "python",
   "name": "python2"
  },
  "language_info": {
   "codemirror_mode": {
    "name": "ipython",
    "version": 2
   },
   "file_extension": ".py",
   "mimetype": "text/x-python",
   "name": "python",
   "nbconvert_exporter": "python",
   "pygments_lexer": "ipython2",
   "version": "2.7.12"
  },
  "livereveal": {
   "height": 800,
   "scroll": true,
   "start_slideshow_at": "selected",
   "width": 1280
  },
  "nbpresent": {
   "slides": {
    "4cc93031-1dde-405d-b5c4-98116c8ad5bf": {
     "id": "4cc93031-1dde-405d-b5c4-98116c8ad5bf",
     "layout": "manual",
     "prev": null,
     "regions": {
      "2400f00f-7b0d-4d0b-994d-1c090f4432f3": {
       "attrs": {
        "height": -0.4000000000000005,
        "pad": 0.3600000000000002,
        "treemap:weight": 1,
        "width": 4.149999999999999,
        "x": 1.1102230246251565e-16,
        "y": 1.5265566588595902e-16
       },
       "content": {
        "cell": "6fb16727-099c-423e-8b97-9bf382d2d608",
        "part": "whole"
       },
       "id": "2400f00f-7b0d-4d0b-994d-1c090f4432f3"
      }
     },
     "theme": "d8f6bccc-2ae3-4e63-897b-097733fc4ed8"
    },
    "c0667b08-a335-4536-bd16-23760d1a6512": {
     "id": "c0667b08-a335-4536-bd16-23760d1a6512",
     "layout": "manual",
     "prev": "4cc93031-1dde-405d-b5c4-98116c8ad5bf",
     "regions": {
      "5f096056-0d87-42e7-a261-b4f7418c7e88": {
       "attrs": {
        "height": 1,
        "treemap:weight": 1,
        "width": 1,
        "x": 0,
        "y": 0
       },
       "content": {
        "cell": "ba678f10-e794-4fa8-8c7f-564031032122",
        "part": "whole"
       },
       "id": "5f096056-0d87-42e7-a261-b4f7418c7e88"
      }
     }
    }
   },
   "themes": {
    "default": "ca5019b7-c986-4995-b40f-1563c5ed4b64",
    "theme": {
     "ca5019b7-c986-4995-b40f-1563c5ed4b64": {
      "backgrounds": {
       "dc7afa04-bf90-40b1-82a5-726e3cff5267": {
        "background-color": "31af15d2-7e15-44c5-ab5e-e04b16a89eff",
        "id": "dc7afa04-bf90-40b1-82a5-726e3cff5267"
       }
      },
      "id": "ca5019b7-c986-4995-b40f-1563c5ed4b64",
      "palette": {
       "19cc588f-0593-49c9-9f4b-e4d7cc113b1c": {
        "id": "19cc588f-0593-49c9-9f4b-e4d7cc113b1c",
        "rgb": [
         252,
         252,
         252
        ]
       },
       "31af15d2-7e15-44c5-ab5e-e04b16a89eff": {
        "id": "31af15d2-7e15-44c5-ab5e-e04b16a89eff",
        "rgb": [
         68,
         68,
         68
        ]
       },
       "50f92c45-a630-455b-aec3-788680ec7410": {
        "id": "50f92c45-a630-455b-aec3-788680ec7410",
        "rgb": [
         197,
         226,
         245
        ]
       },
       "c5cc3653-2ee1-402a-aba2-7caae1da4f6c": {
        "id": "c5cc3653-2ee1-402a-aba2-7caae1da4f6c",
        "rgb": [
         43,
         126,
         184
        ]
       },
       "efa7f048-9acb-414c-8b04-a26811511a21": {
        "id": "efa7f048-9acb-414c-8b04-a26811511a21",
        "rgb": [
         25.118061674008803,
         73.60176211453744,
         107.4819383259912
        ]
       }
      },
      "rules": {
       "a": {
        "color": "19cc588f-0593-49c9-9f4b-e4d7cc113b1c"
       },
       "blockquote": {
        "color": "50f92c45-a630-455b-aec3-788680ec7410",
        "font-size": 3
       },
       "code": {
        "font-family": "Anonymous Pro"
       },
       "h1": {
        "color": "19cc588f-0593-49c9-9f4b-e4d7cc113b1c",
        "font-family": "Merriweather",
        "font-size": 8
       },
       "h2": {
        "color": "19cc588f-0593-49c9-9f4b-e4d7cc113b1c",
        "font-family": "Merriweather",
        "font-size": 6
       },
       "h3": {
        "color": "50f92c45-a630-455b-aec3-788680ec7410",
        "font-family": "Lato",
        "font-size": 5.5
       },
       "h4": {
        "color": "c5cc3653-2ee1-402a-aba2-7caae1da4f6c",
        "font-family": "Lato",
        "font-size": 5
       },
       "h5": {
        "font-family": "Lato"
       },
       "h6": {
        "font-family": "Lato"
       },
       "h7": {
        "font-family": "Lato"
       },
       "li": {
        "color": "50f92c45-a630-455b-aec3-788680ec7410",
        "font-size": 3.25
       },
       "pre": {
        "font-family": "Anonymous Pro",
        "font-size": 4
       }
      },
      "text-base": {
       "color": "19cc588f-0593-49c9-9f4b-e4d7cc113b1c",
       "font-family": "Lato",
       "font-size": 4
      }
     },
     "d8f6bccc-2ae3-4e63-897b-097733fc4ed8": {
      "backgrounds": {
       "backgroundColor": {
        "background-color": "backgroundColor",
        "id": "backgroundColor"
       }
      },
      "id": "d8f6bccc-2ae3-4e63-897b-097733fc4ed8",
      "palette": {
       "backgroundColor": {
        "id": "backgroundColor",
        "rgb": [
         34,
         34,
         34
        ]
       },
       "headingColor": {
        "id": "headingColor",
        "rgb": [
         256,
         256,
         256
        ]
       },
       "linkColor": {
        "id": "linkColor",
        "rgb": [
         66,
         175,
         250
        ]
       },
       "mainColor": {
        "id": "mainColor",
        "rgb": [
         256,
         256,
         256
        ]
       }
      },
      "rules": {
       "a": {
        "color": "linkColor"
       },
       "h1": {
        "color": "headingColor",
        "font-family": "Source Sans Pro",
        "font-size": 5.25
       },
       "h2": {
        "color": "headingColor",
        "font-family": "Source Sans Pro",
        "font-size": 4
       },
       "h3": {
        "color": "headingColor",
        "font-family": "Source Sans Pro",
        "font-size": 3.5
       },
       "h4": {
        "color": "headingColor",
        "font-family": "Source Sans Pro",
        "font-size": 3
       },
       "h5": {
        "color": "headingColor",
        "font-family": "Source Sans Pro"
       },
       "h6": {
        "color": "headingColor",
        "font-family": "Source Sans Pro"
       },
       "h7": {
        "color": "headingColor",
        "font-family": "Source Sans Pro"
       },
       "li": {
        "color": "mainColor",
        "font-family": "Source Sans Pro",
        "font-size": 6
       },
       "p": {
        "color": "mainColor",
        "font-family": "Source Sans Pro",
        "font-size": 6
       }
      },
      "text-base": {
       "color": "mainColor",
       "font-family": "Source Sans Pro",
       "font-size": 6
      }
     }
    }
   }
  }
 },
 "nbformat": 4,
 "nbformat_minor": 1
}
