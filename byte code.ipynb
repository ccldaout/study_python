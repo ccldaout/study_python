{
 "cells": [
  {
   "cell_type": "markdown",
   "metadata": {},
   "source": [
    "# Python バイトコード"
   ]
  },
  {
   "cell_type": "markdown",
   "metadata": {},
   "source": [
    "「Python のモジュールを import すると何が起きるか？クラス定義はどのように為されるか？」これらを深く知ろうとするとリファレンスマニュアルでは不足で、Pythonの実装(Cソースコード)を読む必要がある。実はその中間点にバイトコードが存在する。バイトコードを見ることは、リファレンスマニュアルを正しく理解する助けとなるほか、実装を調べる際の足掛かりにもなる。\n",
    "\n",
    "Python には、disモジュールというバイトコードをダンプする標準モジュールが存在するが、これはバイトコードファイル(.pycファイル)を直接扱えない。関数をダンプすれば、その関数のバイトコードが見れるが、(既に定義されてしまっている)クラスをダンプしても、クラス内のメソッドのバイトコードは見れるが、クラスを定義する過程(ローカル辞書を構築する様やクラス変数が定義されていくさまなど)を見ることはできない\n",
    "\n",
    "そこで、まずバイトコードファイル(.pyc)をダンプする関数を定義し、いくつかの簡単な例についてPythonのソースとバイトコードの関係から、Pythonの動作を調査する。"
   ]
  },
  {
   "cell_type": "markdown",
   "metadata": {},
   "source": [
    "## バイトコードファイルのダンプ"
   ]
  },
  {
   "cell_type": "markdown",
   "metadata": {},
   "source": [
    "Pythonソースファイルを pyc へコンパイルする compileall モジュールを足掛かりに調べると、py_compile というモジュールで実際に pyc ファイルを書き出していることが判明する。書き出しは以下のように行なわれる。\n",
    "\n",
    "1. ソースファイルを文字列(codestring)として読み込む。\n",
    "2. その文字列(codestring)を組み込み関数 compile でコードオブジェクト(codeobject)に変換する。\n",
    "3. バイトコードファイルを新規に作成し、先頭に4バイト(0x0 4つ)書く。\n",
    "4. ソースファイルのタイムスタンプを4バイトで追記。\n",
    "5. コードオブジェクト(codeobject)を marshal.dump でシリアライズしたものを追記。\n",
    "6. 先頭の 4 バイトをマジックコードで書き換え。\n",
    "\n",
    "これを逆に辿ることで pyc ファイルからコードオブジェクトを取り出し、そのコードオブジェクトを dis でダンプする。\n",
    "\n",
    "* 先の手順を見ると、1., 2. から pyc ファイルを経由することなくコードオブジェクトが得られるのでそれを dis でダンプするだけでも良いが、pycファイルしかない場合の解析という点も含めて、もとの方針で進める。"
   ]
  },
  {
   "cell_type": "markdown",
   "metadata": {},
   "source": [
    "### 必要なモジュール"
   ]
  },
  {
   "cell_type": "code",
   "execution_count": 1,
   "metadata": {
    "collapsed": false
   },
   "outputs": [],
   "source": [
    "import marshal\n",
    "import types\n",
    "import traceback\n",
    "import dis"
   ]
  },
  {
   "cell_type": "markdown",
   "metadata": {},
   "source": [
    "### ダンプ処理の関数"
   ]
  },
  {
   "cell_type": "markdown",
   "metadata": {},
   "source": [
    "pycファイルのダンプ処理は、pycファイルの先頭8バイト目以降のバイト列を marshal.loads でデシリアライズしてコードオブジェクトに変換し、そのコードオブジェクトに対して dis.dis を適用する。"
   ]
  },
  {
   "cell_type": "code",
   "execution_count": 2,
   "metadata": {
    "collapsed": false
   },
   "outputs": [],
   "source": [
    "def dis_pyc(pyc):\n",
    "    with open(pyc, 'rb') as f:\n",
    "        dis.dis(marshal.loads(f.read()[8:]))"
   ]
  },
  {
   "cell_type": "markdown",
   "metadata": {},
   "source": [
    "次にソースファイルの表示・コンパイル・ダンプを実行するテスト関数を準備する。"
   ]
  },
  {
   "cell_type": "code",
   "execution_count": 3,
   "metadata": {
    "collapsed": false
   },
   "outputs": [],
   "source": [
    "import py_compile\n",
    "import os.path\n",
    "def tst(py):\n",
    "    py = os.path.join('sample', py)\n",
    "    print '<<', py, '>>'\n",
    "    with open(py) as f:\n",
    "        for n, s in enumerate(f):\n",
    "            print '%06s\\t%s' % (n+1, s[:-1])\n",
    "    print\n",
    "    pyc = py + 'c'\n",
    "    print '<<', pyc, '>>'\n",
    "    py_compile.compile(py, pyc)\n",
    "    dis_pyc(pyc)"
   ]
  },
  {
   "cell_type": "markdown",
   "metadata": {},
   "source": [
    "まず単純な関数が一つだけ定義されている bc01.py で試す。"
   ]
  },
  {
   "cell_type": "code",
   "execution_count": 4,
   "metadata": {
    "collapsed": false
   },
   "outputs": [
    {
     "name": "stdout",
     "output_type": "stream",
     "text": [
      "<< sample\\bc01.py >>\n",
      "     1\tdef add(a, b):\n",
      "     2\t    return a + b\n",
      "\n",
      "<< sample\\bc01.pyc >>\n",
      "  1           0 LOAD_CONST               0 (<code object add at 0000000009F2E7B0, file \"sample\\bc01.py\", line 1>)\n",
      "              3 MAKE_FUNCTION            0\n",
      "              6 STORE_NAME               0 (add)\n",
      "              9 LOAD_CONST               1 (None)\n",
      "             12 RETURN_VALUE        \n"
     ]
    }
   ],
   "source": [
    "tst('bc01.py')"
   ]
  },
  {
   "cell_type": "markdown",
   "metadata": {},
   "source": [
    "ダンプ結果から、bc01.py を import した時に、関数オブジェクトが作られ(MAKE_FUNCTION)、それをローカル辞書の 'add' に登録(STORE_NAME)していることがわかる。と同時に、add 関数の中身については LOAD_CONST で参照されているだけでダンプされていないため不十分である。LOAD_CONST の右側に表示されている `<code object add at ...>` はまさしく add 関数のコードオブジェクトであり、これにアクセスできるのであれば再帰的にダンプすることが可能である。\n",
    "\n",
    "ここで一先ず marshal.dumps で得られる最初のコードオブジェクトの中身を見てみる。"
   ]
  },
  {
   "cell_type": "code",
   "execution_count": 5,
   "metadata": {
    "collapsed": false
   },
   "outputs": [],
   "source": [
    "def dump_code(c):\n",
    "    print 'dump_code', c\n",
    "    for n in dir(c):\n",
    "        if n[:3] == 'co_' and n not in ('co_code', 'co_lnotab'):\n",
    "            print '\\tc.'+n, getattr(c, n)\n",
    "    print"
   ]
  },
  {
   "cell_type": "code",
   "execution_count": 6,
   "metadata": {
    "collapsed": false
   },
   "outputs": [
    {
     "name": "stdout",
     "output_type": "stream",
     "text": [
      "dump_code <code object <module> at 0000000009F2E9B0, file \"sample\\bc01.py\", line 1>\n",
      "\tc.co_argcount 0\n",
      "\tc.co_cellvars ()\n",
      "\tc.co_consts (<code object add at 0000000009F2E930, file \"sample\\bc01.py\", line 1>, None)\n",
      "\tc.co_filename sample\\bc01.py\n",
      "\tc.co_firstlineno 1\n",
      "\tc.co_flags 64\n",
      "\tc.co_freevars ()\n",
      "\tc.co_name <module>\n",
      "\tc.co_names ('add',)\n",
      "\tc.co_nlocals 0\n",
      "\tc.co_stacksize 1\n",
      "\tc.co_varnames ()\n",
      "\n"
     ]
    }
   ],
   "source": [
    "with open('sample\\\\bc01.pyc', 'rb') as f:\n",
    "    dump_code(marshal.loads(f.read()[8:]))"
   ]
  },
  {
   "cell_type": "markdown",
   "metadata": {},
   "source": [
    "LOAD_CONSTのパラメータは co_consts 属性のインデックスとなっている。先のダンプ結果で、最初の LOAD_CONST 命令のパラメータは 0 であるので、`co_consts[0]` つまり `<code object add at ...>` を指していて、最後の LOAD_CONST 命令は `co_consts[1]` つまり None を指している。\n",
    "\n",
    "co_consts の中身を再帰的にトレースすれば目的の結果が得られそうである。"
   ]
  },
  {
   "cell_type": "markdown",
   "metadata": {},
   "source": [
    "### ダンプ処理の関数 (確定版)"
   ]
  },
  {
   "cell_type": "code",
   "execution_count": 7,
   "metadata": {
    "collapsed": false
   },
   "outputs": [],
   "source": [
    "def dis_code(c, upper):\n",
    "    upper = upper + '.' + c.co_name\n",
    "    for c2 in c.co_consts:\n",
    "        if isinstance(c2, types.CodeType):\n",
    "            dis_code(c2, upper)\n",
    "            print\n",
    "    print '[ co_name: %s ] -------' % upper, c\n",
    "    print '  co_varnames :', c.co_varnames\n",
    "    print '  co_names    :', c.co_names\n",
    "    print '  co_freevars :', c.co_freevars\n",
    "    dis.dis(c)\n",
    "    \n",
    "def dis_pyc(pyc):\n",
    "    with open(pyc, 'rb') as f:\n",
    "        dis_code(marshal.loads(f.read()[8:]), '')"
   ]
  },
  {
   "cell_type": "markdown",
   "metadata": {},
   "source": [
    "再度 bc01.py をダンプしてみる。"
   ]
  },
  {
   "cell_type": "code",
   "execution_count": 8,
   "metadata": {
    "collapsed": false
   },
   "outputs": [
    {
     "name": "stdout",
     "output_type": "stream",
     "text": [
      "<< sample\\bc01.py >>\n",
      "     1\tdef add(a, b):\n",
      "     2\t    return a + b\n",
      "\n",
      "<< sample\\bc01.pyc >>\n",
      "[ co_name: .<module>.add ] ------- <code object add at 0000000009F2E430, file \"sample\\bc01.py\", line 1>\n",
      "  co_varnames : ('a', 'b')\n",
      "  co_names    : ()\n",
      "  co_freevars : ()\n",
      "  2           0 LOAD_FAST                0 (a)\n",
      "              3 LOAD_FAST                1 (b)\n",
      "              6 BINARY_ADD          \n",
      "              7 RETURN_VALUE        \n",
      "\n",
      "[ co_name: .<module> ] ------- <code object <module> at 0000000009F2E930, file \"sample\\bc01.py\", line 1>\n",
      "  co_varnames : ()\n",
      "  co_names    : ('add',)\n",
      "  co_freevars : ()\n",
      "  1           0 LOAD_CONST               0 (<code object add at 0000000009F2E430, file \"sample\\bc01.py\", line 1>)\n",
      "              3 MAKE_FUNCTION            0\n",
      "              6 STORE_NAME               0 (add)\n",
      "              9 LOAD_CONST               1 (None)\n",
      "             12 RETURN_VALUE        \n"
     ]
    }
   ],
   "source": [
    "tst('bc01.py')"
   ]
  },
  {
   "cell_type": "markdown",
   "metadata": {},
   "source": [
    "add 関数自体のコードオブジェクトがダンプされ、最後にモジュールトップレベルのコードオブジェクト(これが、import時に実行されるコード)がダンプされていることがわかる。"
   ]
  },
  {
   "cell_type": "markdown",
   "metadata": {},
   "source": [
    "## 色々なダンプ結果"
   ]
  },
  {
   "cell_type": "markdown",
   "metadata": {},
   "source": [
    "### クラス定義"
   ]
  },
  {
   "cell_type": "markdown",
   "metadata": {},
   "source": [
    "まず、一つのクラス属性をもつクラス定義から見ていく。"
   ]
  },
  {
   "cell_type": "code",
   "execution_count": 9,
   "metadata": {
    "collapsed": false
   },
   "outputs": [
    {
     "name": "stdout",
     "output_type": "stream",
     "text": [
      "<< sample\\bc02.py >>\n",
      "     1\tclass A(object):\n",
      "     2\t    cls_attr = 5\n",
      "\n",
      "<< sample\\bc02.pyc >>\n",
      "[ co_name: .<module>.A ] ------- <code object A at 0000000009F2E930, file \"sample\\bc02.py\", line 1>\n",
      "  co_varnames : ()\n",
      "  co_names    : ('__name__', '__module__', 'cls_attr')\n",
      "  co_freevars : ()\n",
      "  1           0 LOAD_NAME                0 (__name__)\n",
      "              3 STORE_NAME               1 (__module__)\n",
      "\n",
      "  2           6 LOAD_CONST               0 (5)\n",
      "              9 STORE_NAME               2 (cls_attr)\n",
      "             12 LOAD_LOCALS         \n",
      "             13 RETURN_VALUE        \n",
      "\n",
      "[ co_name: .<module> ] ------- <code object <module> at 0000000009F2E430, file \"sample\\bc02.py\", line 1>\n",
      "  co_varnames : ()\n",
      "  co_names    : ('object', 'A')\n",
      "  co_freevars : ()\n",
      "  1           0 LOAD_CONST               0 ('A')\n",
      "              3 LOAD_NAME                0 (object)\n",
      "              6 BUILD_TUPLE              1\n",
      "              9 LOAD_CONST               1 (<code object A at 0000000009F2E930, file \"sample\\bc02.py\", line 1>)\n",
      "             12 MAKE_FUNCTION            0\n",
      "             15 CALL_FUNCTION            0\n",
      "             18 BUILD_CLASS         \n",
      "             19 STORE_NAME               1 (A)\n",
      "             22 LOAD_CONST               2 (None)\n",
      "             25 RETURN_VALUE        \n"
     ]
    }
   ],
   "source": [
    "tst('bc02.py')"
   ]
  },
  {
   "cell_type": "markdown",
   "metadata": {},
   "source": [
    "二番目のコードオブジェクトは最初の例と同様、モジュールトップレベルのもので import 時に実行されるコードである。興味深いのは、クラス定義に関連したコードオブジェクト(最初のコードオブジェクト)が存在すること、そして、トップレベルではそのコードオブジェクトから関数を生成し(MAKE_FUNCTION)、呼び出している(CALL_FUNCTION)ところである。\n",
    "\n",
    "最初のコードオブジェクトの役割は、クラス定義に必要なクラス属性の辞書をセットアップすることである。辞書はコードを実行する際の実行フレームの辞書(ローカル辞書)を使用し、そこに STORE_NAME 命令でクラス属性の名前と値を追加している。最後に LOAD_LOCALS と RETURN_VALUE の組み合わせで、このローカル辞書の参照を返却する。（Pythonのバイトコードはスタック型である）\n",
    "\n",
    "モジュールトップレベルでは、(1)クラス名 'A'、(2)基底クラスのタプル(object,)、(3)最初のコードオブジェクトから得られた辞書、をもとに BUILD_CLASS 命令でクラスを生成している。これら(1),(2),(3)は丁度組込み関数 type の引数に相当するが、BUILD_CLASS 命令ではまさしく type の C実装コードの呼び出しが行われる。最後に BUILD_CLASS 命令で生成されたクラスオブジェクトを、ローカル辞書(モジュールレベルではグローバル辞書と同じ)の名前 'A' に割り当てる。\n",
    "\n",
    "これらの動作は、Python言語リファレンスのクラス定義で次の記述に相当する:\n",
    "> クラス定義は実行可能な文です。クラス定義では、まず継承リストがあればそれを評価します。継承リストの各要素の値評価結果はクラスオブジェクトか、サブクラス可能なクラス型でなければなりません。次にクラスのスイートが新たな実行フレーム内で、新たなローカル名前空間と元々のグローバル名前空間を使って実行されます (名前づけと束縛 (naming and binding) 節を参照してください ) 。 ( 通常、スイートには関数定義のみが含まれます ) クラスのスイートを実行し終えると、実行フレームは無視されますが、ローカルな名前空間は保存されます。次に、基底クラスの継承リストを使ってクラスオブジェクトが生成され、ローカルな名前空間を属性値辞書として保存します。最後に、もとのローカルな名前空間において、クラス名がこのクラスオブジェクトに束縛されます。\n",
    "\n",
    "次にメソッドを一つ追加したコードを見る。"
   ]
  },
  {
   "cell_type": "code",
   "execution_count": 10,
   "metadata": {
    "collapsed": false
   },
   "outputs": [
    {
     "name": "stdout",
     "output_type": "stream",
     "text": [
      "<< sample\\bc03.py >>\n",
      "     1\tclass A(object):\n",
      "     2\t    cls_attr = 5\n",
      "     3\t    def m(self):\n",
      "     4\t        pass\n",
      "\n",
      "<< sample\\bc03.pyc >>\n",
      "[ co_name: .<module>.A.m ] ------- <code object m at 0000000009F2ED30, file \"sample\\bc03.py\", line 3>\n",
      "  co_varnames : ('self',)\n",
      "  co_names    : ()\n",
      "  co_freevars : ()\n",
      "  4           0 LOAD_CONST               0 (None)\n",
      "              3 RETURN_VALUE        \n",
      "\n",
      "[ co_name: .<module>.A ] ------- <code object A at 0000000009F2E430, file \"sample\\bc03.py\", line 1>\n",
      "  co_varnames : ()\n",
      "  co_names    : ('__name__', '__module__', 'cls_attr', 'm')\n",
      "  co_freevars : ()\n",
      "  1           0 LOAD_NAME                0 (__name__)\n",
      "              3 STORE_NAME               1 (__module__)\n",
      "\n",
      "  2           6 LOAD_CONST               0 (5)\n",
      "              9 STORE_NAME               2 (cls_attr)\n",
      "\n",
      "  3          12 LOAD_CONST               1 (<code object m at 0000000009F2ED30, file \"sample\\bc03.py\", line 3>)\n",
      "             15 MAKE_FUNCTION            0\n",
      "             18 STORE_NAME               3 (m)\n",
      "             21 LOAD_LOCALS         \n",
      "             22 RETURN_VALUE        \n",
      "\n",
      "[ co_name: .<module> ] ------- <code object <module> at 0000000009F2E930, file \"sample\\bc03.py\", line 1>\n",
      "  co_varnames : ()\n",
      "  co_names    : ('object', 'A')\n",
      "  co_freevars : ()\n",
      "  1           0 LOAD_CONST               0 ('A')\n",
      "              3 LOAD_NAME                0 (object)\n",
      "              6 BUILD_TUPLE              1\n",
      "              9 LOAD_CONST               1 (<code object A at 0000000009F2E430, file \"sample\\bc03.py\", line 1>)\n",
      "             12 MAKE_FUNCTION            0\n",
      "             15 CALL_FUNCTION            0\n",
      "             18 BUILD_CLASS         \n",
      "             19 STORE_NAME               1 (A)\n",
      "             22 LOAD_CONST               2 (None)\n",
      "             25 RETURN_VALUE        \n"
     ]
    }
   ],
   "source": [
    "tst('bc03.py')"
   ]
  },
  {
   "cell_type": "markdown",
   "metadata": {},
   "source": [
    "予想通り、メソッドの根底となる関数のコードオブジェクトの分だけ増えている。"
   ]
  },
  {
   "cell_type": "markdown",
   "metadata": {},
   "source": [
    "### 呼び出し"
   ]
  },
  {
   "cell_type": "markdown",
   "metadata": {},
   "source": [
    "次に典型的な呼び出し操作 - 関数呼び出し、インスタンス化、メソッド呼び出し、コーラブルオブジェクト呼び出しを見る。"
   ]
  },
  {
   "cell_type": "code",
   "execution_count": 11,
   "metadata": {
    "collapsed": false
   },
   "outputs": [
    {
     "name": "stdout",
     "output_type": "stream",
     "text": [
      "<< sample\\bc04.py >>\n",
      "     1\tdef f(a):\n",
      "     2\t    return a + 1\n",
      "     3\t\n",
      "     4\tclass A(object):\n",
      "     5\t    def __call__(self):\n",
      "     6\t        pass\n",
      "     7\t    def m(self, v):\n",
      "     8\t        return v * 2\n",
      "     9\t\n",
      "    10\tf(7)\n",
      "    11\ta = A()\n",
      "    12\ta.m(8)\n",
      "    13\ta.m(9)\n",
      "    14\ta()\n",
      "\n",
      "<< sample\\bc04.pyc >>\n",
      "[ co_name: .<module>.f ] ------- <code object f at 0000000009F2EBB0, file \"sample\\bc04.py\", line 1>\n",
      "  co_varnames : ('a',)\n",
      "  co_names    : ()\n",
      "  co_freevars : ()\n",
      "  2           0 LOAD_FAST                0 (a)\n",
      "              3 LOAD_CONST               1 (1)\n",
      "              6 BINARY_ADD          \n",
      "              7 RETURN_VALUE        \n",
      "\n",
      "[ co_name: .<module>.A.__call__ ] ------- <code object __call__ at 0000000009F2E430, file \"sample\\bc04.py\", line 5>\n",
      "  co_varnames : ('self',)\n",
      "  co_names    : ()\n",
      "  co_freevars : ()\n",
      "  6           0 LOAD_CONST               0 (None)\n",
      "              3 RETURN_VALUE        \n",
      "\n",
      "[ co_name: .<module>.A.m ] ------- <code object m at 0000000009F2EDB0, file \"sample\\bc04.py\", line 7>\n",
      "  co_varnames : ('self', 'v')\n",
      "  co_names    : ()\n",
      "  co_freevars : ()\n",
      "  8           0 LOAD_FAST                1 (v)\n",
      "              3 LOAD_CONST               1 (2)\n",
      "              6 BINARY_MULTIPLY     \n",
      "              7 RETURN_VALUE        \n",
      "\n",
      "[ co_name: .<module>.A ] ------- <code object A at 0000000009F2E930, file \"sample\\bc04.py\", line 4>\n",
      "  co_varnames : ()\n",
      "  co_names    : ('__name__', '__module__', '__call__', 'm')\n",
      "  co_freevars : ()\n",
      "  4           0 LOAD_NAME                0 (__name__)\n",
      "              3 STORE_NAME               1 (__module__)\n",
      "\n",
      "  5           6 LOAD_CONST               0 (<code object __call__ at 0000000009F2E430, file \"sample\\bc04.py\", line 5>)\n",
      "              9 MAKE_FUNCTION            0\n",
      "             12 STORE_NAME               2 (__call__)\n",
      "\n",
      "  7          15 LOAD_CONST               1 (<code object m at 0000000009F2EDB0, file \"sample\\bc04.py\", line 7>)\n",
      "             18 MAKE_FUNCTION            0\n",
      "             21 STORE_NAME               3 (m)\n",
      "             24 LOAD_LOCALS         \n",
      "             25 RETURN_VALUE        \n",
      "\n",
      "[ co_name: .<module> ] ------- <code object <module> at 0000000009F2ED30, file \"sample\\bc04.py\", line 1>\n",
      "  co_varnames : ()\n",
      "  co_names    : ('f', 'object', 'A', 'a', 'm')\n",
      "  co_freevars : ()\n",
      "  1           0 LOAD_CONST               0 (<code object f at 0000000009F2EBB0, file \"sample\\bc04.py\", line 1>)\n",
      "              3 MAKE_FUNCTION            0\n",
      "              6 STORE_NAME               0 (f)\n",
      "\n",
      "  4           9 LOAD_CONST               1 ('A')\n",
      "             12 LOAD_NAME                1 (object)\n",
      "             15 BUILD_TUPLE              1\n",
      "             18 LOAD_CONST               2 (<code object A at 0000000009F2E930, file \"sample\\bc04.py\", line 4>)\n",
      "             21 MAKE_FUNCTION            0\n",
      "             24 CALL_FUNCTION            0\n",
      "             27 BUILD_CLASS         \n",
      "             28 STORE_NAME               2 (A)\n",
      "\n",
      " 10          31 LOAD_NAME                0 (f)\n",
      "             34 LOAD_CONST               3 (7)\n",
      "             37 CALL_FUNCTION            1\n",
      "             40 POP_TOP             \n",
      "\n",
      " 11          41 LOAD_NAME                2 (A)\n",
      "             44 CALL_FUNCTION            0\n",
      "             47 STORE_NAME               3 (a)\n",
      "\n",
      " 12          50 LOAD_NAME                3 (a)\n",
      "             53 LOAD_ATTR                4 (m)\n",
      "             56 LOAD_CONST               4 (8)\n",
      "             59 CALL_FUNCTION            1\n",
      "             62 POP_TOP             \n",
      "\n",
      " 13          63 LOAD_NAME                3 (a)\n",
      "             66 LOAD_ATTR                4 (m)\n",
      "             69 LOAD_CONST               5 (9)\n",
      "             72 CALL_FUNCTION            1\n",
      "             75 POP_TOP             \n",
      "\n",
      " 14          76 LOAD_NAME                3 (a)\n",
      "             79 CALL_FUNCTION            0\n",
      "             82 POP_TOP             \n",
      "             83 LOAD_CONST               6 (None)\n",
      "             86 RETURN_VALUE        \n"
     ]
    }
   ],
   "source": [
    "tst('bc04.py')"
   ]
  },
  {
   "cell_type": "markdown",
   "metadata": {},
   "source": [
    "最後のコードオブジェクトのダンプを見る。命令の左側の数値ががソースコードの行番号になっている。ソースの 10行目～14行目はそれぞれ、関数呼び出し、インスタンス化、メソッド呼び出し、同一のメソッド呼び出し、オブジェクト呼び出し、となっている。これらのどれをとっても、CALL_FUNCTION が呼ばれていて、関数呼び出しと区別がないというのが特徴である。\n",
    "\n",
    "また、メソッド呼び出しは対象となるオブジェクトを名前 a から取得し(LOAD_NAME)、名前 m の属性値を取得する(LOAD_ATTR)、という二段のステップが必要となることがわかる。また、ソースコード上で同一のメソッド呼び出し(二回目の a.m())であっても、この二段のステップは省略されない。Pythonは動的な言語であるため、メソッド呼び出し a.m() で a.m あるいは type(a).m を別の関数等に変更できるためである。\n",
    "\n",
    "もし、同じオブジェクト a のメソッド m を何度も呼び出すのであれば、\n",
    "```python\n",
    "bm = a.m         # bm は bound メソッドオブジェクト\n",
    "for v in ...:    # ... は引数列\n",
    "    bm(v)\n",
    "\n",
    "```\n",
    "とするか、クラス A の多数の異なるインスタンスに対してメソッド m を呼び出すのであれば、\n",
    "```python\n",
    "um = A.m         # um は unbound メソッドオブジェクト\n",
    "for o in ...:    # ... はクラスAのインスタンス列\n",
    "    um(o, arg)\n",
    "```\n",
    "としなければならない。余談ではあるが、um (== A.m) の呼び出しでは第一引数のクラスのチェックが行なわれたあと根底の関数の呼び出しが発生するので、より効率をあげるなら、\n",
    "```python\n",
    "f = A.m.im_func  # f はメソッドの根底にある関数オブジェクト\n",
    "for o in ...:    # ... はクラスAのインスタンス列\n",
    "    f(o, arg)\n",
    "```\n",
    "とする方法がある。\n",
    "\n",
    "なお、A.__dict__['m'] が関数オブジェクトの場合の a.m や A.m の属性参照(LOAD_ATTR)では、通常の属性参照の動作に加えて関数オブジェクトからメソッドオブジェクトへの変換が発生する。このメカニズムは関数オブジェクトがディスクリプタとして実装されていることによる。"
   ]
  },
  {
   "cell_type": "markdown",
   "metadata": {},
   "source": [
    "### インポート文"
   ]
  },
  {
   "cell_type": "markdown",
   "metadata": {},
   "source": [
    "最後に import 文について見てみる。"
   ]
  },
  {
   "cell_type": "code",
   "execution_count": 12,
   "metadata": {
    "collapsed": false
   },
   "outputs": [
    {
     "name": "stdout",
     "output_type": "stream",
     "text": [
      "<< sample\\bc05.py >>\n",
      "     1\timport pkg.subpkg.moda\n",
      "     2\timport pkg.subpkg.modb as _b\n",
      "     3\tfrom pkg.subpkg import modc as _c\n",
      "     4\tfrom pkg.subpkg import *\n",
      "\n",
      "<< sample\\bc05.pyc >>\n",
      "[ co_name: .<module> ] ------- <code object <module> at 0000000009F2EBB0, file \"sample\\bc05.py\", line 1>\n",
      "  co_varnames : ()\n",
      "  co_names    : ('pkg.subpkg.moda', 'pkg', 'pkg.subpkg.modb', 'subpkg', 'modb', '_b', 'pkg.subpkg', 'modc', '_c')\n",
      "  co_freevars : ()\n",
      "  1           0 LOAD_CONST               0 (-1)\n",
      "              3 LOAD_CONST               1 (None)\n",
      "              6 IMPORT_NAME              0 (pkg.subpkg.moda)\n",
      "              9 STORE_NAME               1 (pkg)\n",
      "\n",
      "  2          12 LOAD_CONST               0 (-1)\n",
      "             15 LOAD_CONST               1 (None)\n",
      "             18 IMPORT_NAME              2 (pkg.subpkg.modb)\n",
      "             21 LOAD_ATTR                3 (subpkg)\n",
      "             24 LOAD_ATTR                4 (modb)\n",
      "             27 STORE_NAME               5 (_b)\n",
      "\n",
      "  3          30 LOAD_CONST               0 (-1)\n",
      "             33 LOAD_CONST               2 (('modc',))\n",
      "             36 IMPORT_NAME              6 (pkg.subpkg)\n",
      "             39 IMPORT_FROM              7 (modc)\n",
      "             42 STORE_NAME               8 (_c)\n",
      "             45 POP_TOP             \n",
      "\n",
      "  4          46 LOAD_CONST               0 (-1)\n",
      "             49 LOAD_CONST               3 (('*',))\n",
      "             52 IMPORT_NAME              6 (pkg.subpkg)\n",
      "             55 IMPORT_STAR         \n",
      "             56 LOAD_CONST               1 (None)\n",
      "             59 RETURN_VALUE        \n"
     ]
    }
   ],
   "source": [
    "tst('bc05.py')"
   ]
  },
  {
   "cell_type": "markdown",
   "metadata": {},
   "source": [
    "モジュールの import は IMPORT_NAME でモジュールの読み込みとモジュールトップレベルのコードオブジェクトの実行が行なわれる。多階層(pkg.subpkg.moda)のモジュールを指定した場合でも、IMPORT_NAME は最上位(pkg)のモジュールオブジェクトをスタックに積む。\n",
    "\n",
    "2行目の import 文のように多階層の末端のモジュール(modb)に別名(\\_b)を指定つける場合は、IMPORT_NAME による pkg から階層に応じて LOAD_ATTR を行なって目的のモジュール(modb)を取得する必要がある。\n",
    "\n",
    "一方 2行目と実質的に同じ効果をもつ3行目の from 形式では、IMPORT_FROM 一発で目的のモジュール(modc)を取得している。\n",
    "\n",
    "4行目のワイルドカード形式では、IMPORT\\_STAR 命令の実装部分で、\\_\\_all\\_\\_ の検索などが行なわれる。"
   ]
  },
  {
   "cell_type": "markdown",
   "metadata": {},
   "source": [
    "## 普通は dis.dis() で十分"
   ]
  },
  {
   "cell_type": "markdown",
   "metadata": {},
   "source": [
    "これまでは、モジュールインポート時のクラス定義などを調べる目的もあり、バイトコードファイルを対象として、コードオブジェクトを再帰的にダンプする関数を定義した。しかし、例えば for 文の構造やリスト内包表記、キーワード付き引数を伴った関数呼び出しなどを調べるのであれば、調べたいコードを関数の内部に定義してしまえば、標準の dis.dis() で簡単に調べることができる。"
   ]
  },
  {
   "cell_type": "code",
   "execution_count": 13,
   "metadata": {
    "collapsed": false
   },
   "outputs": [
    {
     "name": "stdout",
     "output_type": "stream",
     "text": [
      "  2           0 BUILD_LIST               0\n",
      "              3 LOAD_GLOBAL              0 (range)\n",
      "              6 LOAD_CONST               1 (10)\n",
      "              9 CALL_FUNCTION            1\n",
      "             12 GET_ITER            \n",
      "        >>   13 FOR_ITER                16 (to 32)\n",
      "             16 STORE_FAST               0 (n)\n",
      "             19 LOAD_FAST                0 (n)\n",
      "             22 LOAD_CONST               2 (2)\n",
      "             25 BINARY_MULTIPLY     \n",
      "             26 LIST_APPEND              2\n",
      "             29 JUMP_ABSOLUTE           13\n",
      "        >>   32 RETURN_VALUE        \n"
     ]
    }
   ],
   "source": [
    "def f():\n",
    "    return [n*2 for n in range(10)]\n",
    "\n",
    "dis.dis(f)"
   ]
  },
  {
   "cell_type": "markdown",
   "metadata": {},
   "source": [
    "ちなみに、リスト内包表記をモジュールレベルで記述すると以下のようになる。"
   ]
  },
  {
   "cell_type": "code",
   "execution_count": 14,
   "metadata": {
    "collapsed": false
   },
   "outputs": [
    {
     "name": "stdout",
     "output_type": "stream",
     "text": [
      "<< sample\\bc06.py >>\n",
      "     1\t[n*2 for n in range(10)]\n",
      "\n",
      "<< sample\\bc06.pyc >>\n",
      "[ co_name: .<module> ] ------- <code object <module> at 0000000009F2E430, file \"sample\\bc06.py\", line 1>\n",
      "  co_varnames : ()\n",
      "  co_names    : ('range', 'n')\n",
      "  co_freevars : ()\n",
      "  1           0 BUILD_LIST               0\n",
      "              3 LOAD_NAME                0 (range)\n",
      "              6 LOAD_CONST               0 (10)\n",
      "              9 CALL_FUNCTION            1\n",
      "             12 GET_ITER            \n",
      "        >>   13 FOR_ITER                16 (to 32)\n",
      "             16 STORE_NAME               1 (n)\n",
      "             19 LOAD_NAME                1 (n)\n",
      "             22 LOAD_CONST               1 (2)\n",
      "             25 BINARY_MULTIPLY     \n",
      "             26 LIST_APPEND              2\n",
      "             29 JUMP_ABSOLUTE           13\n",
      "        >>   32 POP_TOP             \n",
      "             33 LOAD_CONST               2 (None)\n",
      "             36 RETURN_VALUE        \n"
     ]
    }
   ],
   "source": [
    "tst('bc06.py')"
   ]
  },
  {
   "cell_type": "markdown",
   "metadata": {},
   "source": [
    "range や変数名 n を扱う命令が異なっていることに気づく。関数内のローカル変数の保存には、通常の辞書タイプの他に特別なストレージがあり、STORE_FAST, LOAD_FAST は後者を用いて高速に変数へのアクセスが可能となっている。"
   ]
  },
  {
   "cell_type": "markdown",
   "metadata": {},
   "source": [
    "## まとめ"
   ]
  },
  {
   "cell_type": "markdown",
   "metadata": {},
   "source": [
    "バイトコードファイル全体をダンプすることで、モジュールインポート時の動作を知ることができる。特にクラスがどのように定義されるかを知ることは、Python の名前とオブジェクトの関係性などを正しく理解するために有用である。\n",
    "\n",
    "一方、バイトコードレベルでは見えない特性も多くある。Cによる実装まで踏みこんでみると、オブジェクトの呼び出し(CALL_FUNCTION系)とクラス生成(BUILD_CLASS)の共通の構造などを垣間見ることもでき、より Python の理解を深めることができるのでチャレンジしてみたい。"
   ]
  }
 ],
 "metadata": {
  "anaconda-cloud": {},
  "kernelspec": {
   "display_name": "Python [default]",
   "language": "python",
   "name": "python2"
  },
  "language_info": {
   "codemirror_mode": {
    "name": "ipython",
    "version": 2
   },
   "file_extension": ".py",
   "mimetype": "text/x-python",
   "name": "python",
   "nbconvert_exporter": "python",
   "pygments_lexer": "ipython2",
   "version": "2.7.12"
  }
 },
 "nbformat": 4,
 "nbformat_minor": 0
}
